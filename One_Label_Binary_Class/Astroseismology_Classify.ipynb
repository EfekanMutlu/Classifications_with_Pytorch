{
  "nbformat": 4,
  "nbformat_minor": 0,
  "metadata": {
    "colab": {
      "provenance": [],
      "authorship_tag": "ABX9TyNxEvywInKNdpMPV3CWdBU9",
      "include_colab_link": true
    },
    "kernelspec": {
      "name": "python3",
      "display_name": "Python 3"
    },
    "language_info": {
      "name": "python"
    },
    "gpuClass": "standard",
    "widgets": {
      "application/vnd.jupyter.widget-state+json": {
        "95af66c5277b4822b8717dbf83b5a1e0": {
          "model_module": "@jupyter-widgets/controls",
          "model_name": "HBoxModel",
          "model_module_version": "1.5.0",
          "state": {
            "_dom_classes": [],
            "_model_module": "@jupyter-widgets/controls",
            "_model_module_version": "1.5.0",
            "_model_name": "HBoxModel",
            "_view_count": null,
            "_view_module": "@jupyter-widgets/controls",
            "_view_module_version": "1.5.0",
            "_view_name": "HBoxView",
            "box_style": "",
            "children": [
              "IPY_MODEL_550b26b7030b459790dd25726f3a623f",
              "IPY_MODEL_98a3c9e10a0a4cba9fe92e7af6d0e1ee",
              "IPY_MODEL_86374061e8b2432ea264254efbfb6a2f"
            ],
            "layout": "IPY_MODEL_4c9657e86c15499e9fca403e82598770"
          }
        },
        "550b26b7030b459790dd25726f3a623f": {
          "model_module": "@jupyter-widgets/controls",
          "model_name": "HTMLModel",
          "model_module_version": "1.5.0",
          "state": {
            "_dom_classes": [],
            "_model_module": "@jupyter-widgets/controls",
            "_model_module_version": "1.5.0",
            "_model_name": "HTMLModel",
            "_view_count": null,
            "_view_module": "@jupyter-widgets/controls",
            "_view_module_version": "1.5.0",
            "_view_name": "HTMLView",
            "description": "",
            "description_tooltip": null,
            "layout": "IPY_MODEL_86088f0cd40243a89dddfb9a9c0813b2",
            "placeholder": "​",
            "style": "IPY_MODEL_9250435148944f50b4d37b12ae50132c",
            "value": "100%"
          }
        },
        "98a3c9e10a0a4cba9fe92e7af6d0e1ee": {
          "model_module": "@jupyter-widgets/controls",
          "model_name": "FloatProgressModel",
          "model_module_version": "1.5.0",
          "state": {
            "_dom_classes": [],
            "_model_module": "@jupyter-widgets/controls",
            "_model_module_version": "1.5.0",
            "_model_name": "FloatProgressModel",
            "_view_count": null,
            "_view_module": "@jupyter-widgets/controls",
            "_view_module_version": "1.5.0",
            "_view_name": "ProgressView",
            "bar_style": "success",
            "description": "",
            "description_tooltip": null,
            "layout": "IPY_MODEL_66474084b08c426388ba411183ee3064",
            "max": 160,
            "min": 0,
            "orientation": "horizontal",
            "style": "IPY_MODEL_0815a3a7505a4057aca05bbed9c0cbfb",
            "value": 160
          }
        },
        "86374061e8b2432ea264254efbfb6a2f": {
          "model_module": "@jupyter-widgets/controls",
          "model_name": "HTMLModel",
          "model_module_version": "1.5.0",
          "state": {
            "_dom_classes": [],
            "_model_module": "@jupyter-widgets/controls",
            "_model_module_version": "1.5.0",
            "_model_name": "HTMLModel",
            "_view_count": null,
            "_view_module": "@jupyter-widgets/controls",
            "_view_module_version": "1.5.0",
            "_view_name": "HTMLView",
            "description": "",
            "description_tooltip": null,
            "layout": "IPY_MODEL_01615d0f330b4b7180d3767eba0939e0",
            "placeholder": "​",
            "style": "IPY_MODEL_3718665fce884a1e99502ba96cdb7c52",
            "value": " 160/160 [00:23&lt;00:00,  6.29it/s]"
          }
        },
        "4c9657e86c15499e9fca403e82598770": {
          "model_module": "@jupyter-widgets/base",
          "model_name": "LayoutModel",
          "model_module_version": "1.2.0",
          "state": {
            "_model_module": "@jupyter-widgets/base",
            "_model_module_version": "1.2.0",
            "_model_name": "LayoutModel",
            "_view_count": null,
            "_view_module": "@jupyter-widgets/base",
            "_view_module_version": "1.2.0",
            "_view_name": "LayoutView",
            "align_content": null,
            "align_items": null,
            "align_self": null,
            "border": null,
            "bottom": null,
            "display": null,
            "flex": null,
            "flex_flow": null,
            "grid_area": null,
            "grid_auto_columns": null,
            "grid_auto_flow": null,
            "grid_auto_rows": null,
            "grid_column": null,
            "grid_gap": null,
            "grid_row": null,
            "grid_template_areas": null,
            "grid_template_columns": null,
            "grid_template_rows": null,
            "height": null,
            "justify_content": null,
            "justify_items": null,
            "left": null,
            "margin": null,
            "max_height": null,
            "max_width": null,
            "min_height": null,
            "min_width": null,
            "object_fit": null,
            "object_position": null,
            "order": null,
            "overflow": null,
            "overflow_x": null,
            "overflow_y": null,
            "padding": null,
            "right": null,
            "top": null,
            "visibility": null,
            "width": null
          }
        },
        "86088f0cd40243a89dddfb9a9c0813b2": {
          "model_module": "@jupyter-widgets/base",
          "model_name": "LayoutModel",
          "model_module_version": "1.2.0",
          "state": {
            "_model_module": "@jupyter-widgets/base",
            "_model_module_version": "1.2.0",
            "_model_name": "LayoutModel",
            "_view_count": null,
            "_view_module": "@jupyter-widgets/base",
            "_view_module_version": "1.2.0",
            "_view_name": "LayoutView",
            "align_content": null,
            "align_items": null,
            "align_self": null,
            "border": null,
            "bottom": null,
            "display": null,
            "flex": null,
            "flex_flow": null,
            "grid_area": null,
            "grid_auto_columns": null,
            "grid_auto_flow": null,
            "grid_auto_rows": null,
            "grid_column": null,
            "grid_gap": null,
            "grid_row": null,
            "grid_template_areas": null,
            "grid_template_columns": null,
            "grid_template_rows": null,
            "height": null,
            "justify_content": null,
            "justify_items": null,
            "left": null,
            "margin": null,
            "max_height": null,
            "max_width": null,
            "min_height": null,
            "min_width": null,
            "object_fit": null,
            "object_position": null,
            "order": null,
            "overflow": null,
            "overflow_x": null,
            "overflow_y": null,
            "padding": null,
            "right": null,
            "top": null,
            "visibility": null,
            "width": null
          }
        },
        "9250435148944f50b4d37b12ae50132c": {
          "model_module": "@jupyter-widgets/controls",
          "model_name": "DescriptionStyleModel",
          "model_module_version": "1.5.0",
          "state": {
            "_model_module": "@jupyter-widgets/controls",
            "_model_module_version": "1.5.0",
            "_model_name": "DescriptionStyleModel",
            "_view_count": null,
            "_view_module": "@jupyter-widgets/base",
            "_view_module_version": "1.2.0",
            "_view_name": "StyleView",
            "description_width": ""
          }
        },
        "66474084b08c426388ba411183ee3064": {
          "model_module": "@jupyter-widgets/base",
          "model_name": "LayoutModel",
          "model_module_version": "1.2.0",
          "state": {
            "_model_module": "@jupyter-widgets/base",
            "_model_module_version": "1.2.0",
            "_model_name": "LayoutModel",
            "_view_count": null,
            "_view_module": "@jupyter-widgets/base",
            "_view_module_version": "1.2.0",
            "_view_name": "LayoutView",
            "align_content": null,
            "align_items": null,
            "align_self": null,
            "border": null,
            "bottom": null,
            "display": null,
            "flex": null,
            "flex_flow": null,
            "grid_area": null,
            "grid_auto_columns": null,
            "grid_auto_flow": null,
            "grid_auto_rows": null,
            "grid_column": null,
            "grid_gap": null,
            "grid_row": null,
            "grid_template_areas": null,
            "grid_template_columns": null,
            "grid_template_rows": null,
            "height": null,
            "justify_content": null,
            "justify_items": null,
            "left": null,
            "margin": null,
            "max_height": null,
            "max_width": null,
            "min_height": null,
            "min_width": null,
            "object_fit": null,
            "object_position": null,
            "order": null,
            "overflow": null,
            "overflow_x": null,
            "overflow_y": null,
            "padding": null,
            "right": null,
            "top": null,
            "visibility": null,
            "width": null
          }
        },
        "0815a3a7505a4057aca05bbed9c0cbfb": {
          "model_module": "@jupyter-widgets/controls",
          "model_name": "ProgressStyleModel",
          "model_module_version": "1.5.0",
          "state": {
            "_model_module": "@jupyter-widgets/controls",
            "_model_module_version": "1.5.0",
            "_model_name": "ProgressStyleModel",
            "_view_count": null,
            "_view_module": "@jupyter-widgets/base",
            "_view_module_version": "1.2.0",
            "_view_name": "StyleView",
            "bar_color": null,
            "description_width": ""
          }
        },
        "01615d0f330b4b7180d3767eba0939e0": {
          "model_module": "@jupyter-widgets/base",
          "model_name": "LayoutModel",
          "model_module_version": "1.2.0",
          "state": {
            "_model_module": "@jupyter-widgets/base",
            "_model_module_version": "1.2.0",
            "_model_name": "LayoutModel",
            "_view_count": null,
            "_view_module": "@jupyter-widgets/base",
            "_view_module_version": "1.2.0",
            "_view_name": "LayoutView",
            "align_content": null,
            "align_items": null,
            "align_self": null,
            "border": null,
            "bottom": null,
            "display": null,
            "flex": null,
            "flex_flow": null,
            "grid_area": null,
            "grid_auto_columns": null,
            "grid_auto_flow": null,
            "grid_auto_rows": null,
            "grid_column": null,
            "grid_gap": null,
            "grid_row": null,
            "grid_template_areas": null,
            "grid_template_columns": null,
            "grid_template_rows": null,
            "height": null,
            "justify_content": null,
            "justify_items": null,
            "left": null,
            "margin": null,
            "max_height": null,
            "max_width": null,
            "min_height": null,
            "min_width": null,
            "object_fit": null,
            "object_position": null,
            "order": null,
            "overflow": null,
            "overflow_x": null,
            "overflow_y": null,
            "padding": null,
            "right": null,
            "top": null,
            "visibility": null,
            "width": null
          }
        },
        "3718665fce884a1e99502ba96cdb7c52": {
          "model_module": "@jupyter-widgets/controls",
          "model_name": "DescriptionStyleModel",
          "model_module_version": "1.5.0",
          "state": {
            "_model_module": "@jupyter-widgets/controls",
            "_model_module_version": "1.5.0",
            "_model_name": "DescriptionStyleModel",
            "_view_count": null,
            "_view_module": "@jupyter-widgets/base",
            "_view_module_version": "1.2.0",
            "_view_name": "StyleView",
            "description_width": ""
          }
        }
      }
    }
  },
  "cells": [
    {
      "cell_type": "markdown",
      "metadata": {
        "id": "view-in-github",
        "colab_type": "text"
      },
      "source": [
        "<a href=\"https://colab.research.google.com/github/EfekanMutlu/Classifications_with_Pytorch/blob/main/One_Label_Binary_Class/Astroseismology_Classify.ipynb\" target=\"_parent\"><img src=\"https://colab.research.google.com/assets/colab-badge.svg\" alt=\"Open In Colab\"/></a>"
      ]
    },
    {
      "cell_type": "markdown",
      "source": [
        "# **A Binary Classification Example with Pytorch: RGB-HeB classification in Asteroseismology**\n",
        "by *Efekan Mutlu*\n",
        "\n",
        "In this project, we have an asteroseismological data set. Using this data, I will perform the binary classification. This classification can be done in many different ways, but here I will use a binary-classification model using Pytorch. In this project, we will first review our dataset, then visualize the data for better analysis, and finally, build a neural network using Pytorch and test its efficiency."
      ],
      "metadata": {
        "id": "v_1xSGNDI4Hj"
      }
    },
    {
      "cell_type": "code",
      "source": [
        "import numpy as np\n",
        "import pandas as pd\n",
        "import matplotlib.pyplot as plt\n",
        "import seaborn as sns\n",
        "import plotly.express as px\n",
        "\n",
        "from tqdm.notebook import tqdm\n",
        "\n",
        "import torch\n",
        "import torch.nn as nn\n",
        "import torch.optim as optim\n",
        "from torch.utils.data import Dataset, DataLoader\n",
        "\n",
        "from sklearn.preprocessing import MinMaxScaler    \n",
        "from sklearn.model_selection import train_test_split\n",
        "from sklearn.metrics import accuracy_score,classification_report,confusion_matrix\n",
        "from sklearn import metrics"
      ],
      "metadata": {
        "id": "AY36RNbzjAQh"
      },
      "execution_count": null,
      "outputs": []
    },
    {
      "cell_type": "code",
      "source": [
        "\n",
        "file=\"classification_in_asteroseismology.csv\"\n",
        "df=pd.read_csv(file)\n",
        "df"
      ],
      "metadata": {
        "colab": {
          "base_uri": "https://localhost:8080/",
          "height": 423
        },
        "id": "1vsSq9UijDo-",
        "outputId": "b7bc5781-c204-4ac9-c26d-3b9b9f58be18"
      },
      "execution_count": null,
      "outputs": [
        {
          "output_type": "execute_result",
          "data": {
            "text/plain": [
              "      POP       Dnu      numax  epsilon\n",
              "0       1   4.44780   43.06289    0.985\n",
              "1       0   6.94399   74.07646    0.150\n",
              "2       1   2.64571   21.57891    0.855\n",
              "3       1   4.24168   32.13189    0.840\n",
              "4       0  10.44719  120.37356    0.275\n",
              "...   ...       ...        ...      ...\n",
              "996     0   5.51582   49.99920    0.060\n",
              "997     1   4.14823   32.09069    0.930\n",
              "998     1   3.98294   30.90257    0.880\n",
              "999     1   4.33893   45.62183    0.975\n",
              "1000    1   3.74869   37.94907    0.205\n",
              "\n",
              "[1001 rows x 4 columns]"
            ],
            "text/html": [
              "\n",
              "  <div id=\"df-bad66779-dfea-4f6e-a8dc-80b747383dc3\">\n",
              "    <div class=\"colab-df-container\">\n",
              "      <div>\n",
              "<style scoped>\n",
              "    .dataframe tbody tr th:only-of-type {\n",
              "        vertical-align: middle;\n",
              "    }\n",
              "\n",
              "    .dataframe tbody tr th {\n",
              "        vertical-align: top;\n",
              "    }\n",
              "\n",
              "    .dataframe thead th {\n",
              "        text-align: right;\n",
              "    }\n",
              "</style>\n",
              "<table border=\"1\" class=\"dataframe\">\n",
              "  <thead>\n",
              "    <tr style=\"text-align: right;\">\n",
              "      <th></th>\n",
              "      <th>POP</th>\n",
              "      <th>Dnu</th>\n",
              "      <th>numax</th>\n",
              "      <th>epsilon</th>\n",
              "    </tr>\n",
              "  </thead>\n",
              "  <tbody>\n",
              "    <tr>\n",
              "      <th>0</th>\n",
              "      <td>1</td>\n",
              "      <td>4.44780</td>\n",
              "      <td>43.06289</td>\n",
              "      <td>0.985</td>\n",
              "    </tr>\n",
              "    <tr>\n",
              "      <th>1</th>\n",
              "      <td>0</td>\n",
              "      <td>6.94399</td>\n",
              "      <td>74.07646</td>\n",
              "      <td>0.150</td>\n",
              "    </tr>\n",
              "    <tr>\n",
              "      <th>2</th>\n",
              "      <td>1</td>\n",
              "      <td>2.64571</td>\n",
              "      <td>21.57891</td>\n",
              "      <td>0.855</td>\n",
              "    </tr>\n",
              "    <tr>\n",
              "      <th>3</th>\n",
              "      <td>1</td>\n",
              "      <td>4.24168</td>\n",
              "      <td>32.13189</td>\n",
              "      <td>0.840</td>\n",
              "    </tr>\n",
              "    <tr>\n",
              "      <th>4</th>\n",
              "      <td>0</td>\n",
              "      <td>10.44719</td>\n",
              "      <td>120.37356</td>\n",
              "      <td>0.275</td>\n",
              "    </tr>\n",
              "    <tr>\n",
              "      <th>...</th>\n",
              "      <td>...</td>\n",
              "      <td>...</td>\n",
              "      <td>...</td>\n",
              "      <td>...</td>\n",
              "    </tr>\n",
              "    <tr>\n",
              "      <th>996</th>\n",
              "      <td>0</td>\n",
              "      <td>5.51582</td>\n",
              "      <td>49.99920</td>\n",
              "      <td>0.060</td>\n",
              "    </tr>\n",
              "    <tr>\n",
              "      <th>997</th>\n",
              "      <td>1</td>\n",
              "      <td>4.14823</td>\n",
              "      <td>32.09069</td>\n",
              "      <td>0.930</td>\n",
              "    </tr>\n",
              "    <tr>\n",
              "      <th>998</th>\n",
              "      <td>1</td>\n",
              "      <td>3.98294</td>\n",
              "      <td>30.90257</td>\n",
              "      <td>0.880</td>\n",
              "    </tr>\n",
              "    <tr>\n",
              "      <th>999</th>\n",
              "      <td>1</td>\n",
              "      <td>4.33893</td>\n",
              "      <td>45.62183</td>\n",
              "      <td>0.975</td>\n",
              "    </tr>\n",
              "    <tr>\n",
              "      <th>1000</th>\n",
              "      <td>1</td>\n",
              "      <td>3.74869</td>\n",
              "      <td>37.94907</td>\n",
              "      <td>0.205</td>\n",
              "    </tr>\n",
              "  </tbody>\n",
              "</table>\n",
              "<p>1001 rows × 4 columns</p>\n",
              "</div>\n",
              "      <button class=\"colab-df-convert\" onclick=\"convertToInteractive('df-bad66779-dfea-4f6e-a8dc-80b747383dc3')\"\n",
              "              title=\"Convert this dataframe to an interactive table.\"\n",
              "              style=\"display:none;\">\n",
              "        \n",
              "  <svg xmlns=\"http://www.w3.org/2000/svg\" height=\"24px\"viewBox=\"0 0 24 24\"\n",
              "       width=\"24px\">\n",
              "    <path d=\"M0 0h24v24H0V0z\" fill=\"none\"/>\n",
              "    <path d=\"M18.56 5.44l.94 2.06.94-2.06 2.06-.94-2.06-.94-.94-2.06-.94 2.06-2.06.94zm-11 1L8.5 8.5l.94-2.06 2.06-.94-2.06-.94L8.5 2.5l-.94 2.06-2.06.94zm10 10l.94 2.06.94-2.06 2.06-.94-2.06-.94-.94-2.06-.94 2.06-2.06.94z\"/><path d=\"M17.41 7.96l-1.37-1.37c-.4-.4-.92-.59-1.43-.59-.52 0-1.04.2-1.43.59L10.3 9.45l-7.72 7.72c-.78.78-.78 2.05 0 2.83L4 21.41c.39.39.9.59 1.41.59.51 0 1.02-.2 1.41-.59l7.78-7.78 2.81-2.81c.8-.78.8-2.07 0-2.86zM5.41 20L4 18.59l7.72-7.72 1.47 1.35L5.41 20z\"/>\n",
              "  </svg>\n",
              "      </button>\n",
              "      \n",
              "  <style>\n",
              "    .colab-df-container {\n",
              "      display:flex;\n",
              "      flex-wrap:wrap;\n",
              "      gap: 12px;\n",
              "    }\n",
              "\n",
              "    .colab-df-convert {\n",
              "      background-color: #E8F0FE;\n",
              "      border: none;\n",
              "      border-radius: 50%;\n",
              "      cursor: pointer;\n",
              "      display: none;\n",
              "      fill: #1967D2;\n",
              "      height: 32px;\n",
              "      padding: 0 0 0 0;\n",
              "      width: 32px;\n",
              "    }\n",
              "\n",
              "    .colab-df-convert:hover {\n",
              "      background-color: #E2EBFA;\n",
              "      box-shadow: 0px 1px 2px rgba(60, 64, 67, 0.3), 0px 1px 3px 1px rgba(60, 64, 67, 0.15);\n",
              "      fill: #174EA6;\n",
              "    }\n",
              "\n",
              "    [theme=dark] .colab-df-convert {\n",
              "      background-color: #3B4455;\n",
              "      fill: #D2E3FC;\n",
              "    }\n",
              "\n",
              "    [theme=dark] .colab-df-convert:hover {\n",
              "      background-color: #434B5C;\n",
              "      box-shadow: 0px 1px 3px 1px rgba(0, 0, 0, 0.15);\n",
              "      filter: drop-shadow(0px 1px 2px rgba(0, 0, 0, 0.3));\n",
              "      fill: #FFFFFF;\n",
              "    }\n",
              "  </style>\n",
              "\n",
              "      <script>\n",
              "        const buttonEl =\n",
              "          document.querySelector('#df-bad66779-dfea-4f6e-a8dc-80b747383dc3 button.colab-df-convert');\n",
              "        buttonEl.style.display =\n",
              "          google.colab.kernel.accessAllowed ? 'block' : 'none';\n",
              "\n",
              "        async function convertToInteractive(key) {\n",
              "          const element = document.querySelector('#df-bad66779-dfea-4f6e-a8dc-80b747383dc3');\n",
              "          const dataTable =\n",
              "            await google.colab.kernel.invokeFunction('convertToInteractive',\n",
              "                                                     [key], {});\n",
              "          if (!dataTable) return;\n",
              "\n",
              "          const docLinkHtml = 'Like what you see? Visit the ' +\n",
              "            '<a target=\"_blank\" href=https://colab.research.google.com/notebooks/data_table.ipynb>data table notebook</a>'\n",
              "            + ' to learn more about interactive tables.';\n",
              "          element.innerHTML = '';\n",
              "          dataTable['output_type'] = 'display_data';\n",
              "          await google.colab.output.renderOutput(dataTable, element);\n",
              "          const docLink = document.createElement('div');\n",
              "          docLink.innerHTML = docLinkHtml;\n",
              "          element.appendChild(docLink);\n",
              "        }\n",
              "      </script>\n",
              "    </div>\n",
              "  </div>\n",
              "  "
            ]
          },
          "metadata": {},
          "execution_count": 3
        }
      ]
    },
    {
      "cell_type": "markdown",
      "source": [
        "*Asteroseismology* is a branch of science that is used to study the vibrations of stars. These three columns represent important concepts used in asteroseismology to understand the vibrations of stars.\n",
        "\n",
        "1. **Dnu:** The vibrations of stars are defined as modes with a specific degree and \n",
        "order. This column represents the average large frequency range between modes of the same degree and order. This is a measure that reflects the internal structure or size of the star.\n",
        "\n",
        "2. **numax:** This column represents the maximum frequency of the star's vibration power. This value indicates how deeply the internal structure of the star is investigated and which regions are active.\n",
        "\n",
        "3. **epsilon:** This value indicates how homogeneous the internal structure of the star is and which regions are more irregular.\n",
        "\n",
        "4. **0 *as* RGB (Red Giant Branch):** It is the stage where the star has exhausted its hydrogen fuel and has begun burning helium.\n",
        "\n",
        "5. **1 *as* HeB (Helium Burning):** It is the helium burning stage and occurs at the end of the star's life."
      ],
      "metadata": {
        "id": "uy4GAjKaNp7n"
      }
    },
    {
      "cell_type": "code",
      "source": [
        "df.info()"
      ],
      "metadata": {
        "colab": {
          "base_uri": "https://localhost:8080/"
        },
        "id": "y8tIYgvBkaoX",
        "outputId": "b7d452b2-c4b4-42b7-e075-988f504d6582"
      },
      "execution_count": null,
      "outputs": [
        {
          "output_type": "stream",
          "name": "stdout",
          "text": [
            "<class 'pandas.core.frame.DataFrame'>\n",
            "RangeIndex: 1001 entries, 0 to 1000\n",
            "Data columns (total 4 columns):\n",
            " #   Column   Non-Null Count  Dtype  \n",
            "---  ------   --------------  -----  \n",
            " 0   POP      1001 non-null   int64  \n",
            " 1   Dnu      1001 non-null   float64\n",
            " 2   numax    1001 non-null   float64\n",
            " 3   epsilon  1001 non-null   float64\n",
            "dtypes: float64(3), int64(1)\n",
            "memory usage: 31.4 KB\n"
          ]
        }
      ]
    },
    {
      "cell_type": "code",
      "source": [
        "df.describe()"
      ],
      "metadata": {
        "colab": {
          "base_uri": "https://localhost:8080/",
          "height": 300
        },
        "id": "oVki7z2Vkca9",
        "outputId": "d4bb2267-174c-44a1-a7bb-f9c59501f7d4"
      },
      "execution_count": null,
      "outputs": [
        {
          "output_type": "execute_result",
          "data": {
            "text/plain": [
              "               POP          Dnu        numax      epsilon\n",
              "count  1001.000000  1001.000000  1001.000000  1001.000000\n",
              "mean      0.712288     5.774810    58.441771     0.610774\n",
              "std       0.452923     2.998103    43.425561     0.342518\n",
              "min       0.000000     2.500080    17.979780     0.005000\n",
              "25%       0.000000     4.073160    32.924350     0.220000\n",
              "50%       1.000000     4.308740    38.293160     0.815000\n",
              "75%       1.000000     6.580340    70.140830     0.890000\n",
              "max       1.000000    17.699430   239.648480     1.000000"
            ],
            "text/html": [
              "\n",
              "  <div id=\"df-d93e4e76-b262-447b-8b53-75d665dc67ba\">\n",
              "    <div class=\"colab-df-container\">\n",
              "      <div>\n",
              "<style scoped>\n",
              "    .dataframe tbody tr th:only-of-type {\n",
              "        vertical-align: middle;\n",
              "    }\n",
              "\n",
              "    .dataframe tbody tr th {\n",
              "        vertical-align: top;\n",
              "    }\n",
              "\n",
              "    .dataframe thead th {\n",
              "        text-align: right;\n",
              "    }\n",
              "</style>\n",
              "<table border=\"1\" class=\"dataframe\">\n",
              "  <thead>\n",
              "    <tr style=\"text-align: right;\">\n",
              "      <th></th>\n",
              "      <th>POP</th>\n",
              "      <th>Dnu</th>\n",
              "      <th>numax</th>\n",
              "      <th>epsilon</th>\n",
              "    </tr>\n",
              "  </thead>\n",
              "  <tbody>\n",
              "    <tr>\n",
              "      <th>count</th>\n",
              "      <td>1001.000000</td>\n",
              "      <td>1001.000000</td>\n",
              "      <td>1001.000000</td>\n",
              "      <td>1001.000000</td>\n",
              "    </tr>\n",
              "    <tr>\n",
              "      <th>mean</th>\n",
              "      <td>0.712288</td>\n",
              "      <td>5.774810</td>\n",
              "      <td>58.441771</td>\n",
              "      <td>0.610774</td>\n",
              "    </tr>\n",
              "    <tr>\n",
              "      <th>std</th>\n",
              "      <td>0.452923</td>\n",
              "      <td>2.998103</td>\n",
              "      <td>43.425561</td>\n",
              "      <td>0.342518</td>\n",
              "    </tr>\n",
              "    <tr>\n",
              "      <th>min</th>\n",
              "      <td>0.000000</td>\n",
              "      <td>2.500080</td>\n",
              "      <td>17.979780</td>\n",
              "      <td>0.005000</td>\n",
              "    </tr>\n",
              "    <tr>\n",
              "      <th>25%</th>\n",
              "      <td>0.000000</td>\n",
              "      <td>4.073160</td>\n",
              "      <td>32.924350</td>\n",
              "      <td>0.220000</td>\n",
              "    </tr>\n",
              "    <tr>\n",
              "      <th>50%</th>\n",
              "      <td>1.000000</td>\n",
              "      <td>4.308740</td>\n",
              "      <td>38.293160</td>\n",
              "      <td>0.815000</td>\n",
              "    </tr>\n",
              "    <tr>\n",
              "      <th>75%</th>\n",
              "      <td>1.000000</td>\n",
              "      <td>6.580340</td>\n",
              "      <td>70.140830</td>\n",
              "      <td>0.890000</td>\n",
              "    </tr>\n",
              "    <tr>\n",
              "      <th>max</th>\n",
              "      <td>1.000000</td>\n",
              "      <td>17.699430</td>\n",
              "      <td>239.648480</td>\n",
              "      <td>1.000000</td>\n",
              "    </tr>\n",
              "  </tbody>\n",
              "</table>\n",
              "</div>\n",
              "      <button class=\"colab-df-convert\" onclick=\"convertToInteractive('df-d93e4e76-b262-447b-8b53-75d665dc67ba')\"\n",
              "              title=\"Convert this dataframe to an interactive table.\"\n",
              "              style=\"display:none;\">\n",
              "        \n",
              "  <svg xmlns=\"http://www.w3.org/2000/svg\" height=\"24px\"viewBox=\"0 0 24 24\"\n",
              "       width=\"24px\">\n",
              "    <path d=\"M0 0h24v24H0V0z\" fill=\"none\"/>\n",
              "    <path d=\"M18.56 5.44l.94 2.06.94-2.06 2.06-.94-2.06-.94-.94-2.06-.94 2.06-2.06.94zm-11 1L8.5 8.5l.94-2.06 2.06-.94-2.06-.94L8.5 2.5l-.94 2.06-2.06.94zm10 10l.94 2.06.94-2.06 2.06-.94-2.06-.94-.94-2.06-.94 2.06-2.06.94z\"/><path d=\"M17.41 7.96l-1.37-1.37c-.4-.4-.92-.59-1.43-.59-.52 0-1.04.2-1.43.59L10.3 9.45l-7.72 7.72c-.78.78-.78 2.05 0 2.83L4 21.41c.39.39.9.59 1.41.59.51 0 1.02-.2 1.41-.59l7.78-7.78 2.81-2.81c.8-.78.8-2.07 0-2.86zM5.41 20L4 18.59l7.72-7.72 1.47 1.35L5.41 20z\"/>\n",
              "  </svg>\n",
              "      </button>\n",
              "      \n",
              "  <style>\n",
              "    .colab-df-container {\n",
              "      display:flex;\n",
              "      flex-wrap:wrap;\n",
              "      gap: 12px;\n",
              "    }\n",
              "\n",
              "    .colab-df-convert {\n",
              "      background-color: #E8F0FE;\n",
              "      border: none;\n",
              "      border-radius: 50%;\n",
              "      cursor: pointer;\n",
              "      display: none;\n",
              "      fill: #1967D2;\n",
              "      height: 32px;\n",
              "      padding: 0 0 0 0;\n",
              "      width: 32px;\n",
              "    }\n",
              "\n",
              "    .colab-df-convert:hover {\n",
              "      background-color: #E2EBFA;\n",
              "      box-shadow: 0px 1px 2px rgba(60, 64, 67, 0.3), 0px 1px 3px 1px rgba(60, 64, 67, 0.15);\n",
              "      fill: #174EA6;\n",
              "    }\n",
              "\n",
              "    [theme=dark] .colab-df-convert {\n",
              "      background-color: #3B4455;\n",
              "      fill: #D2E3FC;\n",
              "    }\n",
              "\n",
              "    [theme=dark] .colab-df-convert:hover {\n",
              "      background-color: #434B5C;\n",
              "      box-shadow: 0px 1px 3px 1px rgba(0, 0, 0, 0.15);\n",
              "      filter: drop-shadow(0px 1px 2px rgba(0, 0, 0, 0.3));\n",
              "      fill: #FFFFFF;\n",
              "    }\n",
              "  </style>\n",
              "\n",
              "      <script>\n",
              "        const buttonEl =\n",
              "          document.querySelector('#df-d93e4e76-b262-447b-8b53-75d665dc67ba button.colab-df-convert');\n",
              "        buttonEl.style.display =\n",
              "          google.colab.kernel.accessAllowed ? 'block' : 'none';\n",
              "\n",
              "        async function convertToInteractive(key) {\n",
              "          const element = document.querySelector('#df-d93e4e76-b262-447b-8b53-75d665dc67ba');\n",
              "          const dataTable =\n",
              "            await google.colab.kernel.invokeFunction('convertToInteractive',\n",
              "                                                     [key], {});\n",
              "          if (!dataTable) return;\n",
              "\n",
              "          const docLinkHtml = 'Like what you see? Visit the ' +\n",
              "            '<a target=\"_blank\" href=https://colab.research.google.com/notebooks/data_table.ipynb>data table notebook</a>'\n",
              "            + ' to learn more about interactive tables.';\n",
              "          element.innerHTML = '';\n",
              "          dataTable['output_type'] = 'display_data';\n",
              "          await google.colab.output.renderOutput(dataTable, element);\n",
              "          const docLink = document.createElement('div');\n",
              "          docLink.innerHTML = docLinkHtml;\n",
              "          element.appendChild(docLink);\n",
              "        }\n",
              "      </script>\n",
              "    </div>\n",
              "  </div>\n",
              "  "
            ]
          },
          "metadata": {},
          "execution_count": 5
        }
      ]
    },
    {
      "cell_type": "code",
      "source": [
        "f, ax = plt.subplots(1, 3, figsize=(12, 4))\n",
        "sns.distplot(df[\"Dnu\"], ax=ax[0], kde=False, hist_kws={\"alpha\": 1}, label=\"Dnu\")\n",
        "ax[0].set_title(\"Dnu\")\n",
        "sns.distplot(df[\"numax\"], ax=ax[1], kde=False, hist_kws={\"alpha\": 1}, label=\"numax\")\n",
        "ax[1].set_title(\"numax\")\n",
        "sns.distplot(df[\"epsilon\"], ax=ax[2], kde=False, hist_kws={\"alpha\": 1}, label=\"epsilon\")\n",
        "ax[2].set_title(\"epsilon\")\n",
        "plt.show()"
      ],
      "metadata": {
        "colab": {
          "base_uri": "https://localhost:8080/",
          "height": 350
        },
        "id": "SLYjKTNkL7a3",
        "outputId": "dccf44f1-35eb-443b-ec95-808b894205a6"
      },
      "execution_count": null,
      "outputs": [
        {
          "output_type": "stream",
          "name": "stderr",
          "text": [
            "/usr/local/lib/python3.8/dist-packages/seaborn/distributions.py:2619: FutureWarning: `distplot` is a deprecated function and will be removed in a future version. Please adapt your code to use either `displot` (a figure-level function with similar flexibility) or `histplot` (an axes-level function for histograms).\n",
            "  warnings.warn(msg, FutureWarning)\n"
          ]
        },
        {
          "output_type": "display_data",
          "data": {
            "text/plain": [
              "<Figure size 864x288 with 3 Axes>"
            ],
            "image/png": "[encoded data removed]"
          },
          "metadata": {
            "needs_background": "light"
          }
        }
      ]
    },
    {
      "cell_type": "markdown",
      "source": [
        "If we look at the **Dnu** and **numax** histograms, we can see that the distributions of these two variables are very similar to each other, with the only striking difference being their amplitudes. The most striking point is the **epsilon** histogram. Having a valley appearance and having two sharp edges, it will make our work easier and increase the efficiency independently of the NN architecture when doing binary classification."
      ],
      "metadata": {
        "id": "mYM0IdMzQpnZ"
      }
    },
    {
      "cell_type": "markdown",
      "source": [
        "Having three variables creates a nice opportunity for us to create a 3D scatter plot. Using the plotly.express library, you can use the mouse to examine the relationship between these three variables more closely, thus understanding the relationship between them better."
      ],
      "metadata": {
        "id": "Mno2Z7D_Q1lr"
      }
    },
    {
      "cell_type": "code",
      "source": [
        "import plotly.express as px\n",
        "fig = px.scatter_3d(df, x='Dnu', y='numax', z='epsilon', color='POP', \n",
        "                   title='Astroseismology Variables',labels={'Dnu':'Dnu','numax':'Numax','epsilon':'Epsilon','POP':'POP'})\n",
        "fig.update_traces(marker_size = 2)\n",
        "fig.show()"
      ],
      "metadata": {
        "colab": {
          "base_uri": "https://localhost:8080/",
          "height": 542
        },
        "id": "UXFc_xLV1CBB",
        "outputId": "117fa7a4-cd93-4a30-a423-efbbe94c5b60"
      },
      "execution_count": null,
      "outputs": [
        {
          "output_type": "display_data",
          "data": {
            "text/html": [
              "<html>\n",
              "<head><meta charset=\"utf-8\" /></head>\n",
              "<body>\n",
              "    <div>            <script src=\"https://cdnjs.cloudflare.com/ajax/libs/mathjax/2.7.5/MathJax.js?config=TeX-AMS-MML_SVG\"></script><script type=\"text/javascript\">if (window.MathJax) {MathJax.Hub.Config({SVG: {font: \"STIX-Web\"}});}</script>                <script type=\"text/javascript\">window.PlotlyConfig = {MathJaxConfig: 'local'};</script>\n",
              "        <script src=\"https://cdn.plot.ly/plotly-2.8.3.min.js\"></script>                <div id=\"01437f70-f4b0-4661-8a01-e592d2036d81\" class=\"plotly-graph-div\" style=\"height:525px; width:100%;\"></div>            <script type=\"text/javascript\">                                    window.PLOTLYENV=window.PLOTLYENV || {};                                    if (document.getElementById(\"01437f70-f4b0-4661-8a01-e592d2036d81\")) {                    Plotly.newPlot(                        \"01437f70-f4b0-4661-8a01-e592d2036d81\",                        [{\"hovertemplate\":\"Dnu=%{x}<br>Numax=%{y}<br>Epsilon=%{z}<br>POP=%{marker.color}<extra></extra>\",\"legendgroup\":\"\",\"marker\":{\"color\":[1,0,1,1,0,1,1,0,1,1,0,1,0,0,1,1,1,1,0,0,1,1,1,1,1,1,0,1,1,0,1,1,1,1,1,1,1,0,0,1,1,0,1,0,0,1,1,1,0,0,1,1,1,0,1,0,1,0,0,1,1,0,1,0,0,1,0,1,1,1,1,1,1,0,1,1,0,1,1,1,1,1,0,1,1,0,1,0,1,1,1,1,0,0,1,0,1,0,0,1,0,1,0,0,1,0,1,1,1,1,1,0,1,1,1,1,0,1,1,1,0,1,1,1,1,1,1,1,1,1,1,1,1,1,1,1,1,1,0,1,1,1,1,1,1,0,0,1,0,0,1,1,1,1,0,1,0,1,0,1,1,1,1,1,1,1,1,0,1,1,1,1,0,1,1,0,1,1,1,1,1,1,0,1,1,1,1,1,1,1,1,1,0,0,1,1,1,0,1,0,0,0,1,0,0,1,1,1,1,0,1,1,1,1,1,1,0,1,0,0,0,1,1,0,0,0,0,1,1,0,1,0,1,1,1,1,1,1,1,0,0,1,1,1,1,1,0,0,1,1,1,1,1,1,1,0,0,1,1,1,1,1,1,1,1,1,1,0,0,1,1,0,0,1,1,1,1,1,0,1,0,0,0,1,0,0,1,0,1,0,1,1,1,0,1,1,1,0,1,1,0,1,1,0,1,0,0,1,0,1,1,1,1,1,1,1,1,1,1,1,1,1,1,1,0,1,1,0,0,0,1,0,0,1,1,1,1,1,1,1,1,0,1,1,0,0,1,1,1,1,0,0,1,1,1,1,0,0,1,1,0,0,1,1,0,1,1,1,1,1,0,1,0,1,0,1,1,1,1,1,0,1,0,0,0,1,1,0,1,1,1,0,0,0,1,1,1,0,1,1,1,0,1,0,1,1,1,1,0,1,1,1,0,1,1,1,1,0,1,1,0,0,1,1,0,1,1,0,1,1,1,1,1,1,1,1,0,1,0,1,1,1,1,1,1,1,1,1,1,0,1,1,1,1,0,1,1,0,1,1,1,1,1,1,1,0,0,1,0,1,1,0,1,1,1,1,0,1,0,1,0,1,0,1,1,1,1,0,1,1,1,0,1,1,1,0,0,0,1,0,1,1,1,1,1,1,0,0,1,0,1,0,1,0,0,0,1,0,0,1,0,0,1,1,1,1,1,0,0,1,1,1,1,0,1,1,1,1,1,1,1,0,0,1,0,1,1,0,1,1,0,1,1,1,1,0,0,1,0,1,0,1,0,1,1,1,1,1,1,0,0,1,0,0,1,0,0,1,1,1,0,1,1,1,1,1,0,0,1,1,0,1,1,0,1,1,0,0,1,0,1,1,0,1,1,1,1,0,1,0,0,1,1,1,1,1,1,0,1,1,1,0,0,0,1,1,1,1,1,1,1,0,1,1,0,1,1,1,0,0,1,1,0,1,1,0,0,0,0,0,1,0,0,1,0,1,0,1,1,1,0,1,1,1,1,0,0,0,1,1,1,1,0,1,1,1,0,1,1,1,1,1,1,1,1,1,1,0,1,1,1,1,1,1,0,1,1,1,1,0,1,0,0,1,1,0,1,1,1,0,1,1,1,1,1,1,1,1,1,1,1,1,1,1,1,0,1,1,1,1,0,1,1,1,1,1,0,0,0,1,1,0,0,1,1,1,0,0,1,1,0,1,0,1,1,0,1,1,1,1,1,0,1,1,1,1,0,1,0,1,1,1,0,1,1,1,1,1,1,1,1,1,1,0,1,0,1,0,0,1,1,0,0,0,1,1,0,1,1,1,1,1,1,0,1,1,0,1,1,1,1,1,1,0,1,1,1,1,1,1,1,1,1,0,1,1,1,1,1,0,1,1,1,1,1,1,1,1,0,1,1,1,0,1,1,1,0,1,1,1,1,1,1,1,0,0,1,1,1,0,1,1,1,0,1,1,1,1,1,1,1,1,1,1,1,0,1,0,1,1,1,1,1,0,0,0,1,1,0,1,1,1,1,1,0,1,1,1,0,1,1,1,1,1,1,1,1,1,1,1,1,1,1,1,1,0,1,1,0,1,0,1,1,1,1,1,0,1,1,1,1,0,1,1,1,1,1,0,1,1,1,1,1,1,1,0,1,1,1,1,1,1,1,1,1,1,1,1,1,1,0,1,1,1,1,1,1,1,1,1,1,0,0,1,1,1,1,0,1,1,0,0,1,1,0,1,1,1,0,0,1,1,1,1,1,1,0,1,1,1,1],\"coloraxis\":\"coloraxis\",\"symbol\":\"circle\",\"size\":2},\"mode\":\"markers\",\"name\":\"\",\"scene\":\"scene\",\"showlegend\":false,\"x\":[4.4478,6.94399,2.64571,4.24168,10.44719,4.3147,4.46724,7.63714,4.07682,4.15871,9.43448,3.90815,5.56773,5.7047,4.41887,4.63063,4.52679,4.69357,10.25788,5.72909,3.65522,4.13512,4.07378,3.97728,4.08905,8.38482,5.48737,5.05942,4.0737,9.34731,3.99505,7.04938,3.97529,4.11105,4.21431,3.9653,4.09823,11.28055,6.36472,3.98807,4.11617,5.39358,5.53599,5.05217,4.0569,4.18487,3.89922,3.70834,5.46542,9.06584,3.80532,4.16175,3.80219,7.87023,3.40961,3.46843,4.30266,4.5505,10.36221,4.12847,4.36955,10.62177,4.07777,12.58911,6.52639,3.38009,6.88851,3.90608,4.34696,6.91308,2.85657,3.63074,4.2171,3.43939,3.95492,3.61369,5.79279,4.45195,3.92965,4.08709,3.8267,4.15834,5.16033,4.4625,4.13964,6.52209,3.48409,11.23761,4.00946,4.28707,3.58109,4.17896,3.64914,5.57677,4.57874,17.18817,17.04898,8.99132,4.35745,4.01242,9.18044,4.91649,6.48862,7.03976,3.85964,8.85684,3.96997,3.57691,4.00106,4.11932,4.27622,4.15749,4.98509,4.28678,3.59293,6.20816,7.55162,3.47583,4.48705,4.08518,6.14098,3.97486,4.05668,4.19877,4.18024,4.3599,4.05125,4.60658,3.92933,4.21426,4.51751,4.11894,4.22908,6.7828,4.32134,2.74276,4.01845,4.52967,6.66758,4.3075,4.38722,5.25476,4.12932,4.67533,5.02359,15.51752,16.21417,4.27483,12.2195,11.1063,6.37117,5.76765,4.74146,4.52354,5.11257,4.32033,5.36579,4.24654,9.13276,5.15982,4.35446,3.91466,4.27939,4.11555,6.21212,4.25648,4.3837,16.98192,5.02193,4.05734,3.81134,4.69635,16.12028,3.90577,4.37507,7.82281,3.94628,3.84345,4.09302,4.0858,4.22628,4.175,12.84759,7.35214,4.60214,4.39308,4.25739,4.45138,3.98167,4.11336,5.16754,4.17231,11.85007,7.34077,4.03286,4.11466,4.1216,16.85434,4.41336,14.52873,8.05223,5.88432,3.72425,15.22297,8.72792,3.17396,4.14158,6.54399,5.37526,9.78914,4.00209,4.82363,4.27684,4.21764,4.08442,4.00442,9.21305,3.77068,6.74035,12.91457,4.34953,4.64841,6.99155,5.84733,11.44355,7.55365,12.51571,3.87908,3.97681,8.69113,4.17468,6.76853,5.45565,4.94842,4.57289,3.83673,6.96511,4.09823,3.67422,10.12168,10.03318,6.50775,4.81683,4.821,4.34474,5.32022,13.88614,10.02375,7.66097,3.91598,4.19298,4.06477,4.82949,3.93677,4.74222,9.8032,8.57028,3.88768,4.98508,4.15207,4.42977,3.84696,3.80086,4.24611,4.02543,4.42364,5.73809,10.20555,5.34516,5.60949,5.62547,7.7397,8.89789,4.19436,3.8701,4.11296,4.22697,4.29762,6.75293,4.15823,6.92475,17.48735,10.16104,4.63501,12.77483,8.31446,4.24617,8.54301,4.08541,7.49037,4.22033,4.45007,4.09399,9.27478,4.11387,4.34012,4.08451,9.78152,4.46052,4.15202,13.84107,5.37562,4.09156,7.67214,4.75194,10.51844,9.43205,3.86398,8.06264,5.56745,4.03263,3.9182,4.53257,4.34836,4.2129,5.40159,6.90956,5.04436,4.10661,4.73409,7.37492,4.18844,4.22263,4.55886,10.4332,4.12644,4.04047,8.01853,7.21374,14.02431,3.8821,10.51069,7.5832,4.07375,4.46805,3.94847,4.31508,4.13001,3.92265,4.24148,4.90073,14.3436,5.06309,4.34138,8.97748,6.60422,3.89831,4.05378,4.11329,4.1757,11.11176,10.49666,4.01372,4.34042,7.50715,4.37727,5.84407,16.77825,4.45961,4.12703,8.50011,17.07585,8.30018,4.16068,8.73337,4.13597,3.99075,4.28822,5.27085,7.7466,7.34337,3.59159,12.36734,3.89113,8.52246,4.47793,3.75047,4.4248,3.99714,4.08256,12.45791,5.06736,14.15119,8.82728,11.47601,3.16659,4.08091,7.67572,4.31859,3.975,3.80493,6.39257,12.31902,16.22028,3.94281,4.05951,4.34395,7.87921,3.99293,4.26088,3.97887,9.52736,3.88095,12.52523,4.23363,4.33505,3.9327,4.6002,11.76223,12.54107,2.50008,5.07539,9.74981,4.25741,4.42844,4.1315,4.06799,7.67102,3.70879,4.74619,13.65658,9.23564,4.16965,4.15278,11.79981,4.01893,4.01282,9.18541,7.20717,4.09143,4.18505,7.17493,4.30684,4.22702,7.95744,4.13885,8.33967,4.23389,5.73875,4.39915,3.85814,4.58331,8.20859,4.1078,4.125,3.46998,3.61639,4.11433,4.21755,12.65508,4.21811,4.02516,4.29341,4.14184,5.50406,3.97113,4.03735,8.67904,4.01873,4.20428,4.1893,4.07443,4.03604,4.67958,4.11973,5.58313,7.70963,3.50768,7.69622,4.27523,4.12958,6.90709,4.23722,3.98787,4.05753,4.15376,7.61638,3.91382,9.90737,4.08436,6.29395,5.10543,14.68139,3.8918,4.66314,4.07962,4.2332,16.54845,4.31501,4.20653,4.42474,5.65477,4.07794,3.61026,3.87615,6.68238,5.58319,11.96019,4.61567,16.74549,3.97557,4.12195,6.3187,6.05273,4.3399,4.03329,14.40168,6.29515,4.42138,7.0933,4.10839,12.63279,4.06921,12.35671,13.31326,6.3428,4.27892,7.27336,9.57968,5.94441,9.92306,7.39393,4.40485,4.19238,4.02823,4.09005,3.97647,13.70774,9.9796,3.72072,4.41673,4.29179,4.28426,7.72384,6.58034,4.65222,5.766,3.65677,4.0157,4.39247,4.92827,13.93506,9.84522,4.09304,9.77982,3.93948,4.239,8.50717,4.11441,4.55056,9.20403,3.61041,3.56627,3.81923,3.97875,8.48734,7.73891,4.31385,2.67661,8.35683,5.14459,4.5766,7.52564,3.96142,4.36735,4.00406,3.95607,6.37583,4.16652,8.98147,7.20205,4.15635,4.46827,7.16977,5.60288,11.35675,7.27319,4.18477,5.82,4.00136,7.03393,3.98882,5.1344,4.23351,4.54447,3.25916,17.31476,7.01564,3.95839,7.60002,9.798,4.40275,3.89195,7.16125,5.37765,4.14946,7.50735,11.20142,4.81137,11.81175,3.87842,4.93529,7.44498,5.09604,3.95522,3.82065,3.99213,8.4219,4.0905,9.76599,5.51556,7.79948,6.3498,4.3215,4.1743,4.4019,7.49974,10.99266,4.60229,4.61552,4.07956,11.38627,14.8369,9.56727,4.05974,3.80534,4.1546,3.66885,3.91256,4.33075,6.72392,11.11527,4.3414,3.33706,6.32933,4.07698,3.56911,4.204,10.53126,9.64016,4.11693,4.21063,7.90218,4.17678,4.23372,9.68413,7.32613,10.26719,13.00153,5.44567,4.66655,13.03289,6.51963,5.4189,10.95589,3.37194,4.70109,6.44206,2.70466,3.98861,8.33378,4.08598,4.05628,3.96927,4.59675,6.36178,6.04282,6.62661,4.3203,4.0321,4.01299,4.08378,7.72104,4.64587,4.10004,4.64291,5.4001,4.41334,3.99832,4.18289,3.66671,4.11511,4.97652,3.64034,4.28767,3.85984,4.14077,5.90923,4.12138,4.05354,4.24146,4.16778,4.25858,4.22566,6.41576,4.41855,4.08048,4.14478,4.22984,16.32295,3.7276,6.37037,6.11643,5.19913,3.82883,8.04603,3.99465,4.19407,3.74571,6.91067,4.49251,4.18232,4.11001,3.68944,4.0426,4.35298,3.9952,4.24345,3.90504,5.37851,4.0827,4.12104,4.06018,4.12487,4.33665,6.86893,4.63257,4.01548,4.29034,4.19611,17.32071,4.11792,4.04732,3.98568,4.62536,4.09393,7.91847,15.25322,7.29621,4.13245,4.01032,16.51036,15.37138,4.14694,3.91063,4.4672,17.43134,6.82223,4.02142,4.17124,16.21594,5.27867,8.51888,4.03696,4.13253,6.01489,3.62465,3.8134,3.87951,4.30593,4.35594,16.78991,3.8987,4.05765,6.02049,4.2574,16.18774,3.70804,16.64514,4.04152,5.04975,4.15026,5.62392,4.11385,4.31641,4.27622,5.4271,4.18548,4.02241,3.75602,4.6128,4.01973,4.88245,16.42484,4.06734,7.25274,4.18853,6.62646,6.71026,4.09288,3.95614,17.69943,5.20725,7.6562,4.21913,3.8755,4.69652,4.21675,4.09577,3.41101,3.686,4.00258,4.74607,6.56261,3.91931,4.17244,7.02711,4.33017,4.34814,3.50443,4.7535,6.94602,4.10074,7.69275,3.91226,4.20074,7.54723,4.16129,4.03571,4.09063,4.05694,4.14029,4.21748,7.46278,8.31658,4.11003,3.98262,3.93722,4.66652,17.41007,3.92633,4.24701,4.44574,4.23583,4.28325,4.30048,4.19037,4.0382,7.36776,4.61199,4.16121,4.00911,6.64129,4.44886,3.89375,4.53236,15.40096,4.27386,4.16844,4.01747,5.50559,4.84409,3.95507,2.78962,7.28927,8.70824,4.07875,4.33451,4.42068,6.26036,4.15148,4.87708,4.17891,16.54784,4.16918,3.8351,4.17647,4.03368,4.08899,3.73812,3.86961,5.05663,4.06856,3.98038,4.5587,6.52378,3.86723,7.57029,3.86589,4.34554,4.28399,4.08904,3.66715,7.49549,7.72011,8.96626,4.1825,3.64419,5.83525,4.19406,5.63022,3.96614,4.05571,3.97853,4.6181,4.22479,4.10516,4.01018,8.40469,4.19205,4.14517,4.2416,3.9531,4.07264,4.08383,4.1742,3.98858,4.35375,4.16085,4.07316,4.0858,4.10672,4.19591,4.1265,4.03691,6.75962,4.2812,3.48425,7.76435,4.13976,8.01937,3.75837,3.83298,4.20176,4.07917,3.9007,8.61477,4.7091,4.06022,3.97825,4.13743,16.50862,4.1261,4.30874,4.01578,3.99287,4.05922,5.13581,4.32081,4.06173,3.99154,3.90164,4.048,4.00451,4.09337,9.08973,2.8642,4.09798,4.46706,4.15606,4.06638,5.41702,4.33023,4.19076,4.15348,3.70208,4.10686,4.21418,4.14452,3.93545,8.21169,4.07714,3.98874,4.45902,3.78841,4.13177,3.97669,4.13336,3.77525,4.05541,4.17229,7.8663,15.05203,3.97564,4.0785,3.96287,3.65239,8.92453,4.72384,4.85171,8.54811,6.67812,4.23199,3.8725,9.03803,4.07827,4.27847,3.63375,5.51801,7.88244,4.29159,4.10949,3.98584,4.19423,4.0135,4.10569,5.51582,4.14823,3.98294,4.33893,3.74869],\"y\":[43.06289,74.07646,21.57891,32.13189,120.37356,37.59315,46.71595,87.44575,34.78433,31.50166,108.11181,33.33387,53.39078,56.78251,40.50306,45.27551,43.85628,45.41956,121.15449,57.52969,29.12852,34.25201,30.28441,32.92435,34.39742,104.12676,53.51117,49.56535,36.7738,110.27285,33.83856,84.309,30.47302,33.28111,35.89026,32.0754,31.6419,129.58759,64.24365,32.13779,34.04403,54.52316,56.46057,48.25759,39.2002,33.19312,28.95454,30.5184,54.04409,100.36618,28.61952,35.08969,29.63931,77.22302,27.95086,30.816,38.51295,41.89086,123.53948,38.18563,38.97063,136.73959,33.43713,152.48999,70.00491,23.24414,75.26397,30.90056,42.7567,80.57812,18.65236,24.11404,34.23389,31.79203,31.35126,26.73868,52.85553,41.27748,34.69179,32.84107,28.80551,35.25586,51.59836,40.19067,32.34572,63.93827,27.21096,130.69264,33.65363,38.76278,25.37496,33.92757,30.26501,54.37972,43.76422,239.64848,231.37257,103.25523,44.43328,32.74852,112.91451,55.85738,68.68843,75.02888,36.64124,96.68273,27.91937,27.04606,32.11175,32.03948,39.3479,37.49922,49.25837,39.647,32.46962,72.30543,77.53147,26.79848,44.98364,34.44806,61.23056,35.19149,33.04402,40.37958,39.73414,29.8022,34.90167,47.4952,30.51731,34.94054,39.54383,32.5949,36.3525,80.49941,37.31766,21.07137,30.73251,40.48261,67.22846,38.30195,38.2386,51.89827,31.72119,43.57855,50.95069,210.16273,226.77109,37.89226,155.97696,124.44294,73.97413,61.15184,52.41474,40.9778,47.95961,37.45147,53.50938,35.46496,104.49923,56.6116,36.60925,31.14239,41.22108,34.19561,79.08258,35.87684,37.10513,220.62363,53.39569,32.10221,30.89123,45.26763,207.34654,28.88052,41.43433,79.01269,35.5815,33.89413,37.56167,33.24378,34.66455,32.79096,159.93365,87.6453,42.61415,40.69556,33.94468,39.71292,33.2934,35.54662,53.59474,33.39176,134.04575,71.95986,33.03631,32.09363,32.16219,230.94722,42.24018,174.56645,87.38132,58.05137,28.40739,209.42722,95.01876,22.15936,34.88894,73.18216,53.21329,108.18793,29.43836,47.56604,36.32708,34.10618,34.67291,31.30548,101.25734,23.7476,66.92487,166.16237,40.50712,43.75702,80.39708,57.00369,144.35793,83.33917,154.02488,32.81434,27.25032,98.9404,32.04269,72.07996,60.86848,50.49692,41.93751,31.92629,82.20084,35.67631,29.17918,117.31509,125.54513,75.34373,46.79531,45.339,42.60236,56.48419,177.91707,105.45055,92.80843,32.20505,34.97866,35.50677,46.9206,29.46954,46.39323,104.58548,88.95457,30.51777,50.13558,33.87748,39.64046,30.95768,31.53228,35.34156,32.49999,39.39502,58.16864,119.84322,49.59683,60.43096,60.35299,85.60667,94.40274,37.97683,31.72119,33.33283,36.39622,42.62778,70.14083,34.46672,67.30475,220.23488,121.77108,42.99431,153.68989,91.30696,36.44073,95.23811,32.57877,79.41317,42.54359,39.73781,36.82572,110.14174,36.10041,39.69478,31.80463,107.42298,29.80333,36.70908,178.42579,55.42944,34.79098,82.57742,44.77748,126.33989,112.88355,29.17136,88.4727,58.87563,28.63068,30.92037,40.80463,39.87582,35.03451,53.51672,83.16777,52.32029,36.07338,54.57934,92.81001,29.52629,35.58341,41.46828,138.87603,31.92225,35.94454,80.91357,74.80547,168.53162,32.50045,118.72006,76.29632,30.11403,38.50428,30.91045,44.37756,34.71227,31.14659,30.59517,48.6588,183.76172,52.04873,37.0792,97.90768,70.18805,30.19105,34.90118,37.97891,38.52983,132.46549,117.10532,34.00575,39.13021,89.36245,38.63216,59.06253,214.30301,41.51171,36.98669,95.81689,236.46849,105.45021,30.66237,97.29533,36.63504,32.35089,35.47008,58.64878,78.67685,78.20193,30.84231,147.86955,33.42138,94.59684,40.3554,27.53368,41.83867,32.32286,35.15544,152.7025,53.42226,171.9871,99.50776,140.33586,24.33761,34.80672,78.35733,38.29316,31.61958,32.20256,59.31106,143.71152,202.35161,31.54557,32.31331,37.70335,86.11162,33.29544,32.35876,32.27662,111.24301,30.02887,147.40514,36.4051,38.94084,32.46109,47.45584,139.48665,165.92872,20.98479,54.49447,106.57542,38.72661,36.90459,29.97377,35.09304,78.82283,26.01807,46.06444,160.74246,101.37259,34.38955,35.25539,144.58723,31.53184,34.47565,100.84355,85.5944,33.28481,34.85834,81.70371,36.04973,34.54697,102.79082,30.34146,94.83953,36.85325,61.58476,39.22343,31.75267,42.03998,106.35651,31.62228,31.83926,25.80343,28.81319,35.64895,36.13697,157.52759,42.99284,32.18515,36.77326,35.09009,54.35819,34.27537,33.92514,96.1781,29.52316,36.86899,35.76065,35.279,31.46757,46.62149,36.27415,53.07519,81.90049,24.90433,92.40537,36.40351,39.18204,73.65928,29.28546,31.22173,36.79028,35.47009,79.63357,31.97366,111.63025,32.45959,69.99914,50.41569,199.28463,29.30471,44.28373,36.11687,34.27033,214.31729,38.63381,35.91657,38.99475,53.44513,32.27646,30.83961,31.88794,68.48786,51.09651,146.04708,40.89965,215.23181,31.54555,31.68591,76.19383,71.5429,35.69174,36.29439,178.49123,65.47225,39.44647,72.53418,32.48998,162.61016,30.09929,156.68536,165.92392,64.12558,37.46341,75.08957,106.82878,67.83895,113.08606,74.69724,38.76543,34.27891,31.20956,33.64965,33.82196,167.54221,115.41177,30.77918,37.7304,35.78276,38.54557,81.39673,79.23563,44.84667,62.12787,27.18696,32.50795,41.1183,50.54995,183.82547,127.45936,34.94841,108.93833,33.00356,32.4296,87.56005,30.02795,40.44986,102.66754,32.90775,27.01417,26.51004,28.85752,95.91267,84.95278,38.71001,21.14192,100.98043,47.40796,42.26809,83.79746,33.28408,37.06378,35.70879,33.1002,71.10112,35.06648,100.73642,80.53534,29.51547,39.70265,70.23391,64.93185,138.01281,75.48218,30.23352,49.3843,34.15341,71.17475,34.78311,55.09884,33.75437,42.05163,33.17737,236.39764,72.03019,29.22292,88.72487,109.40116,28.91209,30.53438,74.04736,57.17801,38.42096,81.82978,134.58098,45.85798,139.39025,33.50009,46.83902,86.61375,51.87824,32.14708,30.265,30.40287,95.99669,33.50475,106.07953,58.79833,95.47055,70.11721,40.24341,39.2538,38.34081,88.09517,131.72064,43.20854,44.78811,33.56273,129.87079,193.69334,112.14975,32.65498,29.42278,32.71075,34.31871,31.0517,36.3726,76.49708,127.63252,37.67921,22.64531,62.60715,35.23595,28.91208,34.4128,118.12404,104.72715,33.41395,33.35927,82.87905,34.53598,36.67221,108.04287,74.99215,125.89404,170.97007,49.39936,44.42541,166.16296,63.78026,56.96433,130.98568,29.0895,42.05557,72.36042,18.19836,30.0964,87.66933,35.9016,33.11867,34.09831,43.74848,64.49623,59.62481,72.94299,37.48243,27.89575,34.07666,34.51549,80.17338,41.87033,35.34197,42.79605,56.1221,39.99388,33.52324,32.78631,29.22274,34.20064,49.93529,34.97989,37.99015,41.63111,30.28709,58.36541,33.02615,33.11341,36.61388,33.99609,36.02711,35.38217,67.99197,39.8522,32.49212,33.79133,34.64158,214.93584,32.22495,63.50017,62.3474,58.13714,30.03632,82.54593,35.22155,35.61746,30.51043,66.9599,40.7574,34.5942,35.02035,28.67429,33.3315,37.89531,32.39354,36.94771,36.32588,57.71997,32.18884,35.59863,35.0371,34.38955,38.49047,76.91011,42.81967,33.12791,38.15284,32.65561,230.44757,36.27865,30.42201,31.85366,42.00893,31.22958,86.27815,199.39992,82.90685,35.3887,34.38167,224.83289,202.80242,34.51883,30.93143,37.51415,229.68344,75.80026,31.37898,37.42159,214.2764,54.83121,93.21172,33.70474,32.34257,63.07155,28.94529,29.1828,32.13836,37.55379,38.82107,221.92236,33.35337,34.61777,67.89751,34.4289,216.18909,27.39718,226.2012,32.72075,49.69034,33.61816,55.20903,36.54627,36.83751,37.96756,59.00298,30.21307,31.83653,31.15354,41.45794,32.44534,50.0133,206.15336,30.61569,74.77976,35.05024,67.70073,70.70755,35.65682,31.37572,237.11061,49.46232,84.8466,34.89537,30.85153,42.79353,29.86564,33.48649,26.40331,31.51086,32.83058,45.34266,69.58721,32.96369,31.86331,68.64432,39.3878,30.39681,27.45849,41.80757,83.3319,30.69592,79.75845,29.3043,34.64814,92.04654,32.0545,33.98811,33.6091,31.65778,30.51894,29.49128,76.48057,102.03517,32.89401,33.16547,33.4703,44.75443,230.53819,30.82378,39.53735,39.92798,35.67076,29.30846,39.39567,35.59632,31.05691,77.72746,40.63258,33.7515,31.69757,70.95156,39.91864,30.93363,41.53944,209.34905,38.55344,34.62568,31.01257,57.44447,45.81862,31.88648,17.97978,76.97987,94.51156,34.89535,39.02572,38.74022,61.92322,37.08978,46.39322,35.85571,220.99048,33.96186,30.17842,38.22285,35.27113,33.38943,30.28075,30.50114,50.09271,32.59065,34.05595,42.41142,64.88978,29.40568,79.56133,31.21743,36.29277,36.20781,33.5933,25.35816,79.09721,79.31919,97.39633,34.69022,27.9115,54.86205,35.72766,59.05021,29.01935,31.45303,32.37838,40.92871,34.2189,32.09729,30.30557,93.93564,36.28652,36.23714,36.2629,28.87139,32.90081,31.80733,33.47968,29.18846,35.97167,34.01629,30.61091,33.7992,31.14615,42.53885,37.19958,32.3194,69.98339,38.41804,24.72364,99.28023,35.82072,84.82859,31.70588,30.57985,34.33445,31.72137,33.26318,93.77034,45.39357,37.97097,29.29465,36.32587,210.76879,30.29387,38.4609,31.42951,30.68962,34.35827,45.3221,37.25417,31.27252,31.38599,28.49431,34.42103,29.911,32.54021,98.65334,26.87249,35.66719,40.537,37.53018,34.17604,55.37433,35.85646,35.01089,35.22341,35.21554,33.12195,33.2797,36.01889,30.60248,89.73239,34.59647,30.83173,39.88307,33.26395,32.57915,32.90975,35.73573,29.72934,31.78371,30.28074,81.89147,198.85169,35.47549,33.62757,30.83918,27.24244,96.90867,45.95939,47.28857,92.05313,65.3784,39.30854,31.47084,99.61291,33.43046,38.30996,28.31606,51.25199,86.34971,36.68795,31.95688,30.8167,28.99733,30.74815,34.84448,49.9992,32.09069,30.90257,45.62183,37.94907],\"z\":[0.985,0.15,0.855,0.84,0.275,0.945,0.985,0.215,0.885,0.855,0.205,0.81,0.12,0.105,0.885,0.92,0.075,0.97,0.26,0.12,0.92,0.845,0.785,0.905,0.865,0.105,0.115,0.925,0.88,0.18,0.745,0.955,0.845,0.785,0.78,0.94,0.765,0.32,0.155,0.035,0.25,0.12,0.965,0.09,0.025,0.88,0.955,0.555,0.1,0.23,0.85,0.895,0.92,0.195,0.95,0.905,0.895,0.08,0.25,0.86,0.835,0.24,0.86,0.345,0.145,0.93,0.175,0.945,0.79,0.92,0.77,0.675,0.76,0.975,0.97,0.795,0.14,0.9,0.845,0.845,0.82,0.945,0.065,0.89,0.75,0.14,0.8,0.27,0.895,0.945,0.625,0.875,0.995,0.115,0.97,0.475,0.425,0.205,0.005,0.765,0.215,0.95,0.125,0.135,0.085,0.215,0.655,0.785,0.775,0.93,0.895,0.005,0.995,0.93,0.22,0.07,0.175,0.84,0.95,0.88,0.12,0.135,0.875,0.95,0.86,0.41,0.155,0.92,0.815,0.87,0.91,0.885,0.905,0.065,0.625,0.73,0.78,0.765,0.145,0.895,0.865,0.705,0.845,0.91,0.12,0.405,0.41,0.915,0.25,0.275,0.06,0.83,0.995,0.935,0.08,0.88,0.095,0.895,0.235,0.005,0.745,0.895,0.935,0.015,0.975,0.825,0.78,0.36,0.82,0.89,0.86,0.905,0.36,0.875,0.935,0.22,0.835,0.775,0.895,0.84,0.845,0.795,0.34,0.105,0.915,0.875,0.78,0.88,0.83,0.935,0.89,0.81,0.28,0.185,0.815,0.835,0.81,0.45,0.95,0.37,0.2,0.11,0.835,0.425,0.21,0.665,0.03,0.825,0.915,0.23,0.905,0.925,0.785,0.93,0.925,0.88,0.22,0.85,0.14,0.38,0.155,1.0,0.06,0.125,0.285,0.17,0.32,0.955,0.68,0.185,0.8,0.14,0.94,0.22,0.915,0.81,0.985,0.83,0.785,0.245,0.235,0.02,0.89,0.79,0.975,0.935,0.305,0.27,0.045,0.855,0.925,0.055,0.04,0.745,0.975,0.235,0.215,0.785,0.97,0.86,0.94,0.905,0.88,0.9,0.86,0.925,0.93,0.305,0.115,0.86,0.015,0.16,0.255,0.99,0.955,0.82,0.925,0.805,0.145,0.855,0.17,0.385,0.32,0.94,0.32,0.195,0.92,0.23,0.9,0.16,0.83,0.88,0.935,0.215,0.815,0.89,0.815,0.255,0.72,0.875,0.335,0.96,0.96,0.175,0.8,0.29,0.24,0.84,0.185,0.095,0.73,0.87,0.895,0.85,0.86,0.91,0.055,0.045,0.855,1.0,0.065,0.025,0.88,0.905,0.265,0.81,0.965,0.17,0.19,0.34,0.83,0.24,0.165,0.075,0.865,0.055,0.87,0.91,0.87,0.7,0.915,0.25,0.11,0.755,0.22,0.14,0.85,0.84,0.985,0.9,0.29,0.265,0.865,0.865,0.955,0.85,0.08,0.4,0.92,0.795,0.16,0.42,0.155,0.895,0.215,0.845,0.865,0.79,0.07,0.16,0.195,0.835,0.235,0.94,0.21,0.88,0.74,0.855,0.775,0.86,0.225,0.06,0.32,0.255,0.285,0.74,0.83,0.205,0.88,0.93,0.82,0.16,0.275,0.345,0.025,0.9,0.815,0.17,0.91,0.78,0.74,0.195,0.83,0.36,0.845,0.99,0.94,0.89,0.285,0.165,0.71,0.985,0.225,0.92,0.905,0.85,0.015,0.2,0.905,0.9,0.3,0.25,0.925,0.865,0.285,0.895,0.875,0.235,0.96,0.895,0.855,0.105,0.785,0.89,0.93,0.84,0.225,0.83,0.1,0.88,0.815,0.85,0.095,0.87,0.825,0.765,0.84,0.885,0.875,0.305,0.91,0.815,0.855,0.9,0.08,0.89,0.91,0.22,0.755,0.845,0.935,0.8,0.875,0.945,0.045,0.15,0.225,0.68,0.185,0.875,0.905,0.125,0.88,0.09,0.93,0.84,0.19,0.85,0.18,0.02,0.1,0.825,0.36,0.84,0.93,0.85,0.84,0.385,0.9,0.885,0.855,0.135,0.82,0.81,0.13,0.13,0.165,0.295,0.865,0.38,0.835,0.805,0.985,0.06,0.685,0.9,0.33,0.135,0.915,0.13,0.86,0.29,0.755,0.26,0.355,0.16,0.935,0.175,0.205,0.1,0.255,0.19,0.865,0.745,0.785,0.82,0.93,0.34,0.26,0.91,0.87,0.85,0.865,0.165,0.045,0.05,0.86,0.995,0.85,0.6,0.105,0.33,0.2,0.845,0.245,0.74,0.755,0.22,0.875,0.82,0.245,0.96,0.91,0.985,0.73,0.19,0.14,0.88,0.99,0.98,0.11,0.82,0.17,0.86,0.845,0.065,0.9,0.04,0.01,0.225,0.16,0.755,0.015,0.135,0.955,0.3,0.145,0.81,0.82,0.91,0.13,0.88,0.98,0.92,0.88,0.81,0.415,0.175,0.015,0.01,0.25,0.895,0.89,0.175,0.99,0.87,0.19,0.235,0.865,0.305,0.865,0.785,0.195,0.975,0.905,0.875,0.75,0.195,0.84,0.245,0.055,0.15,0.98,0.95,0.73,0.9,0.02,0.225,0.96,0.87,0.835,0.3,0.42,0.285,0.935,0.995,0.835,0.725,0.92,0.745,0.07,0.28,0.82,0.855,0.15,0.885,0.115,0.975,0.265,0.21,0.895,0.98,0.28,0.93,0.875,0.22,0.17,0.26,0.315,0.1,0.005,0.315,0.085,0.9,0.265,0.52,0.055,0.965,0.96,0.695,0.2,0.015,0.995,0.89,0.905,0.14,0.14,0.13,0.895,0.965,0.99,0.895,0.205,0.92,0.895,0.92,0.065,0.925,0.86,0.97,0.88,0.84,0.05,0.965,0.855,0.775,0.81,0.13,0.86,0.885,0.895,0.925,0.87,0.78,0.155,0.9,0.86,0.89,0.825,0.32,0.96,0.095,0.11,0.01,0.9,0.185,0.81,0.93,0.935,0.15,0.86,0.925,0.845,0.855,0.805,0.82,0.89,0.945,0.815,0.04,0.025,0.8,0.925,0.865,0.865,0.13,0.885,0.96,0.94,0.835,0.405,0.865,0.82,0.835,0.985,0.845,0.185,0.37,0.16,0.845,0.915,0.355,0.37,0.92,0.875,0.595,0.4,0.12,0.825,0.795,0.39,0.07,0.21,0.865,0.815,0.135,0.865,0.815,0.905,0.875,0.86,0.4,0.905,0.89,0.07,0.865,0.38,0.74,0.37,0.895,0.03,0.905,0.12,0.89,0.845,0.885,0.045,0.815,0.08,0.845,0.875,0.815,0.03,0.36,0.845,0.185,0.925,0.17,0.155,0.87,0.925,0.415,0.1,0.155,0.86,0.9,0.095,0.745,0.705,0.785,0.85,0.825,0.035,0.09,0.79,0.825,0.16,0.8,0.015,0.345,0.355,0.21,0.765,0.18,0.04,0.875,0.03,0.835,1.0,0.8,0.95,0.815,0.815,0.165,0.145,0.895,0.885,0.81,0.06,0.41,0.85,0.84,0.015,0.875,0.55,0.12,0.89,0.89,0.215,0.9,0.925,0.86,0.18,0.01,0.965,0.655,0.38,0.885,0.93,0.975,0.905,0.865,0.945,0.54,0.125,0.245,0.945,0.925,0.785,0.115,0.9,0.83,0.795,0.385,0.895,0.88,0.815,0.865,0.985,0.895,0.83,0.98,0.865,0.92,0.035,0.12,0.97,0.21,0.9,0.75,0.845,0.87,0.695,0.19,0.21,0.215,0.81,0.765,0.15,0.88,0.055,0.675,0.86,0.88,0.025,0.79,0.94,0.855,0.225,0.92,0.96,0.8,0.02,0.87,0.945,0.84,0.99,0.935,0.96,0.995,0.93,0.825,0.855,0.92,0.94,0.17,0.95,0.71,0.09,0.985,0.22,0.85,0.88,0.905,0.925,0.925,0.245,0.91,0.88,0.905,0.845,0.36,0.865,0.955,0.8,0.75,0.26,0.055,0.87,0.79,0.805,0.885,0.895,0.785,0.85,0.225,0.765,0.005,0.965,0.045,0.905,0.905,0.84,0.845,0.95,0.89,0.895,0.815,0.895,0.895,0.19,0.97,0.08,0.88,0.84,0.825,0.96,0.965,0.835,0.81,0.82,0.2,0.365,0.825,0.88,0.915,0.785,0.245,0.93,0.965,0.19,0.11,0.975,0.925,0.21,0.8,0.99,0.89,0.145,0.2,0.955,0.87,0.82,0.675,0.97,0.785,0.06,0.93,0.88,0.975,0.205],\"type\":\"scatter3d\"}],                        {\"template\":{\"data\":{\"bar\":[{\"error_x\":{\"color\":\"#2a3f5f\"},\"error_y\":{\"color\":\"#2a3f5f\"},\"marker\":{\"line\":{\"color\":\"#E5ECF6\",\"width\":0.5},\"pattern\":{\"fillmode\":\"overlay\",\"size\":10,\"solidity\":0.2}},\"type\":\"bar\"}],\"barpolar\":[{\"marker\":{\"line\":{\"color\":\"#E5ECF6\",\"width\":0.5},\"pattern\":{\"fillmode\":\"overlay\",\"size\":10,\"solidity\":0.2}},\"type\":\"barpolar\"}],\"carpet\":[{\"aaxis\":{\"endlinecolor\":\"#2a3f5f\",\"gridcolor\":\"white\",\"linecolor\":\"white\",\"minorgridcolor\":\"white\",\"startlinecolor\":\"#2a3f5f\"},\"baxis\":{\"endlinecolor\":\"#2a3f5f\",\"gridcolor\":\"white\",\"linecolor\":\"white\",\"minorgridcolor\":\"white\",\"startlinecolor\":\"#2a3f5f\"},\"type\":\"carpet\"}],\"choropleth\":[{\"colorbar\":{\"outlinewidth\":0,\"ticks\":\"\"},\"type\":\"choropleth\"}],\"contour\":[{\"colorbar\":{\"outlinewidth\":0,\"ticks\":\"\"},\"colorscale\":[[0.0,\"#0d0887\"],[0.1111111111111111,\"#46039f\"],[0.2222222222222222,\"#7201a8\"],[0.3333333333333333,\"#9c179e\"],[0.4444444444444444,\"#bd3786\"],[0.5555555555555556,\"#d8576b\"],[0.6666666666666666,\"#ed7953\"],[0.7777777777777778,\"#fb9f3a\"],[0.8888888888888888,\"#fdca26\"],[1.0,\"#f0f921\"]],\"type\":\"contour\"}],\"contourcarpet\":[{\"colorbar\":{\"outlinewidth\":0,\"ticks\":\"\"},\"type\":\"contourcarpet\"}],\"heatmap\":[{\"colorbar\":{\"outlinewidth\":0,\"ticks\":\"\"},\"colorscale\":[[0.0,\"#0d0887\"],[0.1111111111111111,\"#46039f\"],[0.2222222222222222,\"#7201a8\"],[0.3333333333333333,\"#9c179e\"],[0.4444444444444444,\"#bd3786\"],[0.5555555555555556,\"#d8576b\"],[0.6666666666666666,\"#ed7953\"],[0.7777777777777778,\"#fb9f3a\"],[0.8888888888888888,\"#fdca26\"],[1.0,\"#f0f921\"]],\"type\":\"heatmap\"}],\"heatmapgl\":[{\"colorbar\":{\"outlinewidth\":0,\"ticks\":\"\"},\"colorscale\":[[0.0,\"#0d0887\"],[0.1111111111111111,\"#46039f\"],[0.2222222222222222,\"#7201a8\"],[0.3333333333333333,\"#9c179e\"],[0.4444444444444444,\"#bd3786\"],[0.5555555555555556,\"#d8576b\"],[0.6666666666666666,\"#ed7953\"],[0.7777777777777778,\"#fb9f3a\"],[0.8888888888888888,\"#fdca26\"],[1.0,\"#f0f921\"]],\"type\":\"heatmapgl\"}],\"histogram\":[{\"marker\":{\"pattern\":{\"fillmode\":\"overlay\",\"size\":10,\"solidity\":0.2}},\"type\":\"histogram\"}],\"histogram2d\":[{\"colorbar\":{\"outlinewidth\":0,\"ticks\":\"\"},\"colorscale\":[[0.0,\"#0d0887\"],[0.1111111111111111,\"#46039f\"],[0.2222222222222222,\"#7201a8\"],[0.3333333333333333,\"#9c179e\"],[0.4444444444444444,\"#bd3786\"],[0.5555555555555556,\"#d8576b\"],[0.6666666666666666,\"#ed7953\"],[0.7777777777777778,\"#fb9f3a\"],[0.8888888888888888,\"#fdca26\"],[1.0,\"#f0f921\"]],\"type\":\"histogram2d\"}],\"histogram2dcontour\":[{\"colorbar\":{\"outlinewidth\":0,\"ticks\":\"\"},\"colorscale\":[[0.0,\"#0d0887\"],[0.1111111111111111,\"#46039f\"],[0.2222222222222222,\"#7201a8\"],[0.3333333333333333,\"#9c179e\"],[0.4444444444444444,\"#bd3786\"],[0.5555555555555556,\"#d8576b\"],[0.6666666666666666,\"#ed7953\"],[0.7777777777777778,\"#fb9f3a\"],[0.8888888888888888,\"#fdca26\"],[1.0,\"#f0f921\"]],\"type\":\"histogram2dcontour\"}],\"mesh3d\":[{\"colorbar\":{\"outlinewidth\":0,\"ticks\":\"\"},\"type\":\"mesh3d\"}],\"parcoords\":[{\"line\":{\"colorbar\":{\"outlinewidth\":0,\"ticks\":\"\"}},\"type\":\"parcoords\"}],\"pie\":[{\"automargin\":true,\"type\":\"pie\"}],\"scatter\":[{\"marker\":{\"colorbar\":{\"outlinewidth\":0,\"ticks\":\"\"}},\"type\":\"scatter\"}],\"scatter3d\":[{\"line\":{\"colorbar\":{\"outlinewidth\":0,\"ticks\":\"\"}},\"marker\":{\"colorbar\":{\"outlinewidth\":0,\"ticks\":\"\"}},\"type\":\"scatter3d\"}],\"scattercarpet\":[{\"marker\":{\"colorbar\":{\"outlinewidth\":0,\"ticks\":\"\"}},\"type\":\"scattercarpet\"}],\"scattergeo\":[{\"marker\":{\"colorbar\":{\"outlinewidth\":0,\"ticks\":\"\"}},\"type\":\"scattergeo\"}],\"scattergl\":[{\"marker\":{\"colorbar\":{\"outlinewidth\":0,\"ticks\":\"\"}},\"type\":\"scattergl\"}],\"scattermapbox\":[{\"marker\":{\"colorbar\":{\"outlinewidth\":0,\"ticks\":\"\"}},\"type\":\"scattermapbox\"}],\"scatterpolar\":[{\"marker\":{\"colorbar\":{\"outlinewidth\":0,\"ticks\":\"\"}},\"type\":\"scatterpolar\"}],\"scatterpolargl\":[{\"marker\":{\"colorbar\":{\"outlinewidth\":0,\"ticks\":\"\"}},\"type\":\"scatterpolargl\"}],\"scatterternary\":[{\"marker\":{\"colorbar\":{\"outlinewidth\":0,\"ticks\":\"\"}},\"type\":\"scatterternary\"}],\"surface\":[{\"colorbar\":{\"outlinewidth\":0,\"ticks\":\"\"},\"colorscale\":[[0.0,\"#0d0887\"],[0.1111111111111111,\"#46039f\"],[0.2222222222222222,\"#7201a8\"],[0.3333333333333333,\"#9c179e\"],[0.4444444444444444,\"#bd3786\"],[0.5555555555555556,\"#d8576b\"],[0.6666666666666666,\"#ed7953\"],[0.7777777777777778,\"#fb9f3a\"],[0.8888888888888888,\"#fdca26\"],[1.0,\"#f0f921\"]],\"type\":\"surface\"}],\"table\":[{\"cells\":{\"fill\":{\"color\":\"#EBF0F8\"},\"line\":{\"color\":\"white\"}},\"header\":{\"fill\":{\"color\":\"#C8D4E3\"},\"line\":{\"color\":\"white\"}},\"type\":\"table\"}]},\"layout\":{\"annotationdefaults\":{\"arrowcolor\":\"#2a3f5f\",\"arrowhead\":0,\"arrowwidth\":1},\"autotypenumbers\":\"strict\",\"coloraxis\":{\"colorbar\":{\"outlinewidth\":0,\"ticks\":\"\"}},\"colorscale\":{\"diverging\":[[0,\"#8e0152\"],[0.1,\"#c51b7d\"],[0.2,\"#de77ae\"],[0.3,\"#f1b6da\"],[0.4,\"#fde0ef\"],[0.5,\"#f7f7f7\"],[0.6,\"#e6f5d0\"],[0.7,\"#b8e186\"],[0.8,\"#7fbc41\"],[0.9,\"#4d9221\"],[1,\"#276419\"]],\"sequential\":[[0.0,\"#0d0887\"],[0.1111111111111111,\"#46039f\"],[0.2222222222222222,\"#7201a8\"],[0.3333333333333333,\"#9c179e\"],[0.4444444444444444,\"#bd3786\"],[0.5555555555555556,\"#d8576b\"],[0.6666666666666666,\"#ed7953\"],[0.7777777777777778,\"#fb9f3a\"],[0.8888888888888888,\"#fdca26\"],[1.0,\"#f0f921\"]],\"sequentialminus\":[[0.0,\"#0d0887\"],[0.1111111111111111,\"#46039f\"],[0.2222222222222222,\"#7201a8\"],[0.3333333333333333,\"#9c179e\"],[0.4444444444444444,\"#bd3786\"],[0.5555555555555556,\"#d8576b\"],[0.6666666666666666,\"#ed7953\"],[0.7777777777777778,\"#fb9f3a\"],[0.8888888888888888,\"#fdca26\"],[1.0,\"#f0f921\"]]},\"colorway\":[\"#636efa\",\"#EF553B\",\"#00cc96\",\"#ab63fa\",\"#FFA15A\",\"#19d3f3\",\"#FF6692\",\"#B6E880\",\"#FF97FF\",\"#FECB52\"],\"font\":{\"color\":\"#2a3f5f\"},\"geo\":{\"bgcolor\":\"white\",\"lakecolor\":\"white\",\"landcolor\":\"#E5ECF6\",\"showlakes\":true,\"showland\":true,\"subunitcolor\":\"white\"},\"hoverlabel\":{\"align\":\"left\"},\"hovermode\":\"closest\",\"mapbox\":{\"style\":\"light\"},\"paper_bgcolor\":\"white\",\"plot_bgcolor\":\"#E5ECF6\",\"polar\":{\"angularaxis\":{\"gridcolor\":\"white\",\"linecolor\":\"white\",\"ticks\":\"\"},\"bgcolor\":\"#E5ECF6\",\"radialaxis\":{\"gridcolor\":\"white\",\"linecolor\":\"white\",\"ticks\":\"\"}},\"scene\":{\"xaxis\":{\"backgroundcolor\":\"#E5ECF6\",\"gridcolor\":\"white\",\"gridwidth\":2,\"linecolor\":\"white\",\"showbackground\":true,\"ticks\":\"\",\"zerolinecolor\":\"white\"},\"yaxis\":{\"backgroundcolor\":\"#E5ECF6\",\"gridcolor\":\"white\",\"gridwidth\":2,\"linecolor\":\"white\",\"showbackground\":true,\"ticks\":\"\",\"zerolinecolor\":\"white\"},\"zaxis\":{\"backgroundcolor\":\"#E5ECF6\",\"gridcolor\":\"white\",\"gridwidth\":2,\"linecolor\":\"white\",\"showbackground\":true,\"ticks\":\"\",\"zerolinecolor\":\"white\"}},\"shapedefaults\":{\"line\":{\"color\":\"#2a3f5f\"}},\"ternary\":{\"aaxis\":{\"gridcolor\":\"white\",\"linecolor\":\"white\",\"ticks\":\"\"},\"baxis\":{\"gridcolor\":\"white\",\"linecolor\":\"white\",\"ticks\":\"\"},\"bgcolor\":\"#E5ECF6\",\"caxis\":{\"gridcolor\":\"white\",\"linecolor\":\"white\",\"ticks\":\"\"}},\"title\":{\"x\":0.05},\"xaxis\":{\"automargin\":true,\"gridcolor\":\"white\",\"linecolor\":\"white\",\"ticks\":\"\",\"title\":{\"standoff\":15},\"zerolinecolor\":\"white\",\"zerolinewidth\":2},\"yaxis\":{\"automargin\":true,\"gridcolor\":\"white\",\"linecolor\":\"white\",\"ticks\":\"\",\"title\":{\"standoff\":15},\"zerolinecolor\":\"white\",\"zerolinewidth\":2}}},\"scene\":{\"domain\":{\"x\":[0.0,1.0],\"y\":[0.0,1.0]},\"xaxis\":{\"title\":{\"text\":\"Dnu\"}},\"yaxis\":{\"title\":{\"text\":\"Numax\"}},\"zaxis\":{\"title\":{\"text\":\"Epsilon\"}}},\"coloraxis\":{\"colorbar\":{\"title\":{\"text\":\"POP\"}},\"colorscale\":[[0.0,\"#0d0887\"],[0.1111111111111111,\"#46039f\"],[0.2222222222222222,\"#7201a8\"],[0.3333333333333333,\"#9c179e\"],[0.4444444444444444,\"#bd3786\"],[0.5555555555555556,\"#d8576b\"],[0.6666666666666666,\"#ed7953\"],[0.7777777777777778,\"#fb9f3a\"],[0.8888888888888888,\"#fdca26\"],[1.0,\"#f0f921\"]]},\"legend\":{\"tracegroupgap\":0},\"title\":{\"text\":\"Astroseismology Variables\"}},                        {\"responsive\": true}                    ).then(function(){\n",
              "                            \n",
              "var gd = document.getElementById('01437f70-f4b0-4661-8a01-e592d2036d81');\n",
              "var x = new MutationObserver(function (mutations, observer) {{\n",
              "        var display = window.getComputedStyle(gd).display;\n",
              "        if (!display || display === 'none') {{\n",
              "            console.log([gd, 'removed!']);\n",
              "            Plotly.purge(gd);\n",
              "            observer.disconnect();\n",
              "        }}\n",
              "}});\n",
              "\n",
              "// Listen for the removal of the full notebook cells\n",
              "var notebookContainer = gd.closest('#notebook-container');\n",
              "if (notebookContainer) {{\n",
              "    x.observe(notebookContainer, {childList: true});\n",
              "}}\n",
              "\n",
              "// Listen for the clearing of the current output cell\n",
              "var outputEl = gd.closest('.output');\n",
              "if (outputEl) {{\n",
              "    x.observe(outputEl, {childList: true});\n",
              "}}\n",
              "\n",
              "                        })                };                            </script>        </div>\n",
              "</body>\n",
              "</html>"
            ]
          },
          "metadata": {}
        }
      ]
    },
    {
      "cell_type": "markdown",
      "source": [
        "As clearly seen in the interactive figure above, **Dnu** and **numax** data have a linear relationship with each other. The part that will be most useful to us in classification is the **epsilon** axis. While the **RGB** class increases linearly according to epsilon, the **HeB** class is mostly clustered in values where epsilon is high. Of course, both classes are together in the lower parts of epsilon, but the **RGB** class is distributed in a tight linear line and the **HeB** data is spread over a wider area, which will make our classification easier. Additionally, this pattern we described and also the very few exceptions also increase the efficiency of our model significantly."
      ],
      "metadata": {
        "id": "xK_cNeK8PLkX"
      }
    },
    {
      "cell_type": "code",
      "source": [
        "y=df[\"POP\"] #Preparing targets for the model\n",
        "y "
      ],
      "metadata": {
        "colab": {
          "base_uri": "https://localhost:8080/"
        },
        "id": "8OWvrJ2fjT2g",
        "outputId": "0bbc11f1-6387-4769-d598-30aa1da5c5c6"
      },
      "execution_count": null,
      "outputs": [
        {
          "output_type": "execute_result",
          "data": {
            "text/plain": [
              "0       1\n",
              "1       0\n",
              "2       1\n",
              "3       1\n",
              "4       0\n",
              "       ..\n",
              "996     0\n",
              "997     1\n",
              "998     1\n",
              "999     1\n",
              "1000    1\n",
              "Name: POP, Length: 1001, dtype: int64"
            ]
          },
          "metadata": {},
          "execution_count": 8
        }
      ]
    },
    {
      "cell_type": "code",
      "source": [
        "x = df.iloc[:, 1:] #assigning the remaining 3 columns as variables\n",
        "x"
      ],
      "metadata": {
        "id": "WBI8m-tajcen",
        "colab": {
          "base_uri": "https://localhost:8080/",
          "height": 423
        },
        "outputId": "7f8cf38a-cb75-41c2-e9e7-865c9ce419e1"
      },
      "execution_count": null,
      "outputs": [
        {
          "output_type": "execute_result",
          "data": {
            "text/plain": [
              "           Dnu      numax  epsilon\n",
              "0      4.44780   43.06289    0.985\n",
              "1      6.94399   74.07646    0.150\n",
              "2      2.64571   21.57891    0.855\n",
              "3      4.24168   32.13189    0.840\n",
              "4     10.44719  120.37356    0.275\n",
              "...        ...        ...      ...\n",
              "996    5.51582   49.99920    0.060\n",
              "997    4.14823   32.09069    0.930\n",
              "998    3.98294   30.90257    0.880\n",
              "999    4.33893   45.62183    0.975\n",
              "1000   3.74869   37.94907    0.205\n",
              "\n",
              "[1001 rows x 3 columns]"
            ],
            "text/html": [
              "\n",
              "  <div id=\"df-fae39bd6-5186-4117-9ca2-d8668b057faa\">\n",
              "    <div class=\"colab-df-container\">\n",
              "      <div>\n",
              "<style scoped>\n",
              "    .dataframe tbody tr th:only-of-type {\n",
              "        vertical-align: middle;\n",
              "    }\n",
              "\n",
              "    .dataframe tbody tr th {\n",
              "        vertical-align: top;\n",
              "    }\n",
              "\n",
              "    .dataframe thead th {\n",
              "        text-align: right;\n",
              "    }\n",
              "</style>\n",
              "<table border=\"1\" class=\"dataframe\">\n",
              "  <thead>\n",
              "    <tr style=\"text-align: right;\">\n",
              "      <th></th>\n",
              "      <th>Dnu</th>\n",
              "      <th>numax</th>\n",
              "      <th>epsilon</th>\n",
              "    </tr>\n",
              "  </thead>\n",
              "  <tbody>\n",
              "    <tr>\n",
              "      <th>0</th>\n",
              "      <td>4.44780</td>\n",
              "      <td>43.06289</td>\n",
              "      <td>0.985</td>\n",
              "    </tr>\n",
              "    <tr>\n",
              "      <th>1</th>\n",
              "      <td>6.94399</td>\n",
              "      <td>74.07646</td>\n",
              "      <td>0.150</td>\n",
              "    </tr>\n",
              "    <tr>\n",
              "      <th>2</th>\n",
              "      <td>2.64571</td>\n",
              "      <td>21.57891</td>\n",
              "      <td>0.855</td>\n",
              "    </tr>\n",
              "    <tr>\n",
              "      <th>3</th>\n",
              "      <td>4.24168</td>\n",
              "      <td>32.13189</td>\n",
              "      <td>0.840</td>\n",
              "    </tr>\n",
              "    <tr>\n",
              "      <th>4</th>\n",
              "      <td>10.44719</td>\n",
              "      <td>120.37356</td>\n",
              "      <td>0.275</td>\n",
              "    </tr>\n",
              "    <tr>\n",
              "      <th>...</th>\n",
              "      <td>...</td>\n",
              "      <td>...</td>\n",
              "      <td>...</td>\n",
              "    </tr>\n",
              "    <tr>\n",
              "      <th>996</th>\n",
              "      <td>5.51582</td>\n",
              "      <td>49.99920</td>\n",
              "      <td>0.060</td>\n",
              "    </tr>\n",
              "    <tr>\n",
              "      <th>997</th>\n",
              "      <td>4.14823</td>\n",
              "      <td>32.09069</td>\n",
              "      <td>0.930</td>\n",
              "    </tr>\n",
              "    <tr>\n",
              "      <th>998</th>\n",
              "      <td>3.98294</td>\n",
              "      <td>30.90257</td>\n",
              "      <td>0.880</td>\n",
              "    </tr>\n",
              "    <tr>\n",
              "      <th>999</th>\n",
              "      <td>4.33893</td>\n",
              "      <td>45.62183</td>\n",
              "      <td>0.975</td>\n",
              "    </tr>\n",
              "    <tr>\n",
              "      <th>1000</th>\n",
              "      <td>3.74869</td>\n",
              "      <td>37.94907</td>\n",
              "      <td>0.205</td>\n",
              "    </tr>\n",
              "  </tbody>\n",
              "</table>\n",
              "<p>1001 rows × 3 columns</p>\n",
              "</div>\n",
              "      <button class=\"colab-df-convert\" onclick=\"convertToInteractive('df-fae39bd6-5186-4117-9ca2-d8668b057faa')\"\n",
              "              title=\"Convert this dataframe to an interactive table.\"\n",
              "              style=\"display:none;\">\n",
              "        \n",
              "  <svg xmlns=\"http://www.w3.org/2000/svg\" height=\"24px\"viewBox=\"0 0 24 24\"\n",
              "       width=\"24px\">\n",
              "    <path d=\"M0 0h24v24H0V0z\" fill=\"none\"/>\n",
              "    <path d=\"M18.56 5.44l.94 2.06.94-2.06 2.06-.94-2.06-.94-.94-2.06-.94 2.06-2.06.94zm-11 1L8.5 8.5l.94-2.06 2.06-.94-2.06-.94L8.5 2.5l-.94 2.06-2.06.94zm10 10l.94 2.06.94-2.06 2.06-.94-2.06-.94-.94-2.06-.94 2.06-2.06.94z\"/><path d=\"M17.41 7.96l-1.37-1.37c-.4-.4-.92-.59-1.43-.59-.52 0-1.04.2-1.43.59L10.3 9.45l-7.72 7.72c-.78.78-.78 2.05 0 2.83L4 21.41c.39.39.9.59 1.41.59.51 0 1.02-.2 1.41-.59l7.78-7.78 2.81-2.81c.8-.78.8-2.07 0-2.86zM5.41 20L4 18.59l7.72-7.72 1.47 1.35L5.41 20z\"/>\n",
              "  </svg>\n",
              "      </button>\n",
              "      \n",
              "  <style>\n",
              "    .colab-df-container {\n",
              "      display:flex;\n",
              "      flex-wrap:wrap;\n",
              "      gap: 12px;\n",
              "    }\n",
              "\n",
              "    .colab-df-convert {\n",
              "      background-color: #E8F0FE;\n",
              "      border: none;\n",
              "      border-radius: 50%;\n",
              "      cursor: pointer;\n",
              "      display: none;\n",
              "      fill: #1967D2;\n",
              "      height: 32px;\n",
              "      padding: 0 0 0 0;\n",
              "      width: 32px;\n",
              "    }\n",
              "\n",
              "    .colab-df-convert:hover {\n",
              "      background-color: #E2EBFA;\n",
              "      box-shadow: 0px 1px 2px rgba(60, 64, 67, 0.3), 0px 1px 3px 1px rgba(60, 64, 67, 0.15);\n",
              "      fill: #174EA6;\n",
              "    }\n",
              "\n",
              "    [theme=dark] .colab-df-convert {\n",
              "      background-color: #3B4455;\n",
              "      fill: #D2E3FC;\n",
              "    }\n",
              "\n",
              "    [theme=dark] .colab-df-convert:hover {\n",
              "      background-color: #434B5C;\n",
              "      box-shadow: 0px 1px 3px 1px rgba(0, 0, 0, 0.15);\n",
              "      filter: drop-shadow(0px 1px 2px rgba(0, 0, 0, 0.3));\n",
              "      fill: #FFFFFF;\n",
              "    }\n",
              "  </style>\n",
              "\n",
              "      <script>\n",
              "        const buttonEl =\n",
              "          document.querySelector('#df-fae39bd6-5186-4117-9ca2-d8668b057faa button.colab-df-convert');\n",
              "        buttonEl.style.display =\n",
              "          google.colab.kernel.accessAllowed ? 'block' : 'none';\n",
              "\n",
              "        async function convertToInteractive(key) {\n",
              "          const element = document.querySelector('#df-fae39bd6-5186-4117-9ca2-d8668b057faa');\n",
              "          const dataTable =\n",
              "            await google.colab.kernel.invokeFunction('convertToInteractive',\n",
              "                                                     [key], {});\n",
              "          if (!dataTable) return;\n",
              "\n",
              "          const docLinkHtml = 'Like what you see? Visit the ' +\n",
              "            '<a target=\"_blank\" href=https://colab.research.google.com/notebooks/data_table.ipynb>data table notebook</a>'\n",
              "            + ' to learn more about interactive tables.';\n",
              "          element.innerHTML = '';\n",
              "          dataTable['output_type'] = 'display_data';\n",
              "          await google.colab.output.renderOutput(dataTable, element);\n",
              "          const docLink = document.createElement('div');\n",
              "          docLink.innerHTML = docLinkHtml;\n",
              "          element.appendChild(docLink);\n",
              "        }\n",
              "      </script>\n",
              "    </div>\n",
              "  </div>\n",
              "  "
            ]
          },
          "metadata": {},
          "execution_count": 9
        }
      ]
    },
    {
      "cell_type": "code",
      "source": [
        "# First, our data is divided into train+val - test\n",
        "X_trainval, X_test, y_trainval, y_test = train_test_split(x, y, test_size=0.2, random_state=64)\n",
        "\n",
        "# \"then, the train and validation data are also divided among themselves\n",
        "X_train, X_val, y_train, y_val = train_test_split(X_trainval, y_trainval, test_size=0.1, random_state=42)"
      ],
      "metadata": {
        "id": "f-qRHKHSjog9"
      },
      "execution_count": null,
      "outputs": []
    },
    {
      "cell_type": "code",
      "source": [
        "scaler = MinMaxScaler()\n",
        "#preparing the divided data for scaling.\n",
        "#I used numpy to avoid various long and float errors in the future. Also it's faster\n",
        "X_train, y_train = np.array(X_train), np.array(y_train)\n",
        "X_val, y_val = np.array(X_val), np.array(y_val)\n",
        "X_test, y_test = np.array(X_test), np.array(y_test)\n",
        "\n",
        "X_train = scaler.fit_transform(X_train)\n",
        "X_val = scaler.transform(X_val)\n",
        "X_test = scaler.transform(X_test)\n"
      ],
      "metadata": {
        "id": "zI6ZLz25jtGc"
      },
      "execution_count": null,
      "outputs": []
    },
    {
      "cell_type": "code",
      "source": [
        "#preparing mini batches\n",
        "class ClassifierDataset(Dataset):\n",
        "    \n",
        "    def __init__(self, X_data, y_data):\n",
        "        self.X_data = X_data\n",
        "        self.y_data = y_data\n",
        "        \n",
        "    def __getitem__(self, index):\n",
        "        return self.X_data[index], self.y_data[index]\n",
        "        \n",
        "    def __len__ (self):\n",
        "        return len(self.X_data)\n",
        "\n",
        "\n",
        "train_dataset = ClassifierDataset(torch.from_numpy(X_train).float(), torch.from_numpy(y_train))\n",
        "val_dataset = ClassifierDataset(torch.from_numpy(X_val).float(), torch.from_numpy(y_val))\n",
        "test_dataset = ClassifierDataset(torch.from_numpy(X_test).float(), torch.from_numpy(y_test))\n",
        "\n",
        "train_loader = DataLoader(dataset=train_dataset, batch_size=16, shuffle=True)\n",
        "val_loader = DataLoader(dataset=val_dataset, batch_size=16, shuffle=True)\n",
        "test_loader = DataLoader(dataset=test_dataset, batch_size=1)"
      ],
      "metadata": {
        "id": "H8WO784djwVk"
      },
      "execution_count": null,
      "outputs": []
    },
    {
      "cell_type": "code",
      "source": [
        "class BinaryClassification(nn.Module):\n",
        "    def __init__(self, num_feature, num_class):\n",
        "        super(BinaryClassification,self).__init__()\n",
        "        #Since my neural network is of linear type, I used the Sequential command. \n",
        "        #I used dropout and batch normalization to reduce overfitting\n",
        "        self.model = nn.Sequential(\n",
        "            nn.Linear(num_feature, 512),\n",
        "            nn.BatchNorm1d(512),\n",
        "            nn.ReLU(),\n",
        "            nn.Linear(512, 128),\n",
        "            nn.BatchNorm1d(128),\n",
        "            nn.ReLU(),\n",
        "            nn.Dropout(p=0.2),\n",
        "            nn.Linear(128, 64),\n",
        "            nn.BatchNorm1d(64),\n",
        "            nn.ReLU(),\n",
        "            nn.Dropout(p=0.2),\n",
        "            nn.Linear(64, num_class),\n",
        "            nn.Softmax(dim=1) )\n",
        "\n",
        "    def forward(self, x):\n",
        "        return self.model(x)"
      ],
      "metadata": {
        "id": "xem8biF8j_gR"
      },
      "execution_count": null,
      "outputs": []
    },
    {
      "cell_type": "code",
      "source": [
        "#The following function will be used to calculate accuracy in train operation\n",
        "def acc(y_pred, y_test):\n",
        "      y_pred_softmax = torch.log_softmax(y_pred, dim = 1)\n",
        "      _, y_pred_tags = torch.max(y_pred_softmax, dim = 1)    \n",
        "      correct = torch.eq(y_test, y_pred_tags).sum().item()\n",
        "      acc = (correct / len(y_pred)) * 100 \n",
        "      return acc\n",
        "\n",
        "def train(model,epochs,optimizer,train_loader,val_loader,criterion,device,acc):\n",
        "      accuracy_stats = {'train': [],\"val\": []}\n",
        "      loss_stats = {'train': [],\"val\": []}#I will use a dictionary to monitor loss and accurancy changes more easily.\n",
        "      for e in tqdm(range(1, epochs+1)):\n",
        "        train_epoch_loss = 0\n",
        "        train_epoch_acc = 0\n",
        "        model.train()\n",
        "        for X_train_batch, y_train_batch in train_loader:\n",
        "            X_train_batch, y_train_batch = X_train_batch.to(device), y_train_batch.to(device)\n",
        "\n",
        "            y_train_pred = model(X_train_batch)\n",
        "       \n",
        "            train_loss = criterion(y_train_pred, y_train_batch)\n",
        "            train_acc = acc(y_train_pred, y_train_batch)\n",
        "            \n",
        "            optimizer.zero_grad()\n",
        "            train_loss.backward()\n",
        "            optimizer.step()\n",
        "\n",
        "            train_epoch_loss += train_loss.item()\n",
        "            train_epoch_acc += train_acc\n",
        "\n",
        "        with torch.no_grad():\n",
        "          val_epoch_loss = 0\n",
        "          val_epoch_acc = 0\n",
        "          model.eval()\n",
        "\n",
        "          for X_val_batch, y_val_batch in val_loader:\n",
        "              X_val_batch, y_val_batch = X_val_batch.to(device), y_val_batch.to(device)\n",
        "\n",
        "              y_val_pred = model(X_val_batch)\n",
        "\n",
        "              val_loss = criterion(y_val_pred, y_val_batch)\n",
        "              val_acc = acc(y_val_pred, y_val_batch)\n",
        "\n",
        "              val_epoch_loss += val_loss.item()\n",
        "              val_epoch_acc += val_acc\n",
        "        loss_stats['train'].append(train_epoch_loss/len(train_loader))\n",
        "        loss_stats['val'].append(val_epoch_loss/len(val_loader))\n",
        "        accuracy_stats['train'].append(train_epoch_acc/len(train_loader))\n",
        "        accuracy_stats['val'].append(val_epoch_acc/len(val_loader))\n",
        "      return accuracy_stats, loss_stats"
      ],
      "metadata": {
        "id": "WQ53NGpvghCJ"
      },
      "execution_count": null,
      "outputs": []
    },
    {
      "cell_type": "code",
      "source": [
        "device = torch.device(\"cuda:0\" if torch.cuda.is_available() else \"cpu\")\n",
        "print(device)"
      ],
      "metadata": {
        "colab": {
          "base_uri": "https://localhost:8080/"
        },
        "id": "JRvrJdlpkMWJ",
        "outputId": "1d047218-5cfc-4629-a65a-6d7677d6fd4e"
      },
      "execution_count": null,
      "outputs": [
        {
          "output_type": "stream",
          "name": "stdout",
          "text": [
            "cpu\n"
          ]
        }
      ]
    },
    {
      "cell_type": "code",
      "source": [
        "model = BinaryClassification(num_feature = len(x.columns), num_class=2)\n",
        "model.to(device)\n",
        "\n",
        "criterion = nn.CrossEntropyLoss()\n",
        "optimizer = optim.Adam(model.parameters(), lr=0.007)"
      ],
      "metadata": {
        "id": "u7azbUCdkPmt"
      },
      "execution_count": null,
      "outputs": []
    },
    {
      "cell_type": "code",
      "source": [
        "print(\"Begin training.\")\n",
        "accuracy_stats,loss_stats=train(model,160,optimizer,train_loader,val_loader,criterion,device,acc)"
      ],
      "metadata": {
        "colab": {
          "base_uri": "https://localhost:8080/",
          "height": 66,
          "referenced_widgets": [
            "95af66c5277b4822b8717dbf83b5a1e0",
            "550b26b7030b459790dd25726f3a623f",
            "98a3c9e10a0a4cba9fe92e7af6d0e1ee",
            "86374061e8b2432ea264254efbfb6a2f",
            "4c9657e86c15499e9fca403e82598770",
            "86088f0cd40243a89dddfb9a9c0813b2",
            "9250435148944f50b4d37b12ae50132c",
            "66474084b08c426388ba411183ee3064",
            "0815a3a7505a4057aca05bbed9c0cbfb",
            "01615d0f330b4b7180d3767eba0939e0",
            "3718665fce884a1e99502ba96cdb7c52"
          ]
        },
        "id": "DDikZsrcksg_",
        "outputId": "b3229f4b-bcd8-4c9a-c408-36a9c11b11a3"
      },
      "execution_count": null,
      "outputs": [
        {
          "output_type": "stream",
          "name": "stdout",
          "text": [
            "Begin training.\n"
          ]
        },
        {
          "output_type": "display_data",
          "data": {
            "text/plain": [
              "  0%|          | 0/160 [00:00<?, ?it/s]"
            ],
            "application/vnd.jupyter.widget-view+json": {
              "version_major": 2,
              "version_minor": 0,
              "model_id": "95af66c5277b4822b8717dbf83b5a1e0"
            }
          },
          "metadata": {}
        }
      ]
    },
    {
      "cell_type": "code",
      "source": [
        "# Plotting accuracy and loss for train and validation per epoch\n",
        "train_val_acc_df = pd.DataFrame.from_dict(accuracy_stats).reset_index().melt(id_vars=['index']).rename(columns={\"index\":\"epochs\"})\n",
        "train_val_loss_df = pd.DataFrame.from_dict(loss_stats).reset_index().melt(id_vars=['index']).rename(columns={\"index\":\"epochs\"})\n",
        "\n",
        "fig, axes = plt.subplots(nrows=1, ncols=2, figsize=(20,7))\n",
        "sns.lineplot(data=train_val_acc_df, x = \"epochs\", y=\"value\", hue=\"variable\",  ax=axes[0]).set_title('Train-Val Accuracy/Epoch')\n",
        "sns.lineplot(data=train_val_loss_df, x = \"epochs\", y=\"value\", hue=\"variable\", ax=axes[1]).set_title('Train-Val Loss/Epoch')"
      ],
      "metadata": {
        "colab": {
          "base_uri": "https://localhost:8080/",
          "height": 475
        },
        "id": "tvc695KmoiHh",
        "outputId": "18f38a8d-25aa-456f-aebd-d5d3c53d9adb"
      },
      "execution_count": null,
      "outputs": [
        {
          "output_type": "execute_result",
          "data": {
            "text/plain": [
              "Text(0.5, 1.0, 'Train-Val Loss/Epoch')"
            ]
          },
          "metadata": {},
          "execution_count": 18
        },
        {
          "output_type": "display_data",
          "data": {
            "text/plain": [
              "<Figure size 1440x504 with 2 Axes>"
            ],
            "image/png": "[encoded data removed]"
          },
          "metadata": {
            "needs_background": "light"
          }
        }
      ]
    },
    {
      "cell_type": "code",
      "source": [
        "#testing\n",
        "y_pred_list = []\n",
        "with torch.no_grad():\n",
        "    model.eval()\n",
        "    for X_batch, _ in test_loader:\n",
        "        X_batch = X_batch.to(device)\n",
        "        y_test_pred = model(X_batch)\n",
        "        _, y_pred_tags = torch.max(y_test_pred, dim = 1)\n",
        "        y_pred_list.append(y_pred_tags.cpu().numpy())\n",
        "y_pred_list = list(a.squeeze().tolist() for a in y_pred_list)"
      ],
      "metadata": {
        "id": "P0kNQ3-NpsWr"
      },
      "execution_count": null,
      "outputs": []
    },
    {
      "cell_type": "code",
      "source": [
        "#accuracy score\n",
        "print(accuracy_score(y_test,y_pred_list))"
      ],
      "metadata": {
        "colab": {
          "base_uri": "https://localhost:8080/"
        },
        "id": "n6gZoYb_iQGo",
        "outputId": "c0770554-1ede-4ae3-e977-6a86cb64c7cf"
      },
      "execution_count": null,
      "outputs": [
        {
          "output_type": "stream",
          "name": "stdout",
          "text": [
            "0.9701492537313433\n"
          ]
        }
      ]
    },
    {
      "cell_type": "code",
      "source": [
        "#confusion matrix\n",
        "plt.figure(figsize = (10,7))\n",
        "sns.heatmap(metrics.confusion_matrix(y_test,y_pred_list) , annot=True)"
      ],
      "metadata": {
        "colab": {
          "base_uri": "https://localhost:8080/",
          "height": 445
        },
        "id": "0wnlPyfJfjPE",
        "outputId": "2045b69d-f87c-4896-96af-afc89328723e"
      },
      "execution_count": null,
      "outputs": [
        {
          "output_type": "execute_result",
          "data": {
            "text/plain": [
              "<matplotlib.axes._subplots.AxesSubplot at 0x7fef6e0193d0>"
            ]
          },
          "metadata": {},
          "execution_count": 21
        },
        {
          "output_type": "display_data",
          "data": {
            "text/plain": [
              "<Figure size 720x504 with 2 Axes>"
            ],
            "image/png": "[encoded data removed]"
          },
          "metadata": {
            "needs_background": "light"
          }
        }
      ]
    },
    {
      "cell_type": "code",
      "source": [
        "print(classification_report(y_test, y_pred_list))"
      ],
      "metadata": {
        "colab": {
          "base_uri": "https://localhost:8080/"
        },
        "id": "JGIv573Vfkpp",
        "outputId": "4cc99b21-2e90-494c-e63e-1ff35a7eb5b6"
      },
      "execution_count": null,
      "outputs": [
        {
          "output_type": "stream",
          "name": "stdout",
          "text": [
            "              precision    recall  f1-score   support\n",
            "\n",
            "           0       0.94      0.97      0.95        62\n",
            "           1       0.99      0.97      0.98       139\n",
            "\n",
            "    accuracy                           0.97       201\n",
            "   macro avg       0.96      0.97      0.97       201\n",
            "weighted avg       0.97      0.97      0.97       201\n",
            "\n"
          ]
        }
      ]
    },
    {
      "cell_type": "markdown",
      "source": [
        "\"Although the loss & accuracy graphs of the train and validation values are daunting, the concentration on the diagonal of the confusion matrix shows that our model is very efficient.  Only 5 predictions were misclassified, while the remaining 200 predictions were correct. These results can be seen numerically in the classification report. Precision, recall and hence f1 score are almost at their maximum. The most important reason for this is, as I mentioned earlier, that astroseismological data is already very suitable for binary classification. Additionally, the methods I used to prevent overfitting have also contributed to this performance.\n",
        "\n",
        "*Thank you for taking the time.*"
      ],
      "metadata": {
        "id": "mUJlQyy_c_wk"
      }
    }
  ]
}