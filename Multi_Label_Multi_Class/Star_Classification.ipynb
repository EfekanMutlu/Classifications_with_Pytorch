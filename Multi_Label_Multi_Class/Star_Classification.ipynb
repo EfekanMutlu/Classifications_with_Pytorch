{
  "cells": [
    {
      "cell_type": "markdown",
      "metadata": {
        "id": "view-in-github",
        "colab_type": "text"
      },
      "source": [
        "<a href=\"https://colab.research.google.com/github/EfekanMutlu/Classifications_with_Pytorch/blob/main/Multi_Label_Multi_Class/Star_Classification.ipynb\" target=\"_parent\"><img src=\"https://colab.research.google.com/assets/colab-badge.svg\" alt=\"Open In Colab\"/></a>"
      ]
    },
    {
      "cell_type": "markdown",
      "source": [
        "# **A Multi Label Multi Classification Example with Pytorch: Star Classification**\n",
        "\n",
        "by *Efekan Mutlu*\n",
        "\n",
        "In this project, I will create an example project for multi-label-multi-class using Pytorch. For this example, I will use an astronomical data set that includes stars and their characteristics, which I think is one of the most intriguing data sets among the suitable ones. Unfortunately, my data set has relatively little information compared to scientific records of this type. If I find a more recent and wider version of it (with the same data types), I will update the project. However, I believe that even with such little data, the NN model I will build will be efficient."
      ],
      "metadata": {
        "id": "4nHCbKxlIYme"
      }
    },
    {
      "cell_type": "code",
      "execution_count": null,
      "metadata": {
        "id": "W0GrMloDjcMB"
      },
      "outputs": [],
      "source": [
        "import numpy as np\n",
        "import pandas as pd\n",
        "import seaborn as sns\n",
        "import matplotlib.pyplot as plt\n",
        "import plotly.express as px\n",
        "\n",
        "from tqdm.notebook import tqdm\n",
        "\n",
        "import torch\n",
        "import torch.nn as nn\n",
        "import torch.optim as optim\n",
        "import torch.nn.functional as F\n",
        "from torch.utils.data import Dataset, DataLoader\n",
        "\n",
        "from sklearn.preprocessing import MinMaxScaler    \n",
        "from sklearn.model_selection import train_test_split\n",
        "from sklearn.metrics import accuracy_score,classification_report,confusion_matrix\n",
        "from sklearn import metrics"
      ]
    },
    {
      "cell_type": "code",
      "execution_count": null,
      "metadata": {
        "colab": {
          "base_uri": "https://localhost:8080/",
          "height": 423
        },
        "id": "9Gp-a9_ciJeF",
        "outputId": "27bf75b7-7ab7-4c75-f5fb-fba585ea08ab"
      },
      "outputs": [
        {
          "output_type": "execute_result",
          "data": {
            "text/plain": [
              "     Temperature (K)  Luminosity(L/Lo)  Radius(R/Ro)  Absolute magnitude(Mv)  \\\n",
              "0               3068          0.002400        0.1700                   16.12   \n",
              "1               3042          0.000500        0.1542                   16.60   \n",
              "2               2600          0.000300        0.1020                   18.70   \n",
              "3               2800          0.000200        0.1600                   16.65   \n",
              "4               1939          0.000138        0.1030                   20.06   \n",
              "..               ...               ...           ...                     ...   \n",
              "235            38940     374830.000000     1356.0000                   -9.93   \n",
              "236            30839     834042.000000     1194.0000                  -10.63   \n",
              "237             8829     537493.000000     1423.0000                  -10.73   \n",
              "238             9235     404940.000000     1112.0000                  -11.23   \n",
              "239            37882     294903.000000     1783.0000                   -7.80   \n",
              "\n",
              "     Star type Star color Spectral Class  \n",
              "0            0        Red              M  \n",
              "1            0        Red              M  \n",
              "2            0        Red              M  \n",
              "3            0        Red              M  \n",
              "4            0        Red              M  \n",
              "..         ...        ...            ...  \n",
              "235          5       Blue              O  \n",
              "236          5       Blue              O  \n",
              "237          5      White              A  \n",
              "238          5      White              A  \n",
              "239          5       Blue              O  \n",
              "\n",
              "[240 rows x 7 columns]"
            ],
            "text/html": [
              "\n",
              "  <div id=\"df-dde0ea59-4d5b-4fdd-924f-68520746adfc\">\n",
              "    <div class=\"colab-df-container\">\n",
              "      <div>\n",
              "<style scoped>\n",
              "    .dataframe tbody tr th:only-of-type {\n",
              "        vertical-align: middle;\n",
              "    }\n",
              "\n",
              "    .dataframe tbody tr th {\n",
              "        vertical-align: top;\n",
              "    }\n",
              "\n",
              "    .dataframe thead th {\n",
              "        text-align: right;\n",
              "    }\n",
              "</style>\n",
              "<table border=\"1\" class=\"dataframe\">\n",
              "  <thead>\n",
              "    <tr style=\"text-align: right;\">\n",
              "      <th></th>\n",
              "      <th>Temperature (K)</th>\n",
              "      <th>Luminosity(L/Lo)</th>\n",
              "      <th>Radius(R/Ro)</th>\n",
              "      <th>Absolute magnitude(Mv)</th>\n",
              "      <th>Star type</th>\n",
              "      <th>Star color</th>\n",
              "      <th>Spectral Class</th>\n",
              "    </tr>\n",
              "  </thead>\n",
              "  <tbody>\n",
              "    <tr>\n",
              "      <th>0</th>\n",
              "      <td>3068</td>\n",
              "      <td>0.002400</td>\n",
              "      <td>0.1700</td>\n",
              "      <td>16.12</td>\n",
              "      <td>0</td>\n",
              "      <td>Red</td>\n",
              "      <td>M</td>\n",
              "    </tr>\n",
              "    <tr>\n",
              "      <th>1</th>\n",
              "      <td>3042</td>\n",
              "      <td>0.000500</td>\n",
              "      <td>0.1542</td>\n",
              "      <td>16.60</td>\n",
              "      <td>0</td>\n",
              "      <td>Red</td>\n",
              "      <td>M</td>\n",
              "    </tr>\n",
              "    <tr>\n",
              "      <th>2</th>\n",
              "      <td>2600</td>\n",
              "      <td>0.000300</td>\n",
              "      <td>0.1020</td>\n",
              "      <td>18.70</td>\n",
              "      <td>0</td>\n",
              "      <td>Red</td>\n",
              "      <td>M</td>\n",
              "    </tr>\n",
              "    <tr>\n",
              "      <th>3</th>\n",
              "      <td>2800</td>\n",
              "      <td>0.000200</td>\n",
              "      <td>0.1600</td>\n",
              "      <td>16.65</td>\n",
              "      <td>0</td>\n",
              "      <td>Red</td>\n",
              "      <td>M</td>\n",
              "    </tr>\n",
              "    <tr>\n",
              "      <th>4</th>\n",
              "      <td>1939</td>\n",
              "      <td>0.000138</td>\n",
              "      <td>0.1030</td>\n",
              "      <td>20.06</td>\n",
              "      <td>0</td>\n",
              "      <td>Red</td>\n",
              "      <td>M</td>\n",
              "    </tr>\n",
              "    <tr>\n",
              "      <th>...</th>\n",
              "      <td>...</td>\n",
              "      <td>...</td>\n",
              "      <td>...</td>\n",
              "      <td>...</td>\n",
              "      <td>...</td>\n",
              "      <td>...</td>\n",
              "      <td>...</td>\n",
              "    </tr>\n",
              "    <tr>\n",
              "      <th>235</th>\n",
              "      <td>38940</td>\n",
              "      <td>374830.000000</td>\n",
              "      <td>1356.0000</td>\n",
              "      <td>-9.93</td>\n",
              "      <td>5</td>\n",
              "      <td>Blue</td>\n",
              "      <td>O</td>\n",
              "    </tr>\n",
              "    <tr>\n",
              "      <th>236</th>\n",
              "      <td>30839</td>\n",
              "      <td>834042.000000</td>\n",
              "      <td>1194.0000</td>\n",
              "      <td>-10.63</td>\n",
              "      <td>5</td>\n",
              "      <td>Blue</td>\n",
              "      <td>O</td>\n",
              "    </tr>\n",
              "    <tr>\n",
              "      <th>237</th>\n",
              "      <td>8829</td>\n",
              "      <td>537493.000000</td>\n",
              "      <td>1423.0000</td>\n",
              "      <td>-10.73</td>\n",
              "      <td>5</td>\n",
              "      <td>White</td>\n",
              "      <td>A</td>\n",
              "    </tr>\n",
              "    <tr>\n",
              "      <th>238</th>\n",
              "      <td>9235</td>\n",
              "      <td>404940.000000</td>\n",
              "      <td>1112.0000</td>\n",
              "      <td>-11.23</td>\n",
              "      <td>5</td>\n",
              "      <td>White</td>\n",
              "      <td>A</td>\n",
              "    </tr>\n",
              "    <tr>\n",
              "      <th>239</th>\n",
              "      <td>37882</td>\n",
              "      <td>294903.000000</td>\n",
              "      <td>1783.0000</td>\n",
              "      <td>-7.80</td>\n",
              "      <td>5</td>\n",
              "      <td>Blue</td>\n",
              "      <td>O</td>\n",
              "    </tr>\n",
              "  </tbody>\n",
              "</table>\n",
              "<p>240 rows × 7 columns</p>\n",
              "</div>\n",
              "      <button class=\"colab-df-convert\" onclick=\"convertToInteractive('df-dde0ea59-4d5b-4fdd-924f-68520746adfc')\"\n",
              "              title=\"Convert this dataframe to an interactive table.\"\n",
              "              style=\"display:none;\">\n",
              "        \n",
              "  <svg xmlns=\"http://www.w3.org/2000/svg\" height=\"24px\"viewBox=\"0 0 24 24\"\n",
              "       width=\"24px\">\n",
              "    <path d=\"M0 0h24v24H0V0z\" fill=\"none\"/>\n",
              "    <path d=\"M18.56 5.44l.94 2.06.94-2.06 2.06-.94-2.06-.94-.94-2.06-.94 2.06-2.06.94zm-11 1L8.5 8.5l.94-2.06 2.06-.94-2.06-.94L8.5 2.5l-.94 2.06-2.06.94zm10 10l.94 2.06.94-2.06 2.06-.94-2.06-.94-.94-2.06-.94 2.06-2.06.94z\"/><path d=\"M17.41 7.96l-1.37-1.37c-.4-.4-.92-.59-1.43-.59-.52 0-1.04.2-1.43.59L10.3 9.45l-7.72 7.72c-.78.78-.78 2.05 0 2.83L4 21.41c.39.39.9.59 1.41.59.51 0 1.02-.2 1.41-.59l7.78-7.78 2.81-2.81c.8-.78.8-2.07 0-2.86zM5.41 20L4 18.59l7.72-7.72 1.47 1.35L5.41 20z\"/>\n",
              "  </svg>\n",
              "      </button>\n",
              "      \n",
              "  <style>\n",
              "    .colab-df-container {\n",
              "      display:flex;\n",
              "      flex-wrap:wrap;\n",
              "      gap: 12px;\n",
              "    }\n",
              "\n",
              "    .colab-df-convert {\n",
              "      background-color: #E8F0FE;\n",
              "      border: none;\n",
              "      border-radius: 50%;\n",
              "      cursor: pointer;\n",
              "      display: none;\n",
              "      fill: #1967D2;\n",
              "      height: 32px;\n",
              "      padding: 0 0 0 0;\n",
              "      width: 32px;\n",
              "    }\n",
              "\n",
              "    .colab-df-convert:hover {\n",
              "      background-color: #E2EBFA;\n",
              "      box-shadow: 0px 1px 2px rgba(60, 64, 67, 0.3), 0px 1px 3px 1px rgba(60, 64, 67, 0.15);\n",
              "      fill: #174EA6;\n",
              "    }\n",
              "\n",
              "    [theme=dark] .colab-df-convert {\n",
              "      background-color: #3B4455;\n",
              "      fill: #D2E3FC;\n",
              "    }\n",
              "\n",
              "    [theme=dark] .colab-df-convert:hover {\n",
              "      background-color: #434B5C;\n",
              "      box-shadow: 0px 1px 3px 1px rgba(0, 0, 0, 0.15);\n",
              "      filter: drop-shadow(0px 1px 2px rgba(0, 0, 0, 0.3));\n",
              "      fill: #FFFFFF;\n",
              "    }\n",
              "  </style>\n",
              "\n",
              "      <script>\n",
              "        const buttonEl =\n",
              "          document.querySelector('#df-dde0ea59-4d5b-4fdd-924f-68520746adfc button.colab-df-convert');\n",
              "        buttonEl.style.display =\n",
              "          google.colab.kernel.accessAllowed ? 'block' : 'none';\n",
              "\n",
              "        async function convertToInteractive(key) {\n",
              "          const element = document.querySelector('#df-dde0ea59-4d5b-4fdd-924f-68520746adfc');\n",
              "          const dataTable =\n",
              "            await google.colab.kernel.invokeFunction('convertToInteractive',\n",
              "                                                     [key], {});\n",
              "          if (!dataTable) return;\n",
              "\n",
              "          const docLinkHtml = 'Like what you see? Visit the ' +\n",
              "            '<a target=\"_blank\" href=https://colab.research.google.com/notebooks/data_table.ipynb>data table notebook</a>'\n",
              "            + ' to learn more about interactive tables.';\n",
              "          element.innerHTML = '';\n",
              "          dataTable['output_type'] = 'display_data';\n",
              "          await google.colab.output.renderOutput(dataTable, element);\n",
              "          const docLink = document.createElement('div');\n",
              "          docLink.innerHTML = docLinkHtml;\n",
              "          element.appendChild(docLink);\n",
              "        }\n",
              "      </script>\n",
              "    </div>\n",
              "  </div>\n",
              "  "
            ]
          },
          "metadata": {},
          "execution_count": 33
        }
      ],
      "source": [
        "file=\"6 class csv.csv\"\n",
        "df=pd.read_csv(file)\n",
        "df"
      ]
    },
    {
      "cell_type": "markdown",
      "source": [
        "The first 4 columns contain the variables. The column headers clearly state what they are about. The last 3 columns will be our labels. Since we only see 10 rows in the graph above, let's write the elements of these labels separately."
      ],
      "metadata": {
        "id": "aPXKjPoFfBg4"
      }
    },
    {
      "cell_type": "code",
      "source": [
        "a=df[\"Star type\"].unique()\n",
        "b=df[\"Star color\"].unique()\n",
        "c=df[\"Spectral Class\"].unique()\n",
        "print(\"star type:\",a,\"length\",len(a))\n",
        "print(\"star color:\",b,\"length\",len(b))\n",
        "print(\"spectral class:\",c,\"length\",len(c))"
      ],
      "metadata": {
        "colab": {
          "base_uri": "https://localhost:8080/"
        },
        "id": "6NCTif7Gghro",
        "outputId": "7dcac69d-505d-487d-9ed8-c9225754b22a"
      },
      "execution_count": null,
      "outputs": [
        {
          "output_type": "stream",
          "name": "stdout",
          "text": [
            "star type: [0 1 2 3 4 5] length 6\n",
            "star color: ['Red' 'Blue White' 'White' 'Yellowish White' 'Blue white'\n",
            " 'Pale yellow orange' 'Blue' 'Blue-white' 'Whitish' 'yellow-white'\n",
            " 'Orange' 'White-Yellow' 'white' 'Blue ' 'yellowish' 'Yellowish'\n",
            " 'Orange-Red' 'Blue white ' 'Blue-White'] length 19\n",
            "spectral class: ['M' 'B' 'A' 'F' 'O' 'K' 'G'] length 7\n"
          ]
        }
      ]
    },
    {
      "cell_type": "markdown",
      "source": [
        "The star names are clearly visible, but the star types are represented by numbers; while the spectral class is represented by letters. These mean:\n",
        "\n",
        "\n",
        "*   For **Star Type:**\n",
        "  1. Brown Dwarf -> Star Type = **0**\n",
        "\n",
        "  2. Red Dwarf -> Star Type = **1**\n",
        "\n",
        "  3. White Dwarf-> Star Type = **2**\n",
        "\n",
        "  4. Main Sequence -> Star Type = **3**\n",
        "\n",
        "  5. Supergiant -> Star Type = **4**\n",
        "\n",
        "  6. Hypergiant -> Star Type = **5**\n",
        "\n",
        "\n",
        "*   For **Specral Class:**\n",
        "\n",
        "  1. **O:**\tSurface Temperature:>25,000K\t\n",
        "  2. **B:**\tSurface Temperature:10,000-25,000K\t\n",
        "  3. **A:**\tSurface Temperature:7,500-10,000K\t\n",
        "  4. **F:**\tSurface Temperature:6,000-7,500K\t\n",
        "  5. **G:**\tSurface Temperature:5,000-6,000K\t\n",
        "  6. **K:**\tSurface Temperature:3,500-5,000K\t\n",
        "  7. **M:**\tSurface Temperature:< 3,500K\t\n",
        "\n"
      ],
      "metadata": {
        "id": "YcL7SOwKgAkT"
      }
    },
    {
      "cell_type": "code",
      "source": [
        "plt.pie(df['Star type'].value_counts(),autopct=\"%1.1f%%\",labels=[\"Red Dwarf\", \"Brown Dwarf\", \"White Dwarf\", \"Main Sequence\" , \"SuperGiants\", \"HyperGiants\"])\n",
        "plt.show()"
      ],
      "metadata": {
        "colab": {
          "base_uri": "https://localhost:8080/",
          "height": 248
        },
        "id": "I_V_AxrGWKOV",
        "outputId": "05e14fdb-db12-41e9-f65e-c84bc1cba073"
      },
      "execution_count": null,
      "outputs": [
        {
          "output_type": "display_data",
          "data": {
            "text/plain": [
              "<Figure size 432x288 with 1 Axes>"
            ],
            "image/png": "[encoded data removed]"
          },
          "metadata": {}
        }
      ]
    },
    {
      "cell_type": "markdown",
      "source": [
        "As seen, our star types are evenly distributed in the dataset. Before building our model, in order to see what we are dealing with, we need to compare the 4 variables against the 3 labels and examine the data distribution. Unfortunately, since there are more than 3 variables, we cannot prepare a 2D or 3D plot. Therefore, a 4x4 matrix will be useful for us. We need to create separate matrices for each label. It would be more logical to run them in separate cells instead of subplot form for easier examination."
      ],
      "metadata": {
        "id": "td34t-MniEIH"
      }
    },
    {
      "cell_type": "code",
      "source": [
        "fig1=px.scatter_matrix(data_frame=df,dimensions=[\"Temperature (K)\", \"Luminosity(L/Lo)\", \"Radius(R/Ro)\", \"Absolute magnitude(Mv)\"], \n",
        "                                 color=\"Star type\",width=1200, height=800)\n",
        "fig1.show()"
      ],
      "metadata": {
        "colab": {
          "base_uri": "https://localhost:8080/",
          "height": 817
        },
        "id": "2SE8MtSVZ2gH",
        "outputId": "d95ba576-f468-4f44-a1a8-ea670bfeb3a7"
      },
      "execution_count": null,
      "outputs": [
        {
          "output_type": "display_data",
          "data": {
            "text/html": [
              "<html>\n",
              "<head><meta charset=\"utf-8\" /></head>\n",
              "<body>\n",
              "    <div>            <script src=\"https://cdnjs.cloudflare.com/ajax/libs/mathjax/2.7.5/MathJax.js?config=TeX-AMS-MML_SVG\"></script><script type=\"text/javascript\">if (window.MathJax) {MathJax.Hub.Config({SVG: {font: \"STIX-Web\"}});}</script>                <script type=\"text/javascript\">window.PlotlyConfig = {MathJaxConfig: 'local'};</script>\n",
              "        <script src=\"https://cdn.plot.ly/plotly-2.8.3.min.js\"></script>                <div id=\"4c60c2a0-178f-45ae-a3db-4274589a7ea0\" class=\"plotly-graph-div\" style=\"height:800px; width:1200px;\"></div>            <script type=\"text/javascript\">                                    window.PLOTLYENV=window.PLOTLYENV || {};                                    if (document.getElementById(\"4c60c2a0-178f-45ae-a3db-4274589a7ea0\")) {                    Plotly.newPlot(                        \"4c60c2a0-178f-45ae-a3db-4274589a7ea0\",                        [{\"dimensions\":[{\"axis\":{\"matches\":true},\"label\":\"Temperature (K)\",\"values\":[3068,3042,2600,2800,1939,2840,2637,2600,2650,2700,3600,3129,3134,3628,2650,3340,2799,3692,3192,3441,25000,7740,7220,8500,16500,12990,8570,7700,11790,7230,39000,30000,15276,9700,5800,8052,6757,6380,5936,5587,3826,3365,3270,3200,3008,3600,3575,3574,3625,33750,3490,3750,3834,3749,3650,3450,3660,3450,3752,3535,3341,3432,2983,2835,2935,3295,2945,2817,2774,2871,3345,3607,3304,3150,3550,3180,2890,3342,2621,3158,7100,10574,8930,17200,14100,9675,12010,10980,13720,19860,5300,4526,4077,4980,9030,11250,5112,7720,12098,36108,33300,40000,23000,17120,11096,14245,24630,12893,24345,33421,3459,3605,3615,3399,3610,3553,4015,3625,6850,3780,3323,3531,3218,3146,3511,3225,2935,2861,2856,2731,3095,3607,3100,2989,3542,3243,3091,3598,3324,3541,13420,21020,18290,14520,11900,8924,12912,14732,7723,12984,29560,8945,14060,16390,25070,28700,26140,20120,13023,37800,25390,11567,12675,5752,8927,7282,19923,26373,17383,9373,3570,3500,4287,26000,3600,3614,18000,11000,12100,24490,2831,2914,3419,3218,3453,2889,2968,3484,2778,3523,3462,3257,2994,3212,3523,3598,3142,3496,3324,3463,16790,15680,14982,13340,18340,19920,24020,23092,17920,19360,22350,10012,13089,22012,34190,32460,9320,19400,17140,8250,23678,12749,9383,23440,16787,18734,9892,10930,23095,21738,24145,38234,32489,27739,21904,38940,30839,8829,9235,37882]},{\"axis\":{\"matches\":true},\"label\":\"Luminosity(L/Lo)\",\"values\":[0.0024,0.0005,0.0003,0.0002,0.000138,0.00065,0.00073,0.0004,0.00069,0.00018,0.0029,0.0122,0.0004,0.0055,0.0006,0.0038,0.0018,0.00367,0.00362,0.039,0.056,0.00049,0.00017,0.0005,0.013,8.5e-05,0.00081,0.00011,0.00015,8e-05,204000.0,28840.0,1136.0,74.0,0.81,8.7,1.43,1.35,1.357,0.819,200000.0,340000.0,150000.0,195000.0,280000.0,320000.0,123000.0,200000.0,184000.0,220000.0,270000.0,283000.0,272000.0,550000.0,310000.0,263000.0,363000.0,174000.0,209000.0,195000.0,0.0056,0.00067,0.00024,0.00034,0.00014,0.00098,0.00032,0.00098,0.00036,0.00072,0.021,0.022,0.0085,0.0088,0.004,0.001,0.0034,0.0015,0.0006,0.00135,0.00029,0.00014,0.00056,0.00098,0.00067,0.00045,0.00078,0.00074,0.00018,0.0011,0.59,0.153,0.085,0.357,45.0,672.0,0.63,7.92,689.0,198000.0,240000.0,813000.0,127000.0,235000.0,112000.0,231000.0,363000.0,184000.0,142000.0,352000.0,100000.0,126000.0,200000.0,117000.0,132000.0,145000.0,282000.0,74000.0,229000.0,200000.0,0.00043,0.00093,0.00054,0.00015,0.00064,0.00076,0.00087,0.00019,0.000896,0.000437,0.00019,0.00023,0.008,0.0087,0.0009,0.0023,0.0081,0.0011,0.0034,0.0013,0.00059,0.0015,0.0013,0.00082,0.00067,0.00028,0.00071,0.00011,0.00014,0.00088,188000.0,38.0,1092.0,1278.0,14500.0,16790.0,14520.0,4720.0,998.0,202900.0,223000.0,251000.0,452000.0,245000.0,239000.0,131000.0,152000.0,198000.0,342900.0,424520.0,320000.0,138000.0,630000.0,316000.0,240000.0,145000.0,200000.0,170000.0,120000.0,248490.0,0.000231,0.000631,0.000245,0.000452,0.000621,0.000352,0.000461,0.000551,0.000849,0.000957,0.0053,0.0024,0.0072,0.0016,0.0054,0.0027,0.00132,0.00125,0.0065,0.0027,0.0014,0.00122,0.00118,0.00109,0.00134,0.00156,0.00159,0.00132,0.00111,0.00125,12450.0,552.0,788.0,6748.0,198200.0,173800.0,29.0,10920.0,883.0,9.25,244290.0,332520.0,342940.0,537430.0,246730.0,224780.0,593900.0,783930.0,347820.0,748890.0,382993.0,272830.0,648430.0,849420.0,748490.0,374830.0,834042.0,537493.0,404940.0,294903.0]},{\"axis\":{\"matches\":true},\"label\":\"Radius(R/Ro)\",\"values\":[0.17,0.1542,0.102,0.16,0.103,0.11,0.127,0.096,0.11,0.13,0.51,0.3761,0.196,0.393,0.14,0.24,0.16,0.47,0.1967,0.351,0.0084,0.01234,0.011,0.01,0.014,0.00984,0.0097,0.0128,0.011,0.013,10.6,6.3,7.2,2.89,0.9,1.8,1.12,0.98,1.106,0.99,19.0,23.0,88.0,17.0,25.0,29.0,45.0,89.0,84.0,26.0,1520.0,1260.0,1183.0,1648.0,1324.0,1349.0,1673.0,1284.0,955.0,1546.0,0.057,0.19,0.094,0.0918,0.116,0.132,0.093,0.0911,0.118,0.12,0.273,0.38,0.18,0.35,0.291,0.35,0.24,0.307,0.098,0.161,0.012,0.0092,0.0095,0.015,0.0089,0.0109,0.0092,0.0087,0.00892,0.0131,0.91,0.865,0.795,1.13,2.63,6.98,0.876,1.34,7.01,10.2,12.0,14.0,36.0,83.0,12.0,42.0,63.0,36.0,57.0,67.0,1289.0,1124.0,1635.0,1486.0,1522.0,1324.0,1534.0,876.0,1467.0,1324.0,0.0912,0.0976,0.11,0.0932,0.109,0.121,0.0932,0.0899,0.0782,0.0856,0.492,0.38,0.31,0.34,0.62,0.73,0.24,0.56,0.34,0.256,0.00981,0.0112,0.00934,0.00972,0.00898,0.00879,0.00945,0.00892,0.00878,0.00996,6.02,2.487,5.745,5.68,5.92,6.4,5.49,6.78,6.21,6.86,57.0,36.0,83.0,97.0,35.0,24.0,73.0,39.0,30.0,24.0,1480.0,1420.0,1315.0,1679.0,1190.0,1553.0,1045.0,1779.0,708.9,1134.5,0.0915,0.116,0.126,0.0987,0.0773,0.0973,0.119,0.0998,0.112,0.129,0.148,0.46,0.28,0.378,0.319,0.67,0.258,0.336,0.471,0.675,0.0121,0.0114,0.0113,0.0116,0.0124,0.0142,0.0127,0.0104,0.0106,0.00998,6.36,5.856,5.992,6.64,6.39,6.237,1.91,6.03,5.653,1.93,35.0,76.0,98.0,81.0,62.0,46.0,80.0,25.0,86.0,92.0,1494.0,1356.0,1948.5,1252.0,1130.0,1356.0,1194.0,1423.0,1112.0,1783.0]},{\"axis\":{\"matches\":true},\"label\":\"Absolute magnitude(Mv)\",\"values\":[16.12,16.6,18.7,16.65,20.06,16.98,17.22,17.4,17.45,16.05,10.69,11.79,13.21,10.48,11.782,13.07,14.79,10.8,13.53,11.18,10.58,14.02,14.23,14.5,11.89,12.23,14.2,14.47,12.59,14.08,-4.7,-4.2,-1.97,0.16,5.05,2.42,2.41,2.93,4.46,5.03,-6.93,-6.2,-6.02,-7.22,-6.0,-6.6,-6.78,-5.24,-6.74,-6.1,-9.4,-7.63,-9.2,-8.05,-7.79,-11.75,-11.92,-11.28,-11.24,-11.36,16.23,16.94,16.09,16.96,18.89,17.13,18.34,16.45,17.39,19.43,12.3,10.12,13.2,11.94,10.89,11.76,13.46,11.87,12.81,13.98,14.09,12.02,13.78,12.45,12.17,13.98,12.13,11.19,12.97,11.34,5.49,6.506,6.228,4.78,1.45,-2.3,4.68,2.44,0.02,-4.4,-6.5,-6.23,-5.76,-6.89,-5.91,-6.12,-5.83,-6.34,-6.24,-5.79,-10.7,-10.81,-11.33,-10.92,-10.86,-11.03,-11.39,-10.25,-10.07,-10.7,17.16,19.94,20.02,16.92,17.12,19.63,16.88,16.71,19.56,18.09,10.87,10.34,11.17,13.12,14.23,14.75,11.43,14.26,12.23,14.33,13.67,11.52,12.78,11.92,11.38,14.87,12.83,12.89,14.81,11.23,-4.01,0.12,-2.04,-3.32,-3.98,-4.09,-3.8,-3.4,-1.38,-4.56,-5.92,-6.245,-5.62,-6.63,-7.34,-7.22,-5.69,-5.83,-6.09,-5.99,-7.58,-8.18,-9.2,-9.1,-7.89,-7.71,-8.3,-9.9,-7.84,-8.24,16.21,18.39,17.56,17.34,17.08,16.93,17.45,16.67,19.45,16.35,11.47,10.73,13.45,12.854,12.43,13.667,14.12,14.94,12.78,14.776,12.87,11.92,12.23,12.9,11.22,11.34,10.55,10.18,11.66,11.62,-3.67,0.013,-0.12,-2.55,-4.57,-4.36,1.236,-3.08,-2.64,-0.98,-6.27,-7.02,-6.98,-5.975,-6.35,-7.45,-7.262,-6.224,-5.905,-7.346,-8.84,-9.29,-10.84,-7.59,-7.67,-9.93,-10.63,-10.73,-11.23,-7.8]}],\"hovertemplate\":\"%{xaxis.title.text}=%{x}<br>%{yaxis.title.text}=%{y}<br>Star type=%{marker.color}<extra></extra>\",\"legendgroup\":\"\",\"marker\":{\"color\":[0,0,0,0,0,0,0,0,0,0,1,1,1,1,1,1,1,1,1,1,2,2,2,2,2,2,2,2,2,2,3,3,3,3,3,3,3,3,3,3,4,4,4,4,4,4,4,4,4,4,5,5,5,5,5,5,5,5,5,5,0,0,0,0,0,0,0,0,0,0,1,1,1,1,1,1,1,1,1,1,2,2,2,2,2,2,2,2,2,2,3,3,3,3,3,3,3,3,3,3,4,4,4,4,4,4,4,4,4,4,5,5,5,5,5,5,5,5,5,5,0,0,0,0,0,0,0,0,0,0,1,1,1,1,1,1,1,1,1,1,2,2,2,2,2,2,2,2,2,2,3,3,3,3,3,3,3,3,3,3,4,4,4,4,4,4,4,4,4,4,5,5,5,5,5,5,5,5,5,5,0,0,0,0,0,0,0,0,0,0,1,1,1,1,1,1,1,1,1,1,2,2,2,2,2,2,2,2,2,2,3,3,3,3,3,3,3,3,3,3,4,4,4,4,4,4,4,4,4,4,5,5,5,5,5,5,5,5,5,5],\"coloraxis\":\"coloraxis\",\"symbol\":\"circle\"},\"name\":\"\",\"showlegend\":false,\"type\":\"splom\"}],                        {\"template\":{\"data\":{\"bar\":[{\"error_x\":{\"color\":\"#2a3f5f\"},\"error_y\":{\"color\":\"#2a3f5f\"},\"marker\":{\"line\":{\"color\":\"#E5ECF6\",\"width\":0.5},\"pattern\":{\"fillmode\":\"overlay\",\"size\":10,\"solidity\":0.2}},\"type\":\"bar\"}],\"barpolar\":[{\"marker\":{\"line\":{\"color\":\"#E5ECF6\",\"width\":0.5},\"pattern\":{\"fillmode\":\"overlay\",\"size\":10,\"solidity\":0.2}},\"type\":\"barpolar\"}],\"carpet\":[{\"aaxis\":{\"endlinecolor\":\"#2a3f5f\",\"gridcolor\":\"white\",\"linecolor\":\"white\",\"minorgridcolor\":\"white\",\"startlinecolor\":\"#2a3f5f\"},\"baxis\":{\"endlinecolor\":\"#2a3f5f\",\"gridcolor\":\"white\",\"linecolor\":\"white\",\"minorgridcolor\":\"white\",\"startlinecolor\":\"#2a3f5f\"},\"type\":\"carpet\"}],\"choropleth\":[{\"colorbar\":{\"outlinewidth\":0,\"ticks\":\"\"},\"type\":\"choropleth\"}],\"contour\":[{\"colorbar\":{\"outlinewidth\":0,\"ticks\":\"\"},\"colorscale\":[[0.0,\"#0d0887\"],[0.1111111111111111,\"#46039f\"],[0.2222222222222222,\"#7201a8\"],[0.3333333333333333,\"#9c179e\"],[0.4444444444444444,\"#bd3786\"],[0.5555555555555556,\"#d8576b\"],[0.6666666666666666,\"#ed7953\"],[0.7777777777777778,\"#fb9f3a\"],[0.8888888888888888,\"#fdca26\"],[1.0,\"#f0f921\"]],\"type\":\"contour\"}],\"contourcarpet\":[{\"colorbar\":{\"outlinewidth\":0,\"ticks\":\"\"},\"type\":\"contourcarpet\"}],\"heatmap\":[{\"colorbar\":{\"outlinewidth\":0,\"ticks\":\"\"},\"colorscale\":[[0.0,\"#0d0887\"],[0.1111111111111111,\"#46039f\"],[0.2222222222222222,\"#7201a8\"],[0.3333333333333333,\"#9c179e\"],[0.4444444444444444,\"#bd3786\"],[0.5555555555555556,\"#d8576b\"],[0.6666666666666666,\"#ed7953\"],[0.7777777777777778,\"#fb9f3a\"],[0.8888888888888888,\"#fdca26\"],[1.0,\"#f0f921\"]],\"type\":\"heatmap\"}],\"heatmapgl\":[{\"colorbar\":{\"outlinewidth\":0,\"ticks\":\"\"},\"colorscale\":[[0.0,\"#0d0887\"],[0.1111111111111111,\"#46039f\"],[0.2222222222222222,\"#7201a8\"],[0.3333333333333333,\"#9c179e\"],[0.4444444444444444,\"#bd3786\"],[0.5555555555555556,\"#d8576b\"],[0.6666666666666666,\"#ed7953\"],[0.7777777777777778,\"#fb9f3a\"],[0.8888888888888888,\"#fdca26\"],[1.0,\"#f0f921\"]],\"type\":\"heatmapgl\"}],\"histogram\":[{\"marker\":{\"pattern\":{\"fillmode\":\"overlay\",\"size\":10,\"solidity\":0.2}},\"type\":\"histogram\"}],\"histogram2d\":[{\"colorbar\":{\"outlinewidth\":0,\"ticks\":\"\"},\"colorscale\":[[0.0,\"#0d0887\"],[0.1111111111111111,\"#46039f\"],[0.2222222222222222,\"#7201a8\"],[0.3333333333333333,\"#9c179e\"],[0.4444444444444444,\"#bd3786\"],[0.5555555555555556,\"#d8576b\"],[0.6666666666666666,\"#ed7953\"],[0.7777777777777778,\"#fb9f3a\"],[0.8888888888888888,\"#fdca26\"],[1.0,\"#f0f921\"]],\"type\":\"histogram2d\"}],\"histogram2dcontour\":[{\"colorbar\":{\"outlinewidth\":0,\"ticks\":\"\"},\"colorscale\":[[0.0,\"#0d0887\"],[0.1111111111111111,\"#46039f\"],[0.2222222222222222,\"#7201a8\"],[0.3333333333333333,\"#9c179e\"],[0.4444444444444444,\"#bd3786\"],[0.5555555555555556,\"#d8576b\"],[0.6666666666666666,\"#ed7953\"],[0.7777777777777778,\"#fb9f3a\"],[0.8888888888888888,\"#fdca26\"],[1.0,\"#f0f921\"]],\"type\":\"histogram2dcontour\"}],\"mesh3d\":[{\"colorbar\":{\"outlinewidth\":0,\"ticks\":\"\"},\"type\":\"mesh3d\"}],\"parcoords\":[{\"line\":{\"colorbar\":{\"outlinewidth\":0,\"ticks\":\"\"}},\"type\":\"parcoords\"}],\"pie\":[{\"automargin\":true,\"type\":\"pie\"}],\"scatter\":[{\"marker\":{\"colorbar\":{\"outlinewidth\":0,\"ticks\":\"\"}},\"type\":\"scatter\"}],\"scatter3d\":[{\"line\":{\"colorbar\":{\"outlinewidth\":0,\"ticks\":\"\"}},\"marker\":{\"colorbar\":{\"outlinewidth\":0,\"ticks\":\"\"}},\"type\":\"scatter3d\"}],\"scattercarpet\":[{\"marker\":{\"colorbar\":{\"outlinewidth\":0,\"ticks\":\"\"}},\"type\":\"scattercarpet\"}],\"scattergeo\":[{\"marker\":{\"colorbar\":{\"outlinewidth\":0,\"ticks\":\"\"}},\"type\":\"scattergeo\"}],\"scattergl\":[{\"marker\":{\"colorbar\":{\"outlinewidth\":0,\"ticks\":\"\"}},\"type\":\"scattergl\"}],\"scattermapbox\":[{\"marker\":{\"colorbar\":{\"outlinewidth\":0,\"ticks\":\"\"}},\"type\":\"scattermapbox\"}],\"scatterpolar\":[{\"marker\":{\"colorbar\":{\"outlinewidth\":0,\"ticks\":\"\"}},\"type\":\"scatterpolar\"}],\"scatterpolargl\":[{\"marker\":{\"colorbar\":{\"outlinewidth\":0,\"ticks\":\"\"}},\"type\":\"scatterpolargl\"}],\"scatterternary\":[{\"marker\":{\"colorbar\":{\"outlinewidth\":0,\"ticks\":\"\"}},\"type\":\"scatterternary\"}],\"surface\":[{\"colorbar\":{\"outlinewidth\":0,\"ticks\":\"\"},\"colorscale\":[[0.0,\"#0d0887\"],[0.1111111111111111,\"#46039f\"],[0.2222222222222222,\"#7201a8\"],[0.3333333333333333,\"#9c179e\"],[0.4444444444444444,\"#bd3786\"],[0.5555555555555556,\"#d8576b\"],[0.6666666666666666,\"#ed7953\"],[0.7777777777777778,\"#fb9f3a\"],[0.8888888888888888,\"#fdca26\"],[1.0,\"#f0f921\"]],\"type\":\"surface\"}],\"table\":[{\"cells\":{\"fill\":{\"color\":\"#EBF0F8\"},\"line\":{\"color\":\"white\"}},\"header\":{\"fill\":{\"color\":\"#C8D4E3\"},\"line\":{\"color\":\"white\"}},\"type\":\"table\"}]},\"layout\":{\"annotationdefaults\":{\"arrowcolor\":\"#2a3f5f\",\"arrowhead\":0,\"arrowwidth\":1},\"autotypenumbers\":\"strict\",\"coloraxis\":{\"colorbar\":{\"outlinewidth\":0,\"ticks\":\"\"}},\"colorscale\":{\"diverging\":[[0,\"#8e0152\"],[0.1,\"#c51b7d\"],[0.2,\"#de77ae\"],[0.3,\"#f1b6da\"],[0.4,\"#fde0ef\"],[0.5,\"#f7f7f7\"],[0.6,\"#e6f5d0\"],[0.7,\"#b8e186\"],[0.8,\"#7fbc41\"],[0.9,\"#4d9221\"],[1,\"#276419\"]],\"sequential\":[[0.0,\"#0d0887\"],[0.1111111111111111,\"#46039f\"],[0.2222222222222222,\"#7201a8\"],[0.3333333333333333,\"#9c179e\"],[0.4444444444444444,\"#bd3786\"],[0.5555555555555556,\"#d8576b\"],[0.6666666666666666,\"#ed7953\"],[0.7777777777777778,\"#fb9f3a\"],[0.8888888888888888,\"#fdca26\"],[1.0,\"#f0f921\"]],\"sequentialminus\":[[0.0,\"#0d0887\"],[0.1111111111111111,\"#46039f\"],[0.2222222222222222,\"#7201a8\"],[0.3333333333333333,\"#9c179e\"],[0.4444444444444444,\"#bd3786\"],[0.5555555555555556,\"#d8576b\"],[0.6666666666666666,\"#ed7953\"],[0.7777777777777778,\"#fb9f3a\"],[0.8888888888888888,\"#fdca26\"],[1.0,\"#f0f921\"]]},\"colorway\":[\"#636efa\",\"#EF553B\",\"#00cc96\",\"#ab63fa\",\"#FFA15A\",\"#19d3f3\",\"#FF6692\",\"#B6E880\",\"#FF97FF\",\"#FECB52\"],\"font\":{\"color\":\"#2a3f5f\"},\"geo\":{\"bgcolor\":\"white\",\"lakecolor\":\"white\",\"landcolor\":\"#E5ECF6\",\"showlakes\":true,\"showland\":true,\"subunitcolor\":\"white\"},\"hoverlabel\":{\"align\":\"left\"},\"hovermode\":\"closest\",\"mapbox\":{\"style\":\"light\"},\"paper_bgcolor\":\"white\",\"plot_bgcolor\":\"#E5ECF6\",\"polar\":{\"angularaxis\":{\"gridcolor\":\"white\",\"linecolor\":\"white\",\"ticks\":\"\"},\"bgcolor\":\"#E5ECF6\",\"radialaxis\":{\"gridcolor\":\"white\",\"linecolor\":\"white\",\"ticks\":\"\"}},\"scene\":{\"xaxis\":{\"backgroundcolor\":\"#E5ECF6\",\"gridcolor\":\"white\",\"gridwidth\":2,\"linecolor\":\"white\",\"showbackground\":true,\"ticks\":\"\",\"zerolinecolor\":\"white\"},\"yaxis\":{\"backgroundcolor\":\"#E5ECF6\",\"gridcolor\":\"white\",\"gridwidth\":2,\"linecolor\":\"white\",\"showbackground\":true,\"ticks\":\"\",\"zerolinecolor\":\"white\"},\"zaxis\":{\"backgroundcolor\":\"#E5ECF6\",\"gridcolor\":\"white\",\"gridwidth\":2,\"linecolor\":\"white\",\"showbackground\":true,\"ticks\":\"\",\"zerolinecolor\":\"white\"}},\"shapedefaults\":{\"line\":{\"color\":\"#2a3f5f\"}},\"ternary\":{\"aaxis\":{\"gridcolor\":\"white\",\"linecolor\":\"white\",\"ticks\":\"\"},\"baxis\":{\"gridcolor\":\"white\",\"linecolor\":\"white\",\"ticks\":\"\"},\"bgcolor\":\"#E5ECF6\",\"caxis\":{\"gridcolor\":\"white\",\"linecolor\":\"white\",\"ticks\":\"\"}},\"title\":{\"x\":0.05},\"xaxis\":{\"automargin\":true,\"gridcolor\":\"white\",\"linecolor\":\"white\",\"ticks\":\"\",\"title\":{\"standoff\":15},\"zerolinecolor\":\"white\",\"zerolinewidth\":2},\"yaxis\":{\"automargin\":true,\"gridcolor\":\"white\",\"linecolor\":\"white\",\"ticks\":\"\",\"title\":{\"standoff\":15},\"zerolinecolor\":\"white\",\"zerolinewidth\":2}}},\"coloraxis\":{\"colorbar\":{\"title\":{\"text\":\"Star type\"}},\"colorscale\":[[0.0,\"#0d0887\"],[0.1111111111111111,\"#46039f\"],[0.2222222222222222,\"#7201a8\"],[0.3333333333333333,\"#9c179e\"],[0.4444444444444444,\"#bd3786\"],[0.5555555555555556,\"#d8576b\"],[0.6666666666666666,\"#ed7953\"],[0.7777777777777778,\"#fb9f3a\"],[0.8888888888888888,\"#fdca26\"],[1.0,\"#f0f921\"]]},\"legend\":{\"tracegroupgap\":0},\"margin\":{\"t\":60},\"dragmode\":\"select\",\"height\":800,\"width\":1200},                        {\"responsive\": true}                    ).then(function(){\n",
              "                            \n",
              "var gd = document.getElementById('4c60c2a0-178f-45ae-a3db-4274589a7ea0');\n",
              "var x = new MutationObserver(function (mutations, observer) {{\n",
              "        var display = window.getComputedStyle(gd).display;\n",
              "        if (!display || display === 'none') {{\n",
              "            console.log([gd, 'removed!']);\n",
              "            Plotly.purge(gd);\n",
              "            observer.disconnect();\n",
              "        }}\n",
              "}});\n",
              "\n",
              "// Listen for the removal of the full notebook cells\n",
              "var notebookContainer = gd.closest('#notebook-container');\n",
              "if (notebookContainer) {{\n",
              "    x.observe(notebookContainer, {childList: true});\n",
              "}}\n",
              "\n",
              "// Listen for the clearing of the current output cell\n",
              "var outputEl = gd.closest('.output');\n",
              "if (outputEl) {{\n",
              "    x.observe(outputEl, {childList: true});\n",
              "}}\n",
              "\n",
              "                        })                };                            </script>        </div>\n",
              "</body>\n",
              "</html>"
            ]
          },
          "metadata": {}
        }
      ]
    },
    {
      "cell_type": "code",
      "source": [
        "fig2=px.scatter_matrix(data_frame=df,dimensions=[\"Temperature (K)\", \"Luminosity(L/Lo)\", \"Radius(R/Ro)\", \"Absolute magnitude(Mv)\"], \n",
        "                                 color=\"Star color\",width=1200, height=800)\n",
        "fig2.show()"
      ],
      "metadata": {
        "colab": {
          "base_uri": "https://localhost:8080/",
          "height": 817
        },
        "id": "ZKwmxwUxcnrm",
        "outputId": "eb79beec-3454-4638-bc3e-35a72994680c"
      },
      "execution_count": null,
      "outputs": [
        {
          "output_type": "display_data",
          "data": {
            "text/html": [
              "<html>\n",
              "<head><meta charset=\"utf-8\" /></head>\n",
              "<body>\n",
              "    <div>            <script src=\"https://cdnjs.cloudflare.com/ajax/libs/mathjax/2.7.5/MathJax.js?config=TeX-AMS-MML_SVG\"></script><script type=\"text/javascript\">if (window.MathJax) {MathJax.Hub.Config({SVG: {font: \"STIX-Web\"}});}</script>                <script type=\"text/javascript\">window.PlotlyConfig = {MathJaxConfig: 'local'};</script>\n",
              "        <script src=\"https://cdn.plot.ly/plotly-2.8.3.min.js\"></script>                <div id=\"1eb43345-3e2a-40f1-8dd4-e1989eb79ecb\" class=\"plotly-graph-div\" style=\"height:800px; width:1200px;\"></div>            <script type=\"text/javascript\">                                    window.PLOTLYENV=window.PLOTLYENV || {};                                    if (document.getElementById(\"1eb43345-3e2a-40f1-8dd4-e1989eb79ecb\")) {                    Plotly.newPlot(                        \"1eb43345-3e2a-40f1-8dd4-e1989eb79ecb\",                        [{\"dimensions\":[{\"axis\":{\"matches\":true},\"label\":\"Temperature (K)\",\"values\":[3068,3042,2600,2800,1939,2840,2637,2600,2650,2700,3600,3129,3134,3628,2650,3340,2799,3692,3192,3441,3826,3365,3270,3200,3008,3600,3575,3574,3625,3490,3750,3834,3650,3450,3660,3450,3752,3535,3341,3432,2983,2835,2935,3295,2945,2817,2774,2871,3345,3607,3304,3150,3550,3180,2890,3342,2621,3158,3459,3605,3615,3399,3610,3553,4015,3625,6850,3780,3323,3531,3218,3146,3511,3225,2935,2861,2856,2731,3095,3607,3100,2989,3542,3243,3091,3598,3324,3541,3570,3500,3600,3614,2831,2914,3419,3218,3453,2889,2968,3484,2778,3523,3462,3257,2994,3212,3523,3598,3142,3496,3324,3463]},{\"axis\":{\"matches\":true},\"label\":\"Luminosity(L/Lo)\",\"values\":[0.0024,0.0005,0.0003,0.0002,0.000138,0.00065,0.00073,0.0004,0.00069,0.00018,0.0029,0.0122,0.0004,0.0055,0.0006,0.0038,0.0018,0.00367,0.00362,0.039,200000.0,340000.0,150000.0,195000.0,280000.0,320000.0,123000.0,200000.0,184000.0,270000.0,283000.0,272000.0,310000.0,263000.0,363000.0,174000.0,209000.0,195000.0,0.0056,0.00067,0.00024,0.00034,0.00014,0.00098,0.00032,0.00098,0.00036,0.00072,0.021,0.022,0.0085,0.0088,0.004,0.001,0.0034,0.0015,0.0006,0.00135,100000.0,126000.0,200000.0,117000.0,132000.0,145000.0,282000.0,74000.0,229000.0,200000.0,0.00043,0.00093,0.00054,0.00015,0.00064,0.00076,0.00087,0.00019,0.000896,0.000437,0.00019,0.00023,0.008,0.0087,0.0009,0.0023,0.0081,0.0011,0.0034,0.0013,320000.0,138000.0,240000.0,145000.0,0.000231,0.000631,0.000245,0.000452,0.000621,0.000352,0.000461,0.000551,0.000849,0.000957,0.0053,0.0024,0.0072,0.0016,0.0054,0.0027,0.00132,0.00125,0.0065,0.0027]},{\"axis\":{\"matches\":true},\"label\":\"Radius(R/Ro)\",\"values\":[0.17,0.1542,0.102,0.16,0.103,0.11,0.127,0.096,0.11,0.13,0.51,0.3761,0.196,0.393,0.14,0.24,0.16,0.47,0.1967,0.351,19.0,23.0,88.0,17.0,25.0,29.0,45.0,89.0,84.0,1520.0,1260.0,1183.0,1324.0,1349.0,1673.0,1284.0,955.0,1546.0,0.057,0.19,0.094,0.0918,0.116,0.132,0.093,0.0911,0.118,0.12,0.273,0.38,0.18,0.35,0.291,0.35,0.24,0.307,0.098,0.161,1289.0,1124.0,1635.0,1486.0,1522.0,1324.0,1534.0,876.0,1467.0,1324.0,0.0912,0.0976,0.11,0.0932,0.109,0.121,0.0932,0.0899,0.0782,0.0856,0.492,0.38,0.31,0.34,0.62,0.73,0.24,0.56,0.34,0.256,1480.0,1420.0,1190.0,1553.0,0.0915,0.116,0.126,0.0987,0.0773,0.0973,0.119,0.0998,0.112,0.129,0.148,0.46,0.28,0.378,0.319,0.67,0.258,0.336,0.471,0.675]},{\"axis\":{\"matches\":true},\"label\":\"Absolute magnitude(Mv)\",\"values\":[16.12,16.6,18.7,16.65,20.06,16.98,17.22,17.4,17.45,16.05,10.69,11.79,13.21,10.48,11.782,13.07,14.79,10.8,13.53,11.18,-6.93,-6.2,-6.02,-7.22,-6.0,-6.6,-6.78,-5.24,-6.74,-9.4,-7.63,-9.2,-7.79,-11.75,-11.92,-11.28,-11.24,-11.36,16.23,16.94,16.09,16.96,18.89,17.13,18.34,16.45,17.39,19.43,12.3,10.12,13.2,11.94,10.89,11.76,13.46,11.87,12.81,13.98,-10.7,-10.81,-11.33,-10.92,-10.86,-11.03,-11.39,-10.25,-10.07,-10.7,17.16,19.94,20.02,16.92,17.12,19.63,16.88,16.71,19.56,18.09,10.87,10.34,11.17,13.12,14.23,14.75,11.43,14.26,12.23,14.33,-7.58,-8.18,-7.89,-7.71,16.21,18.39,17.56,17.34,17.08,16.93,17.45,16.67,19.45,16.35,11.47,10.73,13.45,12.854,12.43,13.667,14.12,14.94,12.78,14.776]}],\"hovertemplate\":\"Star color=Red<br>%{xaxis.title.text}=%{x}<br>%{yaxis.title.text}=%{y}<extra></extra>\",\"legendgroup\":\"Red\",\"marker\":{\"color\":\"#636efa\",\"symbol\":\"circle\"},\"name\":\"Red\",\"showlegend\":true,\"type\":\"splom\"},{\"dimensions\":[{\"axis\":{\"matches\":true},\"label\":\"Temperature (K)\",\"values\":[25000,16500,17200,14100,9675,12010,10980,13420,14520,12984]},{\"axis\":{\"matches\":true},\"label\":\"Luminosity(L/Lo)\",\"values\":[0.056,0.013,0.00098,0.00067,0.00045,0.00078,0.00074,0.00059,0.00082,0.00088]},{\"axis\":{\"matches\":true},\"label\":\"Radius(R/Ro)\",\"values\":[0.0084,0.014,0.015,0.0089,0.0109,0.0092,0.0087,0.00981,0.00972,0.00996]},{\"axis\":{\"matches\":true},\"label\":\"Absolute magnitude(Mv)\",\"values\":[10.58,11.89,12.45,12.17,13.98,12.13,11.19,13.67,11.92,11.23]}],\"hovertemplate\":\"Star color=Blue White<br>%{xaxis.title.text}=%{x}<br>%{yaxis.title.text}=%{y}<extra></extra>\",\"legendgroup\":\"Blue White\",\"marker\":{\"color\":\"#EF553B\",\"symbol\":\"circle\"},\"name\":\"Blue White\",\"showlegend\":true,\"type\":\"splom\"},{\"dimensions\":[{\"axis\":{\"matches\":true},\"label\":\"Temperature (K)\",\"values\":[7740,7220,8500,10574,7723,8829,9235]},{\"axis\":{\"matches\":true},\"label\":\"Luminosity(L/Lo)\",\"values\":[0.00049,0.00017,0.0005,0.00014,0.00014,537493.0,404940.0]},{\"axis\":{\"matches\":true},\"label\":\"Radius(R/Ro)\",\"values\":[0.01234,0.011,0.01,0.0092,0.00878,1423.0,1112.0]},{\"axis\":{\"matches\":true},\"label\":\"Absolute magnitude(Mv)\",\"values\":[14.02,14.23,14.5,12.02,14.81,-10.73,-11.23]}],\"hovertemplate\":\"Star color=White<br>%{xaxis.title.text}=%{x}<br>%{yaxis.title.text}=%{y}<extra></extra>\",\"legendgroup\":\"White\",\"marker\":{\"color\":\"#00cc96\",\"symbol\":\"circle\"},\"name\":\"White\",\"showlegend\":true,\"type\":\"splom\"},{\"dimensions\":[{\"axis\":{\"matches\":true},\"label\":\"Temperature (K)\",\"values\":[12990,7700,11790]},{\"axis\":{\"matches\":true},\"label\":\"Luminosity(L/Lo)\",\"values\":[8.5e-05,0.00011,0.00015]},{\"axis\":{\"matches\":true},\"label\":\"Radius(R/Ro)\",\"values\":[0.00984,0.0128,0.011]},{\"axis\":{\"matches\":true},\"label\":\"Absolute magnitude(Mv)\",\"values\":[12.23,14.47,12.59]}],\"hovertemplate\":\"Star color=Yellowish White<br>%{xaxis.title.text}=%{x}<br>%{yaxis.title.text}=%{y}<extra></extra>\",\"legendgroup\":\"Yellowish White\",\"marker\":{\"color\":\"#ab63fa\",\"symbol\":\"circle\"},\"name\":\"Yellowish White\",\"showlegend\":true,\"type\":\"splom\"},{\"dimensions\":[{\"axis\":{\"matches\":true},\"label\":\"Temperature (K)\",\"values\":[8570,8924,12912]},{\"axis\":{\"matches\":true},\"label\":\"Luminosity(L/Lo)\",\"values\":[0.00081,0.00028,0.00071]},{\"axis\":{\"matches\":true},\"label\":\"Radius(R/Ro)\",\"values\":[0.0097,0.00879,0.00945]},{\"axis\":{\"matches\":true},\"label\":\"Absolute magnitude(Mv)\",\"values\":[14.2,14.87,12.83]}],\"hovertemplate\":\"Star color=Blue white<br>%{xaxis.title.text}=%{x}<br>%{yaxis.title.text}=%{y}<extra></extra>\",\"legendgroup\":\"Blue white\",\"marker\":{\"color\":\"#FFA15A\",\"symbol\":\"circle\"},\"name\":\"Blue white\",\"showlegend\":true,\"type\":\"splom\"},{\"dimensions\":[{\"axis\":{\"matches\":true},\"label\":\"Temperature (K)\",\"values\":[7230]},{\"axis\":{\"matches\":true},\"label\":\"Luminosity(L/Lo)\",\"values\":[8e-05]},{\"axis\":{\"matches\":true},\"label\":\"Radius(R/Ro)\",\"values\":[0.013]},{\"axis\":{\"matches\":true},\"label\":\"Absolute magnitude(Mv)\",\"values\":[14.08]}],\"hovertemplate\":\"Star color=Pale yellow orange<br>%{xaxis.title.text}=%{x}<br>%{yaxis.title.text}=%{y}<extra></extra>\",\"legendgroup\":\"Pale yellow orange\",\"marker\":{\"color\":\"#19d3f3\",\"symbol\":\"circle\"},\"name\":\"Pale yellow orange\",\"showlegend\":true,\"type\":\"splom\"},{\"dimensions\":[{\"axis\":{\"matches\":true},\"label\":\"Temperature (K)\",\"values\":[39000,33750,36108,33300,40000,23000,17120,11096,14245,24630,12893,24345,33421,21020,18290,37800,25390,11567,12675,5752,8927,7282,19923,26373,17383,9373,26000,18000,16790,15680,14982,13340,18340,19920,24020,23092,17920,19360,34190,32460,23678,12749,9383,23440,16787,18734,9892,10930,23095,21738,38234,32489,38940,30839,37882]},{\"axis\":{\"matches\":true},\"label\":\"Luminosity(L/Lo)\",\"values\":[204000.0,220000.0,198000.0,240000.0,813000.0,127000.0,235000.0,112000.0,231000.0,363000.0,184000.0,142000.0,352000.0,0.0015,0.0013,202900.0,223000.0,251000.0,452000.0,245000.0,239000.0,131000.0,152000.0,198000.0,342900.0,424520.0,316000.0,200000.0,0.0014,0.00122,0.00118,0.00109,0.00134,0.00156,0.00159,0.00132,0.00111,0.00125,198200.0,173800.0,244290.0,332520.0,342940.0,537430.0,246730.0,224780.0,593900.0,783930.0,347820.0,748890.0,272830.0,648430.0,374830.0,834042.0,294903.0]},{\"axis\":{\"matches\":true},\"label\":\"Radius(R/Ro)\",\"values\":[10.6,26.0,10.2,12.0,14.0,36.0,83.0,12.0,42.0,63.0,36.0,57.0,67.0,0.0112,0.00934,6.86,57.0,36.0,83.0,97.0,35.0,24.0,73.0,39.0,30.0,24.0,1679.0,1045.0,0.0121,0.0114,0.0113,0.0116,0.0124,0.0142,0.0127,0.0104,0.0106,0.00998,6.39,6.237,35.0,76.0,98.0,81.0,62.0,46.0,80.0,25.0,86.0,92.0,1356.0,1948.5,1356.0,1194.0,1783.0]},{\"axis\":{\"matches\":true},\"label\":\"Absolute magnitude(Mv)\",\"values\":[-4.7,-6.1,-4.4,-6.5,-6.23,-5.76,-6.89,-5.91,-6.12,-5.83,-6.34,-6.24,-5.79,11.52,12.78,-4.56,-5.92,-6.245,-5.62,-6.63,-7.34,-7.22,-5.69,-5.83,-6.09,-5.99,-9.1,-8.3,12.87,11.92,12.23,12.9,11.22,11.34,10.55,10.18,11.66,11.62,-4.57,-4.36,-6.27,-7.02,-6.98,-5.975,-6.35,-7.45,-7.262,-6.224,-5.905,-7.346,-9.29,-10.84,-9.93,-10.63,-7.8]}],\"hovertemplate\":\"Star color=Blue<br>%{xaxis.title.text}=%{x}<br>%{yaxis.title.text}=%{y}<extra></extra>\",\"legendgroup\":\"Blue\",\"marker\":{\"color\":\"#FF6692\",\"symbol\":\"circle\"},\"name\":\"Blue\",\"showlegend\":true,\"type\":\"splom\"},{\"dimensions\":[{\"axis\":{\"matches\":true},\"label\":\"Temperature (K)\",\"values\":[30000,15276,9030,11250,12098,29560,14060,16390,25070,28700,26140,20120,13023,11000,12100,24490,22350,10012,13089,22012,9320,19400,17140,24145,27739,21904]},{\"axis\":{\"matches\":true},\"label\":\"Luminosity(L/Lo)\",\"values\":[28840.0,1136.0,45.0,672.0,689.0,188000.0,1092.0,1278.0,14500.0,16790.0,14520.0,4720.0,998.0,170000.0,120000.0,248490.0,12450.0,552.0,788.0,6748.0,29.0,10920.0,883.0,382993.0,849420.0,748490.0]},{\"axis\":{\"matches\":true},\"label\":\"Radius(R/Ro)\",\"values\":[6.3,7.2,2.63,6.98,7.01,6.02,5.745,5.68,5.92,6.4,5.49,6.78,6.21,1779.0,708.9,1134.5,6.36,5.856,5.992,6.64,1.91,6.03,5.653,1494.0,1252.0,1130.0]},{\"axis\":{\"matches\":true},\"label\":\"Absolute magnitude(Mv)\",\"values\":[-4.2,-1.97,1.45,-2.3,0.02,-4.01,-2.04,-3.32,-3.98,-4.09,-3.8,-3.4,-1.38,-9.9,-7.84,-8.24,-3.67,0.013,-0.12,-2.55,1.236,-3.08,-2.64,-8.84,-7.59,-7.67]}],\"hovertemplate\":\"Star color=Blue-white<br>%{xaxis.title.text}=%{x}<br>%{yaxis.title.text}=%{y}<extra></extra>\",\"legendgroup\":\"Blue-white\",\"marker\":{\"color\":\"#B6E880\",\"symbol\":\"circle\"},\"name\":\"Blue-white\",\"showlegend\":true,\"type\":\"splom\"},{\"dimensions\":[{\"axis\":{\"matches\":true},\"label\":\"Temperature (K)\",\"values\":[9700,8052]},{\"axis\":{\"matches\":true},\"label\":\"Luminosity(L/Lo)\",\"values\":[74.0,8.7]},{\"axis\":{\"matches\":true},\"label\":\"Radius(R/Ro)\",\"values\":[2.89,1.8]},{\"axis\":{\"matches\":true},\"label\":\"Absolute magnitude(Mv)\",\"values\":[0.16,2.42]}],\"hovertemplate\":\"Star color=Whitish<br>%{xaxis.title.text}=%{x}<br>%{yaxis.title.text}=%{y}<extra></extra>\",\"legendgroup\":\"Whitish\",\"marker\":{\"color\":\"#FF97FF\",\"symbol\":\"circle\"},\"name\":\"Whitish\",\"showlegend\":true,\"type\":\"splom\"},{\"dimensions\":[{\"axis\":{\"matches\":true},\"label\":\"Temperature (K)\",\"values\":[5800,6757,6380,5936,5587,5300,7720,8250]},{\"axis\":{\"matches\":true},\"label\":\"Luminosity(L/Lo)\",\"values\":[0.81,1.43,1.35,1.357,0.819,0.59,7.92,9.25]},{\"axis\":{\"matches\":true},\"label\":\"Radius(R/Ro)\",\"values\":[0.9,1.12,0.98,1.106,0.99,0.91,1.34,1.93]},{\"axis\":{\"matches\":true},\"label\":\"Absolute magnitude(Mv)\",\"values\":[5.05,2.41,2.93,4.46,5.03,5.49,2.44,-0.98]}],\"hovertemplate\":\"Star color=yellow-white<br>%{xaxis.title.text}=%{x}<br>%{yaxis.title.text}=%{y}<extra></extra>\",\"legendgroup\":\"yellow-white\",\"marker\":{\"color\":\"#FECB52\",\"symbol\":\"circle\"},\"name\":\"yellow-white\",\"showlegend\":true,\"type\":\"splom\"},{\"dimensions\":[{\"axis\":{\"matches\":true},\"label\":\"Temperature (K)\",\"values\":[3749,4287]},{\"axis\":{\"matches\":true},\"label\":\"Luminosity(L/Lo)\",\"values\":[550000.0,630000.0]},{\"axis\":{\"matches\":true},\"label\":\"Radius(R/Ro)\",\"values\":[1648.0,1315.0]},{\"axis\":{\"matches\":true},\"label\":\"Absolute magnitude(Mv)\",\"values\":[-8.05,-9.2]}],\"hovertemplate\":\"Star color=Orange<br>%{xaxis.title.text}=%{x}<br>%{yaxis.title.text}=%{y}<extra></extra>\",\"legendgroup\":\"Orange\",\"marker\":{\"color\":\"#636efa\",\"symbol\":\"circle\"},\"name\":\"Orange\",\"showlegend\":true,\"type\":\"splom\"},{\"dimensions\":[{\"axis\":{\"matches\":true},\"label\":\"Temperature (K)\",\"values\":[7100]},{\"axis\":{\"matches\":true},\"label\":\"Luminosity(L/Lo)\",\"values\":[0.00029]},{\"axis\":{\"matches\":true},\"label\":\"Radius(R/Ro)\",\"values\":[0.012]},{\"axis\":{\"matches\":true},\"label\":\"Absolute magnitude(Mv)\",\"values\":[14.09]}],\"hovertemplate\":\"Star color=White-Yellow<br>%{xaxis.title.text}=%{x}<br>%{yaxis.title.text}=%{y}<extra></extra>\",\"legendgroup\":\"White-Yellow\",\"marker\":{\"color\":\"#EF553B\",\"symbol\":\"circle\"},\"name\":\"White-Yellow\",\"showlegend\":true,\"type\":\"splom\"},{\"dimensions\":[{\"axis\":{\"matches\":true},\"label\":\"Temperature (K)\",\"values\":[8930,13720,14732]},{\"axis\":{\"matches\":true},\"label\":\"Luminosity(L/Lo)\",\"values\":[0.00056,0.00018,0.00011]},{\"axis\":{\"matches\":true},\"label\":\"Radius(R/Ro)\",\"values\":[0.0095,0.00892,0.00892]},{\"axis\":{\"matches\":true},\"label\":\"Absolute magnitude(Mv)\",\"values\":[13.78,12.97,12.89]}],\"hovertemplate\":\"Star color=white<br>%{xaxis.title.text}=%{x}<br>%{yaxis.title.text}=%{y}<extra></extra>\",\"legendgroup\":\"white\",\"marker\":{\"color\":\"#00cc96\",\"symbol\":\"circle\"},\"name\":\"white\",\"showlegend\":true,\"type\":\"splom\"},{\"dimensions\":[{\"axis\":{\"matches\":true},\"label\":\"Temperature (K)\",\"values\":[19860]},{\"axis\":{\"matches\":true},\"label\":\"Luminosity(L/Lo)\",\"values\":[0.0011]},{\"axis\":{\"matches\":true},\"label\":\"Radius(R/Ro)\",\"values\":[0.0131]},{\"axis\":{\"matches\":true},\"label\":\"Absolute magnitude(Mv)\",\"values\":[11.34]}],\"hovertemplate\":\"Star color=Blue <br>%{xaxis.title.text}=%{x}<br>%{yaxis.title.text}=%{y}<extra></extra>\",\"legendgroup\":\"Blue \",\"marker\":{\"color\":\"#ab63fa\",\"symbol\":\"circle\"},\"name\":\"Blue \",\"showlegend\":true,\"type\":\"splom\"},{\"dimensions\":[{\"axis\":{\"matches\":true},\"label\":\"Temperature (K)\",\"values\":[4526,4077]},{\"axis\":{\"matches\":true},\"label\":\"Luminosity(L/Lo)\",\"values\":[0.153,0.085]},{\"axis\":{\"matches\":true},\"label\":\"Radius(R/Ro)\",\"values\":[0.865,0.795]},{\"axis\":{\"matches\":true},\"label\":\"Absolute magnitude(Mv)\",\"values\":[6.506,6.228]}],\"hovertemplate\":\"Star color=yellowish<br>%{xaxis.title.text}=%{x}<br>%{yaxis.title.text}=%{y}<extra></extra>\",\"legendgroup\":\"yellowish\",\"marker\":{\"color\":\"#FFA15A\",\"symbol\":\"circle\"},\"name\":\"yellowish\",\"showlegend\":true,\"type\":\"splom\"},{\"dimensions\":[{\"axis\":{\"matches\":true},\"label\":\"Temperature (K)\",\"values\":[4980]},{\"axis\":{\"matches\":true},\"label\":\"Luminosity(L/Lo)\",\"values\":[0.357]},{\"axis\":{\"matches\":true},\"label\":\"Radius(R/Ro)\",\"values\":[1.13]},{\"axis\":{\"matches\":true},\"label\":\"Absolute magnitude(Mv)\",\"values\":[4.78]}],\"hovertemplate\":\"Star color=Yellowish<br>%{xaxis.title.text}=%{x}<br>%{yaxis.title.text}=%{y}<extra></extra>\",\"legendgroup\":\"Yellowish\",\"marker\":{\"color\":\"#19d3f3\",\"symbol\":\"circle\"},\"name\":\"Yellowish\",\"showlegend\":true,\"type\":\"splom\"},{\"dimensions\":[{\"axis\":{\"matches\":true},\"label\":\"Temperature (K)\",\"values\":[5112]},{\"axis\":{\"matches\":true},\"label\":\"Luminosity(L/Lo)\",\"values\":[0.63]},{\"axis\":{\"matches\":true},\"label\":\"Radius(R/Ro)\",\"values\":[0.876]},{\"axis\":{\"matches\":true},\"label\":\"Absolute magnitude(Mv)\",\"values\":[4.68]}],\"hovertemplate\":\"Star color=Orange-Red<br>%{xaxis.title.text}=%{x}<br>%{yaxis.title.text}=%{y}<extra></extra>\",\"legendgroup\":\"Orange-Red\",\"marker\":{\"color\":\"#FF6692\",\"symbol\":\"circle\"},\"name\":\"Orange-Red\",\"showlegend\":true,\"type\":\"splom\"},{\"dimensions\":[{\"axis\":{\"matches\":true},\"label\":\"Temperature (K)\",\"values\":[11900]},{\"axis\":{\"matches\":true},\"label\":\"Luminosity(L/Lo)\",\"values\":[0.00067]},{\"axis\":{\"matches\":true},\"label\":\"Radius(R/Ro)\",\"values\":[0.00898]},{\"axis\":{\"matches\":true},\"label\":\"Absolute magnitude(Mv)\",\"values\":[11.38]}],\"hovertemplate\":\"Star color=Blue white <br>%{xaxis.title.text}=%{x}<br>%{yaxis.title.text}=%{y}<extra></extra>\",\"legendgroup\":\"Blue white \",\"marker\":{\"color\":\"#B6E880\",\"symbol\":\"circle\"},\"name\":\"Blue white \",\"showlegend\":true,\"type\":\"splom\"},{\"dimensions\":[{\"axis\":{\"matches\":true},\"label\":\"Temperature (K)\",\"values\":[8945]},{\"axis\":{\"matches\":true},\"label\":\"Luminosity(L/Lo)\",\"values\":[38.0]},{\"axis\":{\"matches\":true},\"label\":\"Radius(R/Ro)\",\"values\":[2.487]},{\"axis\":{\"matches\":true},\"label\":\"Absolute magnitude(Mv)\",\"values\":[0.12]}],\"hovertemplate\":\"Star color=Blue-White<br>%{xaxis.title.text}=%{x}<br>%{yaxis.title.text}=%{y}<extra></extra>\",\"legendgroup\":\"Blue-White\",\"marker\":{\"color\":\"#FF97FF\",\"symbol\":\"circle\"},\"name\":\"Blue-White\",\"showlegend\":true,\"type\":\"splom\"}],                        {\"template\":{\"data\":{\"bar\":[{\"error_x\":{\"color\":\"#2a3f5f\"},\"error_y\":{\"color\":\"#2a3f5f\"},\"marker\":{\"line\":{\"color\":\"#E5ECF6\",\"width\":0.5},\"pattern\":{\"fillmode\":\"overlay\",\"size\":10,\"solidity\":0.2}},\"type\":\"bar\"}],\"barpolar\":[{\"marker\":{\"line\":{\"color\":\"#E5ECF6\",\"width\":0.5},\"pattern\":{\"fillmode\":\"overlay\",\"size\":10,\"solidity\":0.2}},\"type\":\"barpolar\"}],\"carpet\":[{\"aaxis\":{\"endlinecolor\":\"#2a3f5f\",\"gridcolor\":\"white\",\"linecolor\":\"white\",\"minorgridcolor\":\"white\",\"startlinecolor\":\"#2a3f5f\"},\"baxis\":{\"endlinecolor\":\"#2a3f5f\",\"gridcolor\":\"white\",\"linecolor\":\"white\",\"minorgridcolor\":\"white\",\"startlinecolor\":\"#2a3f5f\"},\"type\":\"carpet\"}],\"choropleth\":[{\"colorbar\":{\"outlinewidth\":0,\"ticks\":\"\"},\"type\":\"choropleth\"}],\"contour\":[{\"colorbar\":{\"outlinewidth\":0,\"ticks\":\"\"},\"colorscale\":[[0.0,\"#0d0887\"],[0.1111111111111111,\"#46039f\"],[0.2222222222222222,\"#7201a8\"],[0.3333333333333333,\"#9c179e\"],[0.4444444444444444,\"#bd3786\"],[0.5555555555555556,\"#d8576b\"],[0.6666666666666666,\"#ed7953\"],[0.7777777777777778,\"#fb9f3a\"],[0.8888888888888888,\"#fdca26\"],[1.0,\"#f0f921\"]],\"type\":\"contour\"}],\"contourcarpet\":[{\"colorbar\":{\"outlinewidth\":0,\"ticks\":\"\"},\"type\":\"contourcarpet\"}],\"heatmap\":[{\"colorbar\":{\"outlinewidth\":0,\"ticks\":\"\"},\"colorscale\":[[0.0,\"#0d0887\"],[0.1111111111111111,\"#46039f\"],[0.2222222222222222,\"#7201a8\"],[0.3333333333333333,\"#9c179e\"],[0.4444444444444444,\"#bd3786\"],[0.5555555555555556,\"#d8576b\"],[0.6666666666666666,\"#ed7953\"],[0.7777777777777778,\"#fb9f3a\"],[0.8888888888888888,\"#fdca26\"],[1.0,\"#f0f921\"]],\"type\":\"heatmap\"}],\"heatmapgl\":[{\"colorbar\":{\"outlinewidth\":0,\"ticks\":\"\"},\"colorscale\":[[0.0,\"#0d0887\"],[0.1111111111111111,\"#46039f\"],[0.2222222222222222,\"#7201a8\"],[0.3333333333333333,\"#9c179e\"],[0.4444444444444444,\"#bd3786\"],[0.5555555555555556,\"#d8576b\"],[0.6666666666666666,\"#ed7953\"],[0.7777777777777778,\"#fb9f3a\"],[0.8888888888888888,\"#fdca26\"],[1.0,\"#f0f921\"]],\"type\":\"heatmapgl\"}],\"histogram\":[{\"marker\":{\"pattern\":{\"fillmode\":\"overlay\",\"size\":10,\"solidity\":0.2}},\"type\":\"histogram\"}],\"histogram2d\":[{\"colorbar\":{\"outlinewidth\":0,\"ticks\":\"\"},\"colorscale\":[[0.0,\"#0d0887\"],[0.1111111111111111,\"#46039f\"],[0.2222222222222222,\"#7201a8\"],[0.3333333333333333,\"#9c179e\"],[0.4444444444444444,\"#bd3786\"],[0.5555555555555556,\"#d8576b\"],[0.6666666666666666,\"#ed7953\"],[0.7777777777777778,\"#fb9f3a\"],[0.8888888888888888,\"#fdca26\"],[1.0,\"#f0f921\"]],\"type\":\"histogram2d\"}],\"histogram2dcontour\":[{\"colorbar\":{\"outlinewidth\":0,\"ticks\":\"\"},\"colorscale\":[[0.0,\"#0d0887\"],[0.1111111111111111,\"#46039f\"],[0.2222222222222222,\"#7201a8\"],[0.3333333333333333,\"#9c179e\"],[0.4444444444444444,\"#bd3786\"],[0.5555555555555556,\"#d8576b\"],[0.6666666666666666,\"#ed7953\"],[0.7777777777777778,\"#fb9f3a\"],[0.8888888888888888,\"#fdca26\"],[1.0,\"#f0f921\"]],\"type\":\"histogram2dcontour\"}],\"mesh3d\":[{\"colorbar\":{\"outlinewidth\":0,\"ticks\":\"\"},\"type\":\"mesh3d\"}],\"parcoords\":[{\"line\":{\"colorbar\":{\"outlinewidth\":0,\"ticks\":\"\"}},\"type\":\"parcoords\"}],\"pie\":[{\"automargin\":true,\"type\":\"pie\"}],\"scatter\":[{\"marker\":{\"colorbar\":{\"outlinewidth\":0,\"ticks\":\"\"}},\"type\":\"scatter\"}],\"scatter3d\":[{\"line\":{\"colorbar\":{\"outlinewidth\":0,\"ticks\":\"\"}},\"marker\":{\"colorbar\":{\"outlinewidth\":0,\"ticks\":\"\"}},\"type\":\"scatter3d\"}],\"scattercarpet\":[{\"marker\":{\"colorbar\":{\"outlinewidth\":0,\"ticks\":\"\"}},\"type\":\"scattercarpet\"}],\"scattergeo\":[{\"marker\":{\"colorbar\":{\"outlinewidth\":0,\"ticks\":\"\"}},\"type\":\"scattergeo\"}],\"scattergl\":[{\"marker\":{\"colorbar\":{\"outlinewidth\":0,\"ticks\":\"\"}},\"type\":\"scattergl\"}],\"scattermapbox\":[{\"marker\":{\"colorbar\":{\"outlinewidth\":0,\"ticks\":\"\"}},\"type\":\"scattermapbox\"}],\"scatterpolar\":[{\"marker\":{\"colorbar\":{\"outlinewidth\":0,\"ticks\":\"\"}},\"type\":\"scatterpolar\"}],\"scatterpolargl\":[{\"marker\":{\"colorbar\":{\"outlinewidth\":0,\"ticks\":\"\"}},\"type\":\"scatterpolargl\"}],\"scatterternary\":[{\"marker\":{\"colorbar\":{\"outlinewidth\":0,\"ticks\":\"\"}},\"type\":\"scatterternary\"}],\"surface\":[{\"colorbar\":{\"outlinewidth\":0,\"ticks\":\"\"},\"colorscale\":[[0.0,\"#0d0887\"],[0.1111111111111111,\"#46039f\"],[0.2222222222222222,\"#7201a8\"],[0.3333333333333333,\"#9c179e\"],[0.4444444444444444,\"#bd3786\"],[0.5555555555555556,\"#d8576b\"],[0.6666666666666666,\"#ed7953\"],[0.7777777777777778,\"#fb9f3a\"],[0.8888888888888888,\"#fdca26\"],[1.0,\"#f0f921\"]],\"type\":\"surface\"}],\"table\":[{\"cells\":{\"fill\":{\"color\":\"#EBF0F8\"},\"line\":{\"color\":\"white\"}},\"header\":{\"fill\":{\"color\":\"#C8D4E3\"},\"line\":{\"color\":\"white\"}},\"type\":\"table\"}]},\"layout\":{\"annotationdefaults\":{\"arrowcolor\":\"#2a3f5f\",\"arrowhead\":0,\"arrowwidth\":1},\"autotypenumbers\":\"strict\",\"coloraxis\":{\"colorbar\":{\"outlinewidth\":0,\"ticks\":\"\"}},\"colorscale\":{\"diverging\":[[0,\"#8e0152\"],[0.1,\"#c51b7d\"],[0.2,\"#de77ae\"],[0.3,\"#f1b6da\"],[0.4,\"#fde0ef\"],[0.5,\"#f7f7f7\"],[0.6,\"#e6f5d0\"],[0.7,\"#b8e186\"],[0.8,\"#7fbc41\"],[0.9,\"#4d9221\"],[1,\"#276419\"]],\"sequential\":[[0.0,\"#0d0887\"],[0.1111111111111111,\"#46039f\"],[0.2222222222222222,\"#7201a8\"],[0.3333333333333333,\"#9c179e\"],[0.4444444444444444,\"#bd3786\"],[0.5555555555555556,\"#d8576b\"],[0.6666666666666666,\"#ed7953\"],[0.7777777777777778,\"#fb9f3a\"],[0.8888888888888888,\"#fdca26\"],[1.0,\"#f0f921\"]],\"sequentialminus\":[[0.0,\"#0d0887\"],[0.1111111111111111,\"#46039f\"],[0.2222222222222222,\"#7201a8\"],[0.3333333333333333,\"#9c179e\"],[0.4444444444444444,\"#bd3786\"],[0.5555555555555556,\"#d8576b\"],[0.6666666666666666,\"#ed7953\"],[0.7777777777777778,\"#fb9f3a\"],[0.8888888888888888,\"#fdca26\"],[1.0,\"#f0f921\"]]},\"colorway\":[\"#636efa\",\"#EF553B\",\"#00cc96\",\"#ab63fa\",\"#FFA15A\",\"#19d3f3\",\"#FF6692\",\"#B6E880\",\"#FF97FF\",\"#FECB52\"],\"font\":{\"color\":\"#2a3f5f\"},\"geo\":{\"bgcolor\":\"white\",\"lakecolor\":\"white\",\"landcolor\":\"#E5ECF6\",\"showlakes\":true,\"showland\":true,\"subunitcolor\":\"white\"},\"hoverlabel\":{\"align\":\"left\"},\"hovermode\":\"closest\",\"mapbox\":{\"style\":\"light\"},\"paper_bgcolor\":\"white\",\"plot_bgcolor\":\"#E5ECF6\",\"polar\":{\"angularaxis\":{\"gridcolor\":\"white\",\"linecolor\":\"white\",\"ticks\":\"\"},\"bgcolor\":\"#E5ECF6\",\"radialaxis\":{\"gridcolor\":\"white\",\"linecolor\":\"white\",\"ticks\":\"\"}},\"scene\":{\"xaxis\":{\"backgroundcolor\":\"#E5ECF6\",\"gridcolor\":\"white\",\"gridwidth\":2,\"linecolor\":\"white\",\"showbackground\":true,\"ticks\":\"\",\"zerolinecolor\":\"white\"},\"yaxis\":{\"backgroundcolor\":\"#E5ECF6\",\"gridcolor\":\"white\",\"gridwidth\":2,\"linecolor\":\"white\",\"showbackground\":true,\"ticks\":\"\",\"zerolinecolor\":\"white\"},\"zaxis\":{\"backgroundcolor\":\"#E5ECF6\",\"gridcolor\":\"white\",\"gridwidth\":2,\"linecolor\":\"white\",\"showbackground\":true,\"ticks\":\"\",\"zerolinecolor\":\"white\"}},\"shapedefaults\":{\"line\":{\"color\":\"#2a3f5f\"}},\"ternary\":{\"aaxis\":{\"gridcolor\":\"white\",\"linecolor\":\"white\",\"ticks\":\"\"},\"baxis\":{\"gridcolor\":\"white\",\"linecolor\":\"white\",\"ticks\":\"\"},\"bgcolor\":\"#E5ECF6\",\"caxis\":{\"gridcolor\":\"white\",\"linecolor\":\"white\",\"ticks\":\"\"}},\"title\":{\"x\":0.05},\"xaxis\":{\"automargin\":true,\"gridcolor\":\"white\",\"linecolor\":\"white\",\"ticks\":\"\",\"title\":{\"standoff\":15},\"zerolinecolor\":\"white\",\"zerolinewidth\":2},\"yaxis\":{\"automargin\":true,\"gridcolor\":\"white\",\"linecolor\":\"white\",\"ticks\":\"\",\"title\":{\"standoff\":15},\"zerolinecolor\":\"white\",\"zerolinewidth\":2}}},\"legend\":{\"title\":{\"text\":\"Star color\"},\"tracegroupgap\":0},\"margin\":{\"t\":60},\"dragmode\":\"select\",\"height\":800,\"width\":1200},                        {\"responsive\": true}                    ).then(function(){\n",
              "                            \n",
              "var gd = document.getElementById('1eb43345-3e2a-40f1-8dd4-e1989eb79ecb');\n",
              "var x = new MutationObserver(function (mutations, observer) {{\n",
              "        var display = window.getComputedStyle(gd).display;\n",
              "        if (!display || display === 'none') {{\n",
              "            console.log([gd, 'removed!']);\n",
              "            Plotly.purge(gd);\n",
              "            observer.disconnect();\n",
              "        }}\n",
              "}});\n",
              "\n",
              "// Listen for the removal of the full notebook cells\n",
              "var notebookContainer = gd.closest('#notebook-container');\n",
              "if (notebookContainer) {{\n",
              "    x.observe(notebookContainer, {childList: true});\n",
              "}}\n",
              "\n",
              "// Listen for the clearing of the current output cell\n",
              "var outputEl = gd.closest('.output');\n",
              "if (outputEl) {{\n",
              "    x.observe(outputEl, {childList: true});\n",
              "}}\n",
              "\n",
              "                        })                };                            </script>        </div>\n",
              "</body>\n",
              "</html>"
            ]
          },
          "metadata": {}
        }
      ]
    },
    {
      "cell_type": "code",
      "source": [
        "fig3=px.scatter_matrix(data_frame=df,dimensions=[\"Temperature (K)\", \"Luminosity(L/Lo)\", \"Radius(R/Ro)\", \"Absolute magnitude(Mv)\"], \n",
        "                                 color=\"Spectral Class\",width=1200, height=800)\n",
        "fig3.show()"
      ],
      "metadata": {
        "colab": {
          "base_uri": "https://localhost:8080/",
          "height": 817
        },
        "id": "3GS6f1-Ncs0y",
        "outputId": "2ec18943-afa4-4569-fef2-8929a096ca1a"
      },
      "execution_count": null,
      "outputs": [
        {
          "output_type": "display_data",
          "data": {
            "text/html": [
              "<html>\n",
              "<head><meta charset=\"utf-8\" /></head>\n",
              "<body>\n",
              "    <div>            <script src=\"https://cdnjs.cloudflare.com/ajax/libs/mathjax/2.7.5/MathJax.js?config=TeX-AMS-MML_SVG\"></script><script type=\"text/javascript\">if (window.MathJax) {MathJax.Hub.Config({SVG: {font: \"STIX-Web\"}});}</script>                <script type=\"text/javascript\">window.PlotlyConfig = {MathJaxConfig: 'local'};</script>\n",
              "        <script src=\"https://cdn.plot.ly/plotly-2.8.3.min.js\"></script>                <div id=\"1ff0afa6-96c6-465c-86ee-c39688dd1ded\" class=\"plotly-graph-div\" style=\"height:800px; width:1200px;\"></div>            <script type=\"text/javascript\">                                    window.PLOTLYENV=window.PLOTLYENV || {};                                    if (document.getElementById(\"1ff0afa6-96c6-465c-86ee-c39688dd1ded\")) {                    Plotly.newPlot(                        \"1ff0afa6-96c6-465c-86ee-c39688dd1ded\",                        [{\"dimensions\":[{\"axis\":{\"matches\":true},\"label\":\"Temperature (K)\",\"values\":[3068,3042,2600,2800,1939,2840,2637,2600,2650,2700,3600,3129,3134,3628,2650,3340,2799,3692,3192,3441,3826,3365,3270,3200,3008,3600,3575,3574,3625,3490,3750,3834,3749,3650,3450,3660,3450,3752,3535,3341,3432,2983,2835,2935,3295,2945,2817,2774,2871,3345,3607,3304,3150,3550,3180,2890,3342,2621,3158,3459,3605,3615,3399,3610,3553,3625,3780,3323,3531,3218,3146,3511,3225,2935,2861,2856,2731,3095,3607,3100,2989,3542,3243,3091,3598,3324,3541,3570,3500,3600,3614,2831,2914,3419,3218,3453,2889,2968,3484,2778,3523,3462,3257,2994,3212,3523,3598,3142,3496,3324,3463]},{\"axis\":{\"matches\":true},\"label\":\"Luminosity(L/Lo)\",\"values\":[0.0024,0.0005,0.0003,0.0002,0.000138,0.00065,0.00073,0.0004,0.00069,0.00018,0.0029,0.0122,0.0004,0.0055,0.0006,0.0038,0.0018,0.00367,0.00362,0.039,200000.0,340000.0,150000.0,195000.0,280000.0,320000.0,123000.0,200000.0,184000.0,270000.0,283000.0,272000.0,550000.0,310000.0,263000.0,363000.0,174000.0,209000.0,195000.0,0.0056,0.00067,0.00024,0.00034,0.00014,0.00098,0.00032,0.00098,0.00036,0.00072,0.021,0.022,0.0085,0.0088,0.004,0.001,0.0034,0.0015,0.0006,0.00135,100000.0,126000.0,200000.0,117000.0,132000.0,145000.0,74000.0,200000.0,0.00043,0.00093,0.00054,0.00015,0.00064,0.00076,0.00087,0.00019,0.000896,0.000437,0.00019,0.00023,0.008,0.0087,0.0009,0.0023,0.0081,0.0011,0.0034,0.0013,320000.0,138000.0,240000.0,145000.0,0.000231,0.000631,0.000245,0.000452,0.000621,0.000352,0.000461,0.000551,0.000849,0.000957,0.0053,0.0024,0.0072,0.0016,0.0054,0.0027,0.00132,0.00125,0.0065,0.0027]},{\"axis\":{\"matches\":true},\"label\":\"Radius(R/Ro)\",\"values\":[0.17,0.1542,0.102,0.16,0.103,0.11,0.127,0.096,0.11,0.13,0.51,0.3761,0.196,0.393,0.14,0.24,0.16,0.47,0.1967,0.351,19.0,23.0,88.0,17.0,25.0,29.0,45.0,89.0,84.0,1520.0,1260.0,1183.0,1648.0,1324.0,1349.0,1673.0,1284.0,955.0,1546.0,0.057,0.19,0.094,0.0918,0.116,0.132,0.093,0.0911,0.118,0.12,0.273,0.38,0.18,0.35,0.291,0.35,0.24,0.307,0.098,0.161,1289.0,1124.0,1635.0,1486.0,1522.0,1324.0,876.0,1324.0,0.0912,0.0976,0.11,0.0932,0.109,0.121,0.0932,0.0899,0.0782,0.0856,0.492,0.38,0.31,0.34,0.62,0.73,0.24,0.56,0.34,0.256,1480.0,1420.0,1190.0,1553.0,0.0915,0.116,0.126,0.0987,0.0773,0.0973,0.119,0.0998,0.112,0.129,0.148,0.46,0.28,0.378,0.319,0.67,0.258,0.336,0.471,0.675]},{\"axis\":{\"matches\":true},\"label\":\"Absolute magnitude(Mv)\",\"values\":[16.12,16.6,18.7,16.65,20.06,16.98,17.22,17.4,17.45,16.05,10.69,11.79,13.21,10.48,11.782,13.07,14.79,10.8,13.53,11.18,-6.93,-6.2,-6.02,-7.22,-6.0,-6.6,-6.78,-5.24,-6.74,-9.4,-7.63,-9.2,-8.05,-7.79,-11.75,-11.92,-11.28,-11.24,-11.36,16.23,16.94,16.09,16.96,18.89,17.13,18.34,16.45,17.39,19.43,12.3,10.12,13.2,11.94,10.89,11.76,13.46,11.87,12.81,13.98,-10.7,-10.81,-11.33,-10.92,-10.86,-11.03,-10.25,-10.7,17.16,19.94,20.02,16.92,17.12,19.63,16.88,16.71,19.56,18.09,10.87,10.34,11.17,13.12,14.23,14.75,11.43,14.26,12.23,14.33,-7.58,-8.18,-7.89,-7.71,16.21,18.39,17.56,17.34,17.08,16.93,17.45,16.67,19.45,16.35,11.47,10.73,13.45,12.854,12.43,13.667,14.12,14.94,12.78,14.776]}],\"hovertemplate\":\"Spectral Class=M<br>%{xaxis.title.text}=%{x}<br>%{yaxis.title.text}=%{y}<extra></extra>\",\"legendgroup\":\"M\",\"marker\":{\"color\":\"#636efa\",\"symbol\":\"circle\"},\"name\":\"M\",\"showlegend\":true,\"type\":\"splom\"},{\"dimensions\":[{\"axis\":{\"matches\":true},\"label\":\"Temperature (K)\",\"values\":[25000,16500,30000,15276,9700,33750,17200,14100,12010,10980,19860,33300,13420,21020,18290,14520,11900,12912,12984,29560,16390,25070,28700,26140,20120,26000,11000,12100,24490,16790,15680,14982,13340,18340,19920,24020,23092,17920,19360,22350,22012,19400,17140,24145,27739,21904]},{\"axis\":{\"matches\":true},\"label\":\"Luminosity(L/Lo)\",\"values\":[0.056,0.013,28840.0,1136.0,74.0,220000.0,0.00098,0.00067,0.00078,0.00074,0.0011,240000.0,0.00059,0.0015,0.0013,0.00082,0.00067,0.00071,0.00088,188000.0,1278.0,14500.0,16790.0,14520.0,4720.0,316000.0,170000.0,120000.0,248490.0,0.0014,0.00122,0.00118,0.00109,0.00134,0.00156,0.00159,0.00132,0.00111,0.00125,12450.0,6748.0,10920.0,883.0,382993.0,849420.0,748490.0]},{\"axis\":{\"matches\":true},\"label\":\"Radius(R/Ro)\",\"values\":[0.0084,0.014,6.3,7.2,2.89,26.0,0.015,0.0089,0.0092,0.0087,0.0131,12.0,0.00981,0.0112,0.00934,0.00972,0.00898,0.00945,0.00996,6.02,5.68,5.92,6.4,5.49,6.78,1679.0,1779.0,708.9,1134.5,0.0121,0.0114,0.0113,0.0116,0.0124,0.0142,0.0127,0.0104,0.0106,0.00998,6.36,6.64,6.03,5.653,1494.0,1252.0,1130.0]},{\"axis\":{\"matches\":true},\"label\":\"Absolute magnitude(Mv)\",\"values\":[10.58,11.89,-4.2,-1.97,0.16,-6.1,12.45,12.17,12.13,11.19,11.34,-6.5,13.67,11.52,12.78,11.92,11.38,12.83,11.23,-4.01,-3.32,-3.98,-4.09,-3.8,-3.4,-9.1,-9.9,-7.84,-8.24,12.87,11.92,12.23,12.9,11.22,11.34,10.55,10.18,11.66,11.62,-3.67,-2.55,-3.08,-2.64,-8.84,-7.59,-7.67]}],\"hovertemplate\":\"Spectral Class=B<br>%{xaxis.title.text}=%{x}<br>%{yaxis.title.text}=%{y}<extra></extra>\",\"legendgroup\":\"B\",\"marker\":{\"color\":\"#EF553B\",\"symbol\":\"circle\"},\"name\":\"B\",\"showlegend\":true,\"type\":\"splom\"},{\"dimensions\":[{\"axis\":{\"matches\":true},\"label\":\"Temperature (K)\",\"values\":[7740,8500,8570,8052,8930,9675,9030,11250,12098,8924,7723,8945,14060,13023,10012,13089,9320,8829,9235]},{\"axis\":{\"matches\":true},\"label\":\"Luminosity(L/Lo)\",\"values\":[0.00049,0.0005,0.00081,8.7,0.00056,0.00045,45.0,672.0,689.0,0.00028,0.00014,38.0,1092.0,998.0,552.0,788.0,29.0,537493.0,404940.0]},{\"axis\":{\"matches\":true},\"label\":\"Radius(R/Ro)\",\"values\":[0.01234,0.01,0.0097,1.8,0.0095,0.0109,2.63,6.98,7.01,0.00879,0.00878,2.487,5.745,6.21,5.856,5.992,1.91,1423.0,1112.0]},{\"axis\":{\"matches\":true},\"label\":\"Absolute magnitude(Mv)\",\"values\":[14.02,14.5,14.2,2.42,13.78,13.98,1.45,-2.3,0.02,14.87,14.81,0.12,-2.04,-1.38,0.013,-0.12,1.236,-10.73,-11.23]}],\"hovertemplate\":\"Spectral Class=A<br>%{xaxis.title.text}=%{x}<br>%{yaxis.title.text}=%{y}<extra></extra>\",\"legendgroup\":\"A\",\"marker\":{\"color\":\"#00cc96\",\"symbol\":\"circle\"},\"name\":\"A\",\"showlegend\":true,\"type\":\"splom\"},{\"dimensions\":[{\"axis\":{\"matches\":true},\"label\":\"Temperature (K)\",\"values\":[7220,12990,7700,11790,7230,5800,6757,6380,5936,5587,7100,10574,13720,5300,7720,14732,8250]},{\"axis\":{\"matches\":true},\"label\":\"Luminosity(L/Lo)\",\"values\":[0.00017,8.5e-05,0.00011,0.00015,8e-05,0.81,1.43,1.35,1.357,0.819,0.00029,0.00014,0.00018,0.59,7.92,0.00011,9.25]},{\"axis\":{\"matches\":true},\"label\":\"Radius(R/Ro)\",\"values\":[0.011,0.00984,0.0128,0.011,0.013,0.9,1.12,0.98,1.106,0.99,0.012,0.0092,0.00892,0.91,1.34,0.00892,1.93]},{\"axis\":{\"matches\":true},\"label\":\"Absolute magnitude(Mv)\",\"values\":[14.23,12.23,14.47,12.59,14.08,5.05,2.41,2.93,4.46,5.03,14.09,12.02,12.97,5.49,2.44,12.89,-0.98]}],\"hovertemplate\":\"Spectral Class=F<br>%{xaxis.title.text}=%{x}<br>%{yaxis.title.text}=%{y}<extra></extra>\",\"legendgroup\":\"F\",\"marker\":{\"color\":\"#ab63fa\",\"symbol\":\"circle\"},\"name\":\"F\",\"showlegend\":true,\"type\":\"splom\"},{\"dimensions\":[{\"axis\":{\"matches\":true},\"label\":\"Temperature (K)\",\"values\":[39000,36108,40000,23000,17120,11096,14245,24630,12893,24345,33421,37800,25390,11567,12675,5752,8927,7282,19923,26373,17383,9373,18000,34190,32460,23678,12749,9383,23440,16787,18734,9892,10930,23095,21738,38234,32489,38940,30839,37882]},{\"axis\":{\"matches\":true},\"label\":\"Luminosity(L/Lo)\",\"values\":[204000.0,198000.0,813000.0,127000.0,235000.0,112000.0,231000.0,363000.0,184000.0,142000.0,352000.0,202900.0,223000.0,251000.0,452000.0,245000.0,239000.0,131000.0,152000.0,198000.0,342900.0,424520.0,200000.0,198200.0,173800.0,244290.0,332520.0,342940.0,537430.0,246730.0,224780.0,593900.0,783930.0,347820.0,748890.0,272830.0,648430.0,374830.0,834042.0,294903.0]},{\"axis\":{\"matches\":true},\"label\":\"Radius(R/Ro)\",\"values\":[10.6,10.2,14.0,36.0,83.0,12.0,42.0,63.0,36.0,57.0,67.0,6.86,57.0,36.0,83.0,97.0,35.0,24.0,73.0,39.0,30.0,24.0,1045.0,6.39,6.237,35.0,76.0,98.0,81.0,62.0,46.0,80.0,25.0,86.0,92.0,1356.0,1948.5,1356.0,1194.0,1783.0]},{\"axis\":{\"matches\":true},\"label\":\"Absolute magnitude(Mv)\",\"values\":[-4.7,-4.4,-6.23,-5.76,-6.89,-5.91,-6.12,-5.83,-6.34,-6.24,-5.79,-4.56,-5.92,-6.245,-5.62,-6.63,-7.34,-7.22,-5.69,-5.83,-6.09,-5.99,-8.3,-4.57,-4.36,-6.27,-7.02,-6.98,-5.975,-6.35,-7.45,-7.262,-6.224,-5.905,-7.346,-9.29,-10.84,-9.93,-10.63,-7.8]}],\"hovertemplate\":\"Spectral Class=O<br>%{xaxis.title.text}=%{x}<br>%{yaxis.title.text}=%{y}<extra></extra>\",\"legendgroup\":\"O\",\"marker\":{\"color\":\"#FFA15A\",\"symbol\":\"circle\"},\"name\":\"O\",\"showlegend\":true,\"type\":\"splom\"},{\"dimensions\":[{\"axis\":{\"matches\":true},\"label\":\"Temperature (K)\",\"values\":[4526,4077,4980,5112,4015,4287]},{\"axis\":{\"matches\":true},\"label\":\"Luminosity(L/Lo)\",\"values\":[0.153,0.085,0.357,0.63,282000.0,630000.0]},{\"axis\":{\"matches\":true},\"label\":\"Radius(R/Ro)\",\"values\":[0.865,0.795,1.13,0.876,1534.0,1315.0]},{\"axis\":{\"matches\":true},\"label\":\"Absolute magnitude(Mv)\",\"values\":[6.506,6.228,4.78,4.68,-11.39,-9.2]}],\"hovertemplate\":\"Spectral Class=K<br>%{xaxis.title.text}=%{x}<br>%{yaxis.title.text}=%{y}<extra></extra>\",\"legendgroup\":\"K\",\"marker\":{\"color\":\"#19d3f3\",\"symbol\":\"circle\"},\"name\":\"K\",\"showlegend\":true,\"type\":\"splom\"},{\"dimensions\":[{\"axis\":{\"matches\":true},\"label\":\"Temperature (K)\",\"values\":[6850]},{\"axis\":{\"matches\":true},\"label\":\"Luminosity(L/Lo)\",\"values\":[229000.0]},{\"axis\":{\"matches\":true},\"label\":\"Radius(R/Ro)\",\"values\":[1467.0]},{\"axis\":{\"matches\":true},\"label\":\"Absolute magnitude(Mv)\",\"values\":[-10.07]}],\"hovertemplate\":\"Spectral Class=G<br>%{xaxis.title.text}=%{x}<br>%{yaxis.title.text}=%{y}<extra></extra>\",\"legendgroup\":\"G\",\"marker\":{\"color\":\"#FF6692\",\"symbol\":\"circle\"},\"name\":\"G\",\"showlegend\":true,\"type\":\"splom\"}],                        {\"template\":{\"data\":{\"bar\":[{\"error_x\":{\"color\":\"#2a3f5f\"},\"error_y\":{\"color\":\"#2a3f5f\"},\"marker\":{\"line\":{\"color\":\"#E5ECF6\",\"width\":0.5},\"pattern\":{\"fillmode\":\"overlay\",\"size\":10,\"solidity\":0.2}},\"type\":\"bar\"}],\"barpolar\":[{\"marker\":{\"line\":{\"color\":\"#E5ECF6\",\"width\":0.5},\"pattern\":{\"fillmode\":\"overlay\",\"size\":10,\"solidity\":0.2}},\"type\":\"barpolar\"}],\"carpet\":[{\"aaxis\":{\"endlinecolor\":\"#2a3f5f\",\"gridcolor\":\"white\",\"linecolor\":\"white\",\"minorgridcolor\":\"white\",\"startlinecolor\":\"#2a3f5f\"},\"baxis\":{\"endlinecolor\":\"#2a3f5f\",\"gridcolor\":\"white\",\"linecolor\":\"white\",\"minorgridcolor\":\"white\",\"startlinecolor\":\"#2a3f5f\"},\"type\":\"carpet\"}],\"choropleth\":[{\"colorbar\":{\"outlinewidth\":0,\"ticks\":\"\"},\"type\":\"choropleth\"}],\"contour\":[{\"colorbar\":{\"outlinewidth\":0,\"ticks\":\"\"},\"colorscale\":[[0.0,\"#0d0887\"],[0.1111111111111111,\"#46039f\"],[0.2222222222222222,\"#7201a8\"],[0.3333333333333333,\"#9c179e\"],[0.4444444444444444,\"#bd3786\"],[0.5555555555555556,\"#d8576b\"],[0.6666666666666666,\"#ed7953\"],[0.7777777777777778,\"#fb9f3a\"],[0.8888888888888888,\"#fdca26\"],[1.0,\"#f0f921\"]],\"type\":\"contour\"}],\"contourcarpet\":[{\"colorbar\":{\"outlinewidth\":0,\"ticks\":\"\"},\"type\":\"contourcarpet\"}],\"heatmap\":[{\"colorbar\":{\"outlinewidth\":0,\"ticks\":\"\"},\"colorscale\":[[0.0,\"#0d0887\"],[0.1111111111111111,\"#46039f\"],[0.2222222222222222,\"#7201a8\"],[0.3333333333333333,\"#9c179e\"],[0.4444444444444444,\"#bd3786\"],[0.5555555555555556,\"#d8576b\"],[0.6666666666666666,\"#ed7953\"],[0.7777777777777778,\"#fb9f3a\"],[0.8888888888888888,\"#fdca26\"],[1.0,\"#f0f921\"]],\"type\":\"heatmap\"}],\"heatmapgl\":[{\"colorbar\":{\"outlinewidth\":0,\"ticks\":\"\"},\"colorscale\":[[0.0,\"#0d0887\"],[0.1111111111111111,\"#46039f\"],[0.2222222222222222,\"#7201a8\"],[0.3333333333333333,\"#9c179e\"],[0.4444444444444444,\"#bd3786\"],[0.5555555555555556,\"#d8576b\"],[0.6666666666666666,\"#ed7953\"],[0.7777777777777778,\"#fb9f3a\"],[0.8888888888888888,\"#fdca26\"],[1.0,\"#f0f921\"]],\"type\":\"heatmapgl\"}],\"histogram\":[{\"marker\":{\"pattern\":{\"fillmode\":\"overlay\",\"size\":10,\"solidity\":0.2}},\"type\":\"histogram\"}],\"histogram2d\":[{\"colorbar\":{\"outlinewidth\":0,\"ticks\":\"\"},\"colorscale\":[[0.0,\"#0d0887\"],[0.1111111111111111,\"#46039f\"],[0.2222222222222222,\"#7201a8\"],[0.3333333333333333,\"#9c179e\"],[0.4444444444444444,\"#bd3786\"],[0.5555555555555556,\"#d8576b\"],[0.6666666666666666,\"#ed7953\"],[0.7777777777777778,\"#fb9f3a\"],[0.8888888888888888,\"#fdca26\"],[1.0,\"#f0f921\"]],\"type\":\"histogram2d\"}],\"histogram2dcontour\":[{\"colorbar\":{\"outlinewidth\":0,\"ticks\":\"\"},\"colorscale\":[[0.0,\"#0d0887\"],[0.1111111111111111,\"#46039f\"],[0.2222222222222222,\"#7201a8\"],[0.3333333333333333,\"#9c179e\"],[0.4444444444444444,\"#bd3786\"],[0.5555555555555556,\"#d8576b\"],[0.6666666666666666,\"#ed7953\"],[0.7777777777777778,\"#fb9f3a\"],[0.8888888888888888,\"#fdca26\"],[1.0,\"#f0f921\"]],\"type\":\"histogram2dcontour\"}],\"mesh3d\":[{\"colorbar\":{\"outlinewidth\":0,\"ticks\":\"\"},\"type\":\"mesh3d\"}],\"parcoords\":[{\"line\":{\"colorbar\":{\"outlinewidth\":0,\"ticks\":\"\"}},\"type\":\"parcoords\"}],\"pie\":[{\"automargin\":true,\"type\":\"pie\"}],\"scatter\":[{\"marker\":{\"colorbar\":{\"outlinewidth\":0,\"ticks\":\"\"}},\"type\":\"scatter\"}],\"scatter3d\":[{\"line\":{\"colorbar\":{\"outlinewidth\":0,\"ticks\":\"\"}},\"marker\":{\"colorbar\":{\"outlinewidth\":0,\"ticks\":\"\"}},\"type\":\"scatter3d\"}],\"scattercarpet\":[{\"marker\":{\"colorbar\":{\"outlinewidth\":0,\"ticks\":\"\"}},\"type\":\"scattercarpet\"}],\"scattergeo\":[{\"marker\":{\"colorbar\":{\"outlinewidth\":0,\"ticks\":\"\"}},\"type\":\"scattergeo\"}],\"scattergl\":[{\"marker\":{\"colorbar\":{\"outlinewidth\":0,\"ticks\":\"\"}},\"type\":\"scattergl\"}],\"scattermapbox\":[{\"marker\":{\"colorbar\":{\"outlinewidth\":0,\"ticks\":\"\"}},\"type\":\"scattermapbox\"}],\"scatterpolar\":[{\"marker\":{\"colorbar\":{\"outlinewidth\":0,\"ticks\":\"\"}},\"type\":\"scatterpolar\"}],\"scatterpolargl\":[{\"marker\":{\"colorbar\":{\"outlinewidth\":0,\"ticks\":\"\"}},\"type\":\"scatterpolargl\"}],\"scatterternary\":[{\"marker\":{\"colorbar\":{\"outlinewidth\":0,\"ticks\":\"\"}},\"type\":\"scatterternary\"}],\"surface\":[{\"colorbar\":{\"outlinewidth\":0,\"ticks\":\"\"},\"colorscale\":[[0.0,\"#0d0887\"],[0.1111111111111111,\"#46039f\"],[0.2222222222222222,\"#7201a8\"],[0.3333333333333333,\"#9c179e\"],[0.4444444444444444,\"#bd3786\"],[0.5555555555555556,\"#d8576b\"],[0.6666666666666666,\"#ed7953\"],[0.7777777777777778,\"#fb9f3a\"],[0.8888888888888888,\"#fdca26\"],[1.0,\"#f0f921\"]],\"type\":\"surface\"}],\"table\":[{\"cells\":{\"fill\":{\"color\":\"#EBF0F8\"},\"line\":{\"color\":\"white\"}},\"header\":{\"fill\":{\"color\":\"#C8D4E3\"},\"line\":{\"color\":\"white\"}},\"type\":\"table\"}]},\"layout\":{\"annotationdefaults\":{\"arrowcolor\":\"#2a3f5f\",\"arrowhead\":0,\"arrowwidth\":1},\"autotypenumbers\":\"strict\",\"coloraxis\":{\"colorbar\":{\"outlinewidth\":0,\"ticks\":\"\"}},\"colorscale\":{\"diverging\":[[0,\"#8e0152\"],[0.1,\"#c51b7d\"],[0.2,\"#de77ae\"],[0.3,\"#f1b6da\"],[0.4,\"#fde0ef\"],[0.5,\"#f7f7f7\"],[0.6,\"#e6f5d0\"],[0.7,\"#b8e186\"],[0.8,\"#7fbc41\"],[0.9,\"#4d9221\"],[1,\"#276419\"]],\"sequential\":[[0.0,\"#0d0887\"],[0.1111111111111111,\"#46039f\"],[0.2222222222222222,\"#7201a8\"],[0.3333333333333333,\"#9c179e\"],[0.4444444444444444,\"#bd3786\"],[0.5555555555555556,\"#d8576b\"],[0.6666666666666666,\"#ed7953\"],[0.7777777777777778,\"#fb9f3a\"],[0.8888888888888888,\"#fdca26\"],[1.0,\"#f0f921\"]],\"sequentialminus\":[[0.0,\"#0d0887\"],[0.1111111111111111,\"#46039f\"],[0.2222222222222222,\"#7201a8\"],[0.3333333333333333,\"#9c179e\"],[0.4444444444444444,\"#bd3786\"],[0.5555555555555556,\"#d8576b\"],[0.6666666666666666,\"#ed7953\"],[0.7777777777777778,\"#fb9f3a\"],[0.8888888888888888,\"#fdca26\"],[1.0,\"#f0f921\"]]},\"colorway\":[\"#636efa\",\"#EF553B\",\"#00cc96\",\"#ab63fa\",\"#FFA15A\",\"#19d3f3\",\"#FF6692\",\"#B6E880\",\"#FF97FF\",\"#FECB52\"],\"font\":{\"color\":\"#2a3f5f\"},\"geo\":{\"bgcolor\":\"white\",\"lakecolor\":\"white\",\"landcolor\":\"#E5ECF6\",\"showlakes\":true,\"showland\":true,\"subunitcolor\":\"white\"},\"hoverlabel\":{\"align\":\"left\"},\"hovermode\":\"closest\",\"mapbox\":{\"style\":\"light\"},\"paper_bgcolor\":\"white\",\"plot_bgcolor\":\"#E5ECF6\",\"polar\":{\"angularaxis\":{\"gridcolor\":\"white\",\"linecolor\":\"white\",\"ticks\":\"\"},\"bgcolor\":\"#E5ECF6\",\"radialaxis\":{\"gridcolor\":\"white\",\"linecolor\":\"white\",\"ticks\":\"\"}},\"scene\":{\"xaxis\":{\"backgroundcolor\":\"#E5ECF6\",\"gridcolor\":\"white\",\"gridwidth\":2,\"linecolor\":\"white\",\"showbackground\":true,\"ticks\":\"\",\"zerolinecolor\":\"white\"},\"yaxis\":{\"backgroundcolor\":\"#E5ECF6\",\"gridcolor\":\"white\",\"gridwidth\":2,\"linecolor\":\"white\",\"showbackground\":true,\"ticks\":\"\",\"zerolinecolor\":\"white\"},\"zaxis\":{\"backgroundcolor\":\"#E5ECF6\",\"gridcolor\":\"white\",\"gridwidth\":2,\"linecolor\":\"white\",\"showbackground\":true,\"ticks\":\"\",\"zerolinecolor\":\"white\"}},\"shapedefaults\":{\"line\":{\"color\":\"#2a3f5f\"}},\"ternary\":{\"aaxis\":{\"gridcolor\":\"white\",\"linecolor\":\"white\",\"ticks\":\"\"},\"baxis\":{\"gridcolor\":\"white\",\"linecolor\":\"white\",\"ticks\":\"\"},\"bgcolor\":\"#E5ECF6\",\"caxis\":{\"gridcolor\":\"white\",\"linecolor\":\"white\",\"ticks\":\"\"}},\"title\":{\"x\":0.05},\"xaxis\":{\"automargin\":true,\"gridcolor\":\"white\",\"linecolor\":\"white\",\"ticks\":\"\",\"title\":{\"standoff\":15},\"zerolinecolor\":\"white\",\"zerolinewidth\":2},\"yaxis\":{\"automargin\":true,\"gridcolor\":\"white\",\"linecolor\":\"white\",\"ticks\":\"\",\"title\":{\"standoff\":15},\"zerolinecolor\":\"white\",\"zerolinewidth\":2}}},\"legend\":{\"title\":{\"text\":\"Spectral Class\"},\"tracegroupgap\":0},\"margin\":{\"t\":60},\"dragmode\":\"select\",\"height\":800,\"width\":1200},                        {\"responsive\": true}                    ).then(function(){\n",
              "                            \n",
              "var gd = document.getElementById('1ff0afa6-96c6-465c-86ee-c39688dd1ded');\n",
              "var x = new MutationObserver(function (mutations, observer) {{\n",
              "        var display = window.getComputedStyle(gd).display;\n",
              "        if (!display || display === 'none') {{\n",
              "            console.log([gd, 'removed!']);\n",
              "            Plotly.purge(gd);\n",
              "            observer.disconnect();\n",
              "        }}\n",
              "}});\n",
              "\n",
              "// Listen for the removal of the full notebook cells\n",
              "var notebookContainer = gd.closest('#notebook-container');\n",
              "if (notebookContainer) {{\n",
              "    x.observe(notebookContainer, {childList: true});\n",
              "}}\n",
              "\n",
              "// Listen for the clearing of the current output cell\n",
              "var outputEl = gd.closest('.output');\n",
              "if (outputEl) {{\n",
              "    x.observe(outputEl, {childList: true});\n",
              "}}\n",
              "\n",
              "                        })                };                            </script>        </div>\n",
              "</body>\n",
              "</html>"
            ]
          },
          "metadata": {}
        }
      ]
    },
    {
      "cell_type": "markdown",
      "source": [
        "As seen in the above 3 matrices, our data has not taken the form of a circle and has mostly arranged in the form of slight curves. In this case, a linear layers and an activation code of relu in a NN architecture can handle our task quite well."
      ],
      "metadata": {
        "id": "fVa0JFNpjnDR"
      }
    },
    {
      "cell_type": "markdown",
      "source": [
        "Now that we've analyzed our data and the distributions of our labels, we can start building our model. First, we have to preprocess the data. Normally, we would group each of our labels' classes with the one-hot encoding method. But in this case, it would add unnecessary load to our model. Instead, we can code our labels in numerical form. This way, not only will our computer work faster (it's not that important for our current 240 rows, but let's take precautions for a potentially updated dataset in the future), but it also prevents potential issues with tensor dimensions that we might encounter later on."
      ],
      "metadata": {
        "id": "EiEhPXIglJUZ"
      }
    },
    {
      "cell_type": "code",
      "source": [
        "from sklearn.preprocessing import LabelEncoder\n",
        "label_encoder = LabelEncoder()\n",
        "df[\"Star color\"] = label_encoder.fit_transform(df[\"Star color\"])\n",
        "df[\"Spectral Class\"] = label_encoder.fit_transform(df[\"Spectral Class\"])\n",
        "df"
      ],
      "metadata": {
        "colab": {
          "base_uri": "https://localhost:8080/",
          "height": 423
        },
        "id": "gD5JdAO7sECg",
        "outputId": "9a708f2c-a9cf-4b9e-be2f-189d70c0d24d"
      },
      "execution_count": null,
      "outputs": [
        {
          "output_type": "execute_result",
          "data": {
            "text/plain": [
              "     Temperature (K)  Luminosity(L/Lo)  Radius(R/Ro)  Absolute magnitude(Mv)  \\\n",
              "0               3068          0.002400        0.1700                   16.12   \n",
              "1               3042          0.000500        0.1542                   16.60   \n",
              "2               2600          0.000300        0.1020                   18.70   \n",
              "3               2800          0.000200        0.1600                   16.65   \n",
              "4               1939          0.000138        0.1030                   20.06   \n",
              "..               ...               ...           ...                     ...   \n",
              "235            38940     374830.000000     1356.0000                   -9.93   \n",
              "236            30839     834042.000000     1194.0000                  -10.63   \n",
              "237             8829     537493.000000     1423.0000                  -10.73   \n",
              "238             9235     404940.000000     1112.0000                  -11.23   \n",
              "239            37882     294903.000000     1783.0000                   -7.80   \n",
              "\n",
              "     Star type  Star color  Spectral Class  \n",
              "0            0          10               5  \n",
              "1            0          10               5  \n",
              "2            0          10               5  \n",
              "3            0          10               5  \n",
              "4            0          10               5  \n",
              "..         ...         ...             ...  \n",
              "235          5           0               6  \n",
              "236          5           0               6  \n",
              "237          5          11               0  \n",
              "238          5          11               0  \n",
              "239          5           0               6  \n",
              "\n",
              "[240 rows x 7 columns]"
            ],
            "text/html": [
              "\n",
              "  <div id=\"df-1e2670bb-ed3d-4cdd-a6f6-5d061268e243\">\n",
              "    <div class=\"colab-df-container\">\n",
              "      <div>\n",
              "<style scoped>\n",
              "    .dataframe tbody tr th:only-of-type {\n",
              "        vertical-align: middle;\n",
              "    }\n",
              "\n",
              "    .dataframe tbody tr th {\n",
              "        vertical-align: top;\n",
              "    }\n",
              "\n",
              "    .dataframe thead th {\n",
              "        text-align: right;\n",
              "    }\n",
              "</style>\n",
              "<table border=\"1\" class=\"dataframe\">\n",
              "  <thead>\n",
              "    <tr style=\"text-align: right;\">\n",
              "      <th></th>\n",
              "      <th>Temperature (K)</th>\n",
              "      <th>Luminosity(L/Lo)</th>\n",
              "      <th>Radius(R/Ro)</th>\n",
              "      <th>Absolute magnitude(Mv)</th>\n",
              "      <th>Star type</th>\n",
              "      <th>Star color</th>\n",
              "      <th>Spectral Class</th>\n",
              "    </tr>\n",
              "  </thead>\n",
              "  <tbody>\n",
              "    <tr>\n",
              "      <th>0</th>\n",
              "      <td>3068</td>\n",
              "      <td>0.002400</td>\n",
              "      <td>0.1700</td>\n",
              "      <td>16.12</td>\n",
              "      <td>0</td>\n",
              "      <td>10</td>\n",
              "      <td>5</td>\n",
              "    </tr>\n",
              "    <tr>\n",
              "      <th>1</th>\n",
              "      <td>3042</td>\n",
              "      <td>0.000500</td>\n",
              "      <td>0.1542</td>\n",
              "      <td>16.60</td>\n",
              "      <td>0</td>\n",
              "      <td>10</td>\n",
              "      <td>5</td>\n",
              "    </tr>\n",
              "    <tr>\n",
              "      <th>2</th>\n",
              "      <td>2600</td>\n",
              "      <td>0.000300</td>\n",
              "      <td>0.1020</td>\n",
              "      <td>18.70</td>\n",
              "      <td>0</td>\n",
              "      <td>10</td>\n",
              "      <td>5</td>\n",
              "    </tr>\n",
              "    <tr>\n",
              "      <th>3</th>\n",
              "      <td>2800</td>\n",
              "      <td>0.000200</td>\n",
              "      <td>0.1600</td>\n",
              "      <td>16.65</td>\n",
              "      <td>0</td>\n",
              "      <td>10</td>\n",
              "      <td>5</td>\n",
              "    </tr>\n",
              "    <tr>\n",
              "      <th>4</th>\n",
              "      <td>1939</td>\n",
              "      <td>0.000138</td>\n",
              "      <td>0.1030</td>\n",
              "      <td>20.06</td>\n",
              "      <td>0</td>\n",
              "      <td>10</td>\n",
              "      <td>5</td>\n",
              "    </tr>\n",
              "    <tr>\n",
              "      <th>...</th>\n",
              "      <td>...</td>\n",
              "      <td>...</td>\n",
              "      <td>...</td>\n",
              "      <td>...</td>\n",
              "      <td>...</td>\n",
              "      <td>...</td>\n",
              "      <td>...</td>\n",
              "    </tr>\n",
              "    <tr>\n",
              "      <th>235</th>\n",
              "      <td>38940</td>\n",
              "      <td>374830.000000</td>\n",
              "      <td>1356.0000</td>\n",
              "      <td>-9.93</td>\n",
              "      <td>5</td>\n",
              "      <td>0</td>\n",
              "      <td>6</td>\n",
              "    </tr>\n",
              "    <tr>\n",
              "      <th>236</th>\n",
              "      <td>30839</td>\n",
              "      <td>834042.000000</td>\n",
              "      <td>1194.0000</td>\n",
              "      <td>-10.63</td>\n",
              "      <td>5</td>\n",
              "      <td>0</td>\n",
              "      <td>6</td>\n",
              "    </tr>\n",
              "    <tr>\n",
              "      <th>237</th>\n",
              "      <td>8829</td>\n",
              "      <td>537493.000000</td>\n",
              "      <td>1423.0000</td>\n",
              "      <td>-10.73</td>\n",
              "      <td>5</td>\n",
              "      <td>11</td>\n",
              "      <td>0</td>\n",
              "    </tr>\n",
              "    <tr>\n",
              "      <th>238</th>\n",
              "      <td>9235</td>\n",
              "      <td>404940.000000</td>\n",
              "      <td>1112.0000</td>\n",
              "      <td>-11.23</td>\n",
              "      <td>5</td>\n",
              "      <td>11</td>\n",
              "      <td>0</td>\n",
              "    </tr>\n",
              "    <tr>\n",
              "      <th>239</th>\n",
              "      <td>37882</td>\n",
              "      <td>294903.000000</td>\n",
              "      <td>1783.0000</td>\n",
              "      <td>-7.80</td>\n",
              "      <td>5</td>\n",
              "      <td>0</td>\n",
              "      <td>6</td>\n",
              "    </tr>\n",
              "  </tbody>\n",
              "</table>\n",
              "<p>240 rows × 7 columns</p>\n",
              "</div>\n",
              "      <button class=\"colab-df-convert\" onclick=\"convertToInteractive('df-1e2670bb-ed3d-4cdd-a6f6-5d061268e243')\"\n",
              "              title=\"Convert this dataframe to an interactive table.\"\n",
              "              style=\"display:none;\">\n",
              "        \n",
              "  <svg xmlns=\"http://www.w3.org/2000/svg\" height=\"24px\"viewBox=\"0 0 24 24\"\n",
              "       width=\"24px\">\n",
              "    <path d=\"M0 0h24v24H0V0z\" fill=\"none\"/>\n",
              "    <path d=\"M18.56 5.44l.94 2.06.94-2.06 2.06-.94-2.06-.94-.94-2.06-.94 2.06-2.06.94zm-11 1L8.5 8.5l.94-2.06 2.06-.94-2.06-.94L8.5 2.5l-.94 2.06-2.06.94zm10 10l.94 2.06.94-2.06 2.06-.94-2.06-.94-.94-2.06-.94 2.06-2.06.94z\"/><path d=\"M17.41 7.96l-1.37-1.37c-.4-.4-.92-.59-1.43-.59-.52 0-1.04.2-1.43.59L10.3 9.45l-7.72 7.72c-.78.78-.78 2.05 0 2.83L4 21.41c.39.39.9.59 1.41.59.51 0 1.02-.2 1.41-.59l7.78-7.78 2.81-2.81c.8-.78.8-2.07 0-2.86zM5.41 20L4 18.59l7.72-7.72 1.47 1.35L5.41 20z\"/>\n",
              "  </svg>\n",
              "      </button>\n",
              "      \n",
              "  <style>\n",
              "    .colab-df-container {\n",
              "      display:flex;\n",
              "      flex-wrap:wrap;\n",
              "      gap: 12px;\n",
              "    }\n",
              "\n",
              "    .colab-df-convert {\n",
              "      background-color: #E8F0FE;\n",
              "      border: none;\n",
              "      border-radius: 50%;\n",
              "      cursor: pointer;\n",
              "      display: none;\n",
              "      fill: #1967D2;\n",
              "      height: 32px;\n",
              "      padding: 0 0 0 0;\n",
              "      width: 32px;\n",
              "    }\n",
              "\n",
              "    .colab-df-convert:hover {\n",
              "      background-color: #E2EBFA;\n",
              "      box-shadow: 0px 1px 2px rgba(60, 64, 67, 0.3), 0px 1px 3px 1px rgba(60, 64, 67, 0.15);\n",
              "      fill: #174EA6;\n",
              "    }\n",
              "\n",
              "    [theme=dark] .colab-df-convert {\n",
              "      background-color: #3B4455;\n",
              "      fill: #D2E3FC;\n",
              "    }\n",
              "\n",
              "    [theme=dark] .colab-df-convert:hover {\n",
              "      background-color: #434B5C;\n",
              "      box-shadow: 0px 1px 3px 1px rgba(0, 0, 0, 0.15);\n",
              "      filter: drop-shadow(0px 1px 2px rgba(0, 0, 0, 0.3));\n",
              "      fill: #FFFFFF;\n",
              "    }\n",
              "  </style>\n",
              "\n",
              "      <script>\n",
              "        const buttonEl =\n",
              "          document.querySelector('#df-1e2670bb-ed3d-4cdd-a6f6-5d061268e243 button.colab-df-convert');\n",
              "        buttonEl.style.display =\n",
              "          google.colab.kernel.accessAllowed ? 'block' : 'none';\n",
              "\n",
              "        async function convertToInteractive(key) {\n",
              "          const element = document.querySelector('#df-1e2670bb-ed3d-4cdd-a6f6-5d061268e243');\n",
              "          const dataTable =\n",
              "            await google.colab.kernel.invokeFunction('convertToInteractive',\n",
              "                                                     [key], {});\n",
              "          if (!dataTable) return;\n",
              "\n",
              "          const docLinkHtml = 'Like what you see? Visit the ' +\n",
              "            '<a target=\"_blank\" href=https://colab.research.google.com/notebooks/data_table.ipynb>data table notebook</a>'\n",
              "            + ' to learn more about interactive tables.';\n",
              "          element.innerHTML = '';\n",
              "          dataTable['output_type'] = 'display_data';\n",
              "          await google.colab.output.renderOutput(dataTable, element);\n",
              "          const docLink = document.createElement('div');\n",
              "          docLink.innerHTML = docLinkHtml;\n",
              "          element.appendChild(docLink);\n",
              "        }\n",
              "      </script>\n",
              "    </div>\n",
              "  </div>\n",
              "  "
            ]
          },
          "metadata": {},
          "execution_count": 39
        }
      ]
    },
    {
      "cell_type": "code",
      "source": [
        "y=df.iloc[:,-3:]\n",
        "y=np.array(y)#Preparing targets for the model and convert to numpy array to avoid various long and float errors in the future. Also it's faster"
      ],
      "metadata": {
        "id": "e44mxOAYmmeW"
      },
      "execution_count": null,
      "outputs": []
    },
    {
      "cell_type": "code",
      "execution_count": null,
      "metadata": {
        "id": "nVUoRmtHl6p9"
      },
      "outputs": [],
      "source": [
        "x = df.iloc[:, 0:-3]\n",
        "x=np.array(x)"
      ]
    },
    {
      "cell_type": "code",
      "source": [
        "# First, our data is divided into train+val - test\n",
        "X_trainval, X_test, y_trainval, y_test = train_test_split(x, y, test_size=0.2, random_state=69)\n",
        "\n",
        "# \"then, the train and validation data are also divided among themselves\n",
        "X_train, X_val, y_train, y_val = train_test_split(X_trainval, y_trainval, test_size=0.1, random_state=21)"
      ],
      "metadata": {
        "id": "i0LgMFeppZsS"
      },
      "execution_count": null,
      "outputs": []
    },
    {
      "cell_type": "code",
      "source": [
        "#preparing the divided data for scaling.,\n",
        "scaler = MinMaxScaler()\n",
        "X_train = scaler.fit_transform(X_train)\n",
        "X_val = scaler.transform(X_val)\n",
        "X_test = scaler.transform(X_test)\n",
        "X_train, y_train = np.array(X_train), np.array(y_train)\n",
        "X_val, y_val = np.array(X_val), np.array(y_val)\n",
        "X_test, y_test = np.array(X_test), np.array(y_test)"
      ],
      "metadata": {
        "id": "QiUPDb-CpfSk"
      },
      "execution_count": null,
      "outputs": []
    },
    {
      "cell_type": "code",
      "source": [
        "#preparing mini batches\n",
        "class MultiDataset(Dataset):\n",
        "    def __init__(self, x, y):\n",
        "        self.x = x\n",
        "        self.y = y\n",
        "        \n",
        "    def __len__(self):\n",
        "        return len(self.x)\n",
        "    \n",
        "    def __getitem__(self, index):\n",
        "        features = self.x[index, :]\n",
        "        labels = self.y[index, :]\n",
        "        \n",
        "        features = torch.tensor(features, dtype=torch.float32)\n",
        "        label1 = torch.tensor(labels[0], dtype=torch.long)\n",
        "        label2 = torch.tensor(labels[1], dtype=torch.long)\n",
        "        label3 = torch.tensor(labels[2], dtype=torch.long)\n",
        "        return {\n",
        "            'features': features,\n",
        "            'label1': label1,\n",
        "            'label2': label2,\n",
        "            'label3': label3,  }\n",
        "\n",
        "# dataset\n",
        "train_dataset = MultiDataset(X_train, y_train)\n",
        "val_dataset= MultiDataset(X_train, y_train)\n",
        "test_dataset = MultiDataset(X_val, y_val)\n",
        "#data loader\n",
        "train_dataloader = DataLoader(train_dataset, shuffle=True, batch_size=16)\n",
        "val_dataloader = DataLoader(val_dataset, shuffle=True, batch_size=16)\n",
        "test_dataloader = DataLoader(test_dataset, shuffle=False, batch_size=1)"
      ],
      "metadata": {
        "id": "d5vp05pnnfJd"
      },
      "execution_count": null,
      "outputs": []
    },
    {
      "cell_type": "code",
      "source": [
        "class MultiLabelMultiCategory(nn.Module):\n",
        "    def __init__(self):\n",
        "        super(MultiLabelMultiCategory, self).__init__()\n",
        "        self.layer_1 = nn.Linear(4, 512)#We are inputting four variables into the neural network\n",
        "        self.layer_2 = nn.Linear(512, 128)\n",
        "        self.layer_3 = nn.Linear(128, 64)\n",
        "        self.out1 = nn.Linear(64, 6)\n",
        "        self.out2 = nn.Linear(64, 19)#We are adjusting the output dim according to the class of the labels. \n",
        "        self.out3 = nn.Linear(64, 7) \n",
        "        self.relu = nn.ReLU()\n",
        "        self.dropout = nn.Dropout(p=0.2)\n",
        "        self.batchnorm1 = nn.BatchNorm1d(512)\n",
        "        self.batchnorm2 = nn.BatchNorm1d(128)\n",
        "        self.batchnorm3 = nn.BatchNorm1d(64)\n",
        "        #I used dropout and batch normalization to reduce overfitting\n",
        "\n",
        "    def forward(self, x):\n",
        "        x = self.layer_1(x)\n",
        "        x = self.batchnorm1(x)\n",
        "        x = self.relu(x)\n",
        "        \n",
        "        x = self.layer_2(x)\n",
        "        x = self.batchnorm2(x)\n",
        "        x = self.relu(x)\n",
        "        x = self.dropout(x)\n",
        "        \n",
        "        x = self.layer_3(x)\n",
        "        x = self.batchnorm3(x)\n",
        "        x = self.relu(x)\n",
        "        x = self.dropout(x)\n",
        "        \n",
        "        out1 = F.softmax(self.out1(x))\n",
        "        out2 = F.softmax(self.out2(x))\n",
        "        out3 = F.softmax(self.out3(x))\n",
        "        #Even though there is only one input, we are making separate outputs for each label.\n",
        "\n",
        "        return out1, out2, out3"
      ],
      "metadata": {
        "id": "Fv-DU62lonxt"
      },
      "execution_count": null,
      "outputs": []
    },
    {
      "cell_type": "code",
      "source": [
        "#We need to update the loss function for 3 labels.\n",
        "def multi_category_loss_fn(outputs, targets):\n",
        "    o1, o2, o3 = outputs\n",
        "    t1, t2, t3 = targets\n",
        "    l1 = nn.CrossEntropyLoss()(o1, t1)#As we are working on multi-class, we will use cross-entropy loss\n",
        "    l2 = nn.CrossEntropyLoss()(o2, t2)\n",
        "    l3 = nn.CrossEntropyLoss()(o3, t3)\n",
        "    return (l1 + l2 + l3 ) / 3 "
      ],
      "metadata": {
        "id": "wS5AnkkwpGq1"
      },
      "execution_count": null,
      "outputs": []
    },
    {
      "cell_type": "code",
      "source": [
        "#To measure the efficiency of our model during training and testing, I will define a function beforehand.\n",
        "def multi_acc(outputs, targets):\n",
        "    correct = 0\n",
        "    for i in range(len(outputs)):\n",
        "        pred = outputs[i].argmax(dim=1)\n",
        "        correct += (pred == targets[i]).sum().item()\n",
        "    acc = (correct / len(outputs)) * 100\n",
        "    return acc"
      ],
      "metadata": {
        "id": "veQYxr-WyKdh"
      },
      "execution_count": null,
      "outputs": []
    },
    {
      "cell_type": "code",
      "source": [
        "# training function\n",
        "def train(model,EPOCHS,optimizer,train_loader,val_loader,criterion,device,multi_acc):\n",
        "      accuracy_stats = {'train': [],\"val\": []}\n",
        "      loss_stats = {'train': [],\"val\": []}##I will use a dictionary to monitor loss and accurancy changes more easily.\n",
        "      for e in tqdm(range(EPOCHS)):\n",
        "        train_epoch_loss = 0\n",
        "        train_epoch_acc = 0\n",
        "        model.train()\n",
        "        for i, data in enumerate(train_loader):\n",
        "\n",
        "          features = data['features'].to(device)\n",
        "          t_target1 = data['label1'].to(device)\n",
        "          t_target2 = data['label2'].to(device)\n",
        "          t_target3 = data['label3'].to(device)\n",
        "        \n",
        "          optimizer.zero_grad()\n",
        "        \n",
        "          train_outputs = model(features)\n",
        "          train_targets = (t_target1, t_target2, t_target3)\n",
        "          tr_loss = criterion(train_outputs, train_targets)\n",
        "          train_acc = multi_acc(train_outputs, train_targets)\n",
        "          \n",
        "#The training process is a standard PyTorch training code. \n",
        "#The only difference is that we calculate the loss separately for 3 labels and perform backpropagation accordingly.\n",
        "        \n",
        "          tr_loss.backward()\n",
        "          optimizer.step()\n",
        "          train_epoch_loss += tr_loss.item()\n",
        "          train_epoch_acc += train_acc\n",
        "\n",
        "        with torch.no_grad():\n",
        "          val_epoch_loss = 0\n",
        "          val_epoch_acc = 0\n",
        "          model.eval()\n",
        "          for i, data in enumerate(val_loader):\n",
        "            \n",
        "            features = data['features'].to(device)\n",
        "            v_target1 = data['label1'].to(device)\n",
        "            v_target2 = data['label2'].to(device)\n",
        "            v_target3 = data['label3'].to(device)\n",
        "\n",
        "            val_outputs = model(features)\n",
        "            val_targets = (v_target1, v_target2, v_target3)\n",
        "            val_loss = criterion(val_outputs, val_targets)\n",
        "            val_acc = multi_acc(val_outputs, val_targets)\n",
        "\n",
        "            val_epoch_loss += val_loss.item()\n",
        "            val_epoch_acc += val_acc\n",
        "        loss_stats['train'].append(train_epoch_loss/len(train_loader))\n",
        "        loss_stats['val'].append(val_epoch_loss/len(val_loader))\n",
        "        accuracy_stats['train'].append(train_epoch_acc/len(train_loader))\n",
        "        accuracy_stats['val'].append(val_epoch_acc/len(val_loader))\n",
        "    \n",
        "      return accuracy_stats, loss_stats\n"
      ],
      "metadata": {
        "id": "1WbwKuEsppOw"
      },
      "execution_count": null,
      "outputs": []
    },
    {
      "cell_type": "code",
      "source": [
        "model = MultiLabelMultiCategory()\n",
        "optimizer = optim.Adam(params=model.parameters(), lr=0.001)\n",
        "device = torch.device('cuda' if torch.cuda.is_available() else 'cpu')\n",
        "epochs = 100\n",
        "model.to(device)\n",
        "# start the training\n",
        "print(\"Begin training.\")\n",
        "accuracy_stats,loss_stats=train(model,epochs,optimizer,train_dataloader,val_dataloader,multi_category_loss_fn,device,multi_acc)"
      ],
      "metadata": {
        "colab": {
          "base_uri": "https://localhost:8080/",
          "height": 275,
          "referenced_widgets": [
            "4e3be4a1a38d4f5c92627b4bf8adf6c0",
            "500a78d6952549f990f52abdb47b5c37",
            "08125672924f4f3ea717c6ab7e53f067",
            "ed9d13c3a7334664b7636edf14f9080c",
            "1ab193e037944303ac77b952ec1d236c",
            "c59453c6a479460ab89e11e349976744",
            "3bdefba94a074f9f8ba7bf0b60784b6f",
            "5eb550745d3943158b5ed9daaa2073f0",
            "12c9af9bca08455e832dd91d66528a6c",
            "84500256335c44f180e7b515dc83d0df",
            "72146b347cd94760998557f984d58ee5"
          ]
        },
        "id": "VWRvCX0-pp6A",
        "outputId": "4199a3b1-a1cc-456a-f0b2-a2f498fd1a85"
      },
      "execution_count": null,
      "outputs": [
        {
          "output_type": "stream",
          "name": "stdout",
          "text": [
            "Begin training.\n"
          ]
        },
        {
          "output_type": "display_data",
          "data": {
            "text/plain": [
              "  0%|          | 0/100 [00:00<?, ?it/s]"
            ],
            "application/vnd.jupyter.widget-view+json": {
              "version_major": 2,
              "version_minor": 0,
              "model_id": "4e3be4a1a38d4f5c92627b4bf8adf6c0"
            }
          },
          "metadata": {}
        },
        {
          "output_type": "stream",
          "name": "stderr",
          "text": [
            "<ipython-input-45-18097e228d3d>:32: UserWarning:\n",
            "\n",
            "Implicit dimension choice for softmax has been deprecated. Change the call to include dim=X as an argument.\n",
            "\n",
            "<ipython-input-45-18097e228d3d>:33: UserWarning:\n",
            "\n",
            "Implicit dimension choice for softmax has been deprecated. Change the call to include dim=X as an argument.\n",
            "\n",
            "<ipython-input-45-18097e228d3d>:34: UserWarning:\n",
            "\n",
            "Implicit dimension choice for softmax has been deprecated. Change the call to include dim=X as an argument.\n",
            "\n"
          ]
        }
      ]
    },
    {
      "cell_type": "code",
      "source": [
        "# Plotting accuracy and loss for train and validation per epoch\n",
        "train_val_acc_df = pd.DataFrame.from_dict(accuracy_stats).reset_index().melt(id_vars=['index']).rename(columns={\"index\":\"epochs\"})\n",
        "train_val_loss_df = pd.DataFrame.from_dict(loss_stats).reset_index().melt(id_vars=['index']).rename(columns={\"index\":\"epochs\"})\n",
        "\n",
        "fig, axes = plt.subplots(nrows=1, ncols=2, figsize=(20,7))\n",
        "sns.lineplot(data=train_val_acc_df, x = \"epochs\", y=\"value\", hue=\"variable\",  ax=axes[0]).set_title('Train-Val Accuracy/Epoch')\n",
        "sns.lineplot(data=train_val_loss_df, x = \"epochs\", y=\"value\", hue=\"variable\", ax=axes[1]).set_title('Train-Val Loss/Epoch')"
      ],
      "metadata": {
        "colab": {
          "base_uri": "https://localhost:8080/",
          "height": 475
        },
        "id": "Pg8PJ7oqBxF_",
        "outputId": "e3ef86d7-cdd6-4caf-d4e1-1cc046c3f103"
      },
      "execution_count": null,
      "outputs": [
        {
          "output_type": "execute_result",
          "data": {
            "text/plain": [
              "Text(0.5, 1.0, 'Train-Val Loss/Epoch')"
            ]
          },
          "metadata": {},
          "execution_count": 50
        },
        {
          "output_type": "display_data",
          "data": {
            "text/plain": [
              "<Figure size 1440x504 with 2 Axes>"
            ],
            "image/png": "[encoded data removed]"
          },
          "metadata": {
            "needs_background": "light"
          }
        }
      ]
    },
    {
      "cell_type": "code",
      "source": [
        "\n",
        "# an empty list to store the predicted labels\n",
        "predicted_labels = []\n",
        "# an empty list to store the true labels\n",
        "true_labels = []\n",
        "\n",
        "# Iterate over the test dataloader\n",
        "for i, test_sample in enumerate(test_dataloader):\n",
        "    # extract the features and labels\n",
        "    test_features = test_sample['features'].to(device)\n",
        "    test_target1 = test_sample['label1'].to(device)\n",
        "    test_target2 = test_sample['label2'].to(device)\n",
        "    test_target3 = test_sample['label3'].to(device)\n",
        "    \n",
        "    test_outputs = model(test_features)\n",
        "            \n",
        "    # get all the output labels\n",
        "    for out in test_outputs:\n",
        "        predicted_labels.append(int(np.argmax(out.detach().cpu())))\n",
        "        \n",
        "    targets = (test_target1, test_target2, test_target3)\n",
        "    # get all the targets in int format from tensor format\n",
        "    for target in targets:\n",
        "        true_labels.append(int(target.squeeze(0).detach().cpu()))"
      ],
      "metadata": {
        "colab": {
          "base_uri": "https://localhost:8080/"
        },
        "id": "Eh_lOLYGyTO-",
        "outputId": "c717b9f0-8290-43ef-9ed0-af0afcbbaddb"
      },
      "execution_count": null,
      "outputs": [
        {
          "output_type": "stream",
          "name": "stderr",
          "text": [
            "<ipython-input-45-18097e228d3d>:32: UserWarning:\n",
            "\n",
            "Implicit dimension choice for softmax has been deprecated. Change the call to include dim=X as an argument.\n",
            "\n",
            "<ipython-input-45-18097e228d3d>:33: UserWarning:\n",
            "\n",
            "Implicit dimension choice for softmax has been deprecated. Change the call to include dim=X as an argument.\n",
            "\n",
            "<ipython-input-45-18097e228d3d>:34: UserWarning:\n",
            "\n",
            "Implicit dimension choice for softmax has been deprecated. Change the call to include dim=X as an argument.\n",
            "\n"
          ]
        }
      ]
    },
    {
      "cell_type": "code",
      "source": [
        "#Printing accuracy score\n",
        "print(accuracy_score(true_labels, predicted_labels))"
      ],
      "metadata": {
        "colab": {
          "base_uri": "https://localhost:8080/"
        },
        "id": "a7fUKwf0E8aG",
        "outputId": "5991cf5c-b217-4c61-eb86-600198557bc8"
      },
      "execution_count": null,
      "outputs": [
        {
          "output_type": "stream",
          "name": "stdout",
          "text": [
            "0.9\n"
          ]
        }
      ]
    },
    {
      "cell_type": "code",
      "source": [
        "# Creating confusion matrix\n",
        "sns.heatmap(confusion_matrix(true_labels, predicted_labels), annot=True, fmt='d')"
      ],
      "metadata": {
        "colab": {
          "base_uri": "https://localhost:8080/",
          "height": 282
        },
        "id": "-6S0gB_gIJz_",
        "outputId": "523a7b48-2287-4aae-ccff-604c4de8316d"
      },
      "execution_count": null,
      "outputs": [
        {
          "output_type": "execute_result",
          "data": {
            "text/plain": [
              "<matplotlib.axes._subplots.AxesSubplot at 0x7fb0dd011e20>"
            ]
          },
          "metadata": {},
          "execution_count": 53
        },
        {
          "output_type": "display_data",
          "data": {
            "text/plain": [
              "<Figure size 432x288 with 2 Axes>"
            ],
            "image/png": "[encoded data removed]"
          },
          "metadata": {
            "needs_background": "light"
          }
        }
      ]
    },
    {
      "cell_type": "code",
      "source": [
        "#Classification report from matrix\n",
        "print(classification_report(true_labels, predicted_labels))"
      ],
      "metadata": {
        "colab": {
          "base_uri": "https://localhost:8080/"
        },
        "id": "BP5AyQ_gIqW8",
        "outputId": "0342b09b-38fa-4c09-d82b-0be5775e6144"
      },
      "execution_count": null,
      "outputs": [
        {
          "output_type": "stream",
          "name": "stdout",
          "text": [
            "              precision    recall  f1-score   support\n",
            "\n",
            "           0       0.93      1.00      0.96        13\n",
            "           1       1.00      0.83      0.91         6\n",
            "           2       0.67      0.67      0.67         3\n",
            "           3       0.80      1.00      0.89         4\n",
            "           4       1.00      0.60      0.75         5\n",
            "           5       1.00      1.00      1.00        12\n",
            "           6       0.83      0.83      0.83         6\n",
            "           8       0.00      0.00      0.00         1\n",
            "          10       1.00      1.00      1.00        10\n",
            "          17       0.00      0.00      0.00         0\n",
            "\n",
            "    accuracy                           0.90        60\n",
            "   macro avg       0.72      0.69      0.70        60\n",
            "weighted avg       0.92      0.90      0.90        60\n",
            "\n"
          ]
        },
        {
          "output_type": "stream",
          "name": "stderr",
          "text": [
            "/usr/local/lib/python3.8/dist-packages/sklearn/metrics/_classification.py:1318: UndefinedMetricWarning:\n",
            "\n",
            "Precision and F-score are ill-defined and being set to 0.0 in labels with no predicted samples. Use `zero_division` parameter to control this behavior.\n",
            "\n",
            "/usr/local/lib/python3.8/dist-packages/sklearn/metrics/_classification.py:1318: UndefinedMetricWarning:\n",
            "\n",
            "Recall and F-score are ill-defined and being set to 0.0 in labels with no true samples. Use `zero_division` parameter to control this behavior.\n",
            "\n",
            "/usr/local/lib/python3.8/dist-packages/sklearn/metrics/_classification.py:1318: UndefinedMetricWarning:\n",
            "\n",
            "Precision and F-score are ill-defined and being set to 0.0 in labels with no predicted samples. Use `zero_division` parameter to control this behavior.\n",
            "\n",
            "/usr/local/lib/python3.8/dist-packages/sklearn/metrics/_classification.py:1318: UndefinedMetricWarning:\n",
            "\n",
            "Recall and F-score are ill-defined and being set to 0.0 in labels with no true samples. Use `zero_division` parameter to control this behavior.\n",
            "\n",
            "/usr/local/lib/python3.8/dist-packages/sklearn/metrics/_classification.py:1318: UndefinedMetricWarning:\n",
            "\n",
            "Precision and F-score are ill-defined and being set to 0.0 in labels with no predicted samples. Use `zero_division` parameter to control this behavior.\n",
            "\n",
            "/usr/local/lib/python3.8/dist-packages/sklearn/metrics/_classification.py:1318: UndefinedMetricWarning:\n",
            "\n",
            "Recall and F-score are ill-defined and being set to 0.0 in labels with no true samples. Use `zero_division` parameter to control this behavior.\n",
            "\n"
          ]
        }
      ]
    },
    {
      "cell_type": "markdown",
      "source": [
        "Despite having limited data, our model has performed quite efficiently and made continuous accurate predictions. This can be seen in both the train-val accuracy & loss graphs and the accuracy score. When we look at the confusion matrix, all densities are distributed diagonally. There were 54 correct predictions and only 6 errors. By looking at the high recall and precision values in the classification report, we can confirm this situation.\n",
        "\n",
        "*Thanks for your time*"
      ],
      "metadata": {
        "id": "8zl3wgetpIsX"
      }
    }
  ],
  "metadata": {
    "colab": {
      "provenance": [],
      "authorship_tag": "ABX9TyPb45LDQxrqBKT0NFipRXTQ",
      "include_colab_link": true
    },
    "gpuClass": "standard",
    "kernelspec": {
      "display_name": "Python 3",
      "name": "python3"
    },
    "language_info": {
      "name": "python"
    },
    "widgets": {
      "application/vnd.jupyter.widget-state+json": {
        "4e3be4a1a38d4f5c92627b4bf8adf6c0": {
          "model_module": "@jupyter-widgets/controls",
          "model_name": "HBoxModel",
          "model_module_version": "1.5.0",
          "state": {
            "_dom_classes": [],
            "_model_module": "@jupyter-widgets/controls",
            "_model_module_version": "1.5.0",
            "_model_name": "HBoxModel",
            "_view_count": null,
            "_view_module": "@jupyter-widgets/controls",
            "_view_module_version": "1.5.0",
            "_view_name": "HBoxView",
            "box_style": "",
            "children": [
              "IPY_MODEL_500a78d6952549f990f52abdb47b5c37",
              "IPY_MODEL_08125672924f4f3ea717c6ab7e53f067",
              "IPY_MODEL_ed9d13c3a7334664b7636edf14f9080c"
            ],
            "layout": "IPY_MODEL_1ab193e037944303ac77b952ec1d236c"
          }
        },
        "500a78d6952549f990f52abdb47b5c37": {
          "model_module": "@jupyter-widgets/controls",
          "model_name": "HTMLModel",
          "model_module_version": "1.5.0",
          "state": {
            "_dom_classes": [],
            "_model_module": "@jupyter-widgets/controls",
            "_model_module_version": "1.5.0",
            "_model_name": "HTMLModel",
            "_view_count": null,
            "_view_module": "@jupyter-widgets/controls",
            "_view_module_version": "1.5.0",
            "_view_name": "HTMLView",
            "description": "",
            "description_tooltip": null,
            "layout": "IPY_MODEL_c59453c6a479460ab89e11e349976744",
            "placeholder": "​",
            "style": "IPY_MODEL_3bdefba94a074f9f8ba7bf0b60784b6f",
            "value": "100%"
          }
        },
        "08125672924f4f3ea717c6ab7e53f067": {
          "model_module": "@jupyter-widgets/controls",
          "model_name": "FloatProgressModel",
          "model_module_version": "1.5.0",
          "state": {
            "_dom_classes": [],
            "_model_module": "@jupyter-widgets/controls",
            "_model_module_version": "1.5.0",
            "_model_name": "FloatProgressModel",
            "_view_count": null,
            "_view_module": "@jupyter-widgets/controls",
            "_view_module_version": "1.5.0",
            "_view_name": "ProgressView",
            "bar_style": "success",
            "description": "",
            "description_tooltip": null,
            "layout": "IPY_MODEL_5eb550745d3943158b5ed9daaa2073f0",
            "max": 100,
            "min": 0,
            "orientation": "horizontal",
            "style": "IPY_MODEL_12c9af9bca08455e832dd91d66528a6c",
            "value": 100
          }
        },
        "ed9d13c3a7334664b7636edf14f9080c": {
          "model_module": "@jupyter-widgets/controls",
          "model_name": "HTMLModel",
          "model_module_version": "1.5.0",
          "state": {
            "_dom_classes": [],
            "_model_module": "@jupyter-widgets/controls",
            "_model_module_version": "1.5.0",
            "_model_name": "HTMLModel",
            "_view_count": null,
            "_view_module": "@jupyter-widgets/controls",
            "_view_module_version": "1.5.0",
            "_view_name": "HTMLView",
            "description": "",
            "description_tooltip": null,
            "layout": "IPY_MODEL_84500256335c44f180e7b515dc83d0df",
            "placeholder": "​",
            "style": "IPY_MODEL_72146b347cd94760998557f984d58ee5",
            "value": " 100/100 [00:10&lt;00:00, 18.27it/s]"
          }
        },
        "1ab193e037944303ac77b952ec1d236c": {
          "model_module": "@jupyter-widgets/base",
          "model_name": "LayoutModel",
          "model_module_version": "1.2.0",
          "state": {
            "_model_module": "@jupyter-widgets/base",
            "_model_module_version": "1.2.0",
            "_model_name": "LayoutModel",
            "_view_count": null,
            "_view_module": "@jupyter-widgets/base",
            "_view_module_version": "1.2.0",
            "_view_name": "LayoutView",
            "align_content": null,
            "align_items": null,
            "align_self": null,
            "border": null,
            "bottom": null,
            "display": null,
            "flex": null,
            "flex_flow": null,
            "grid_area": null,
            "grid_auto_columns": null,
            "grid_auto_flow": null,
            "grid_auto_rows": null,
            "grid_column": null,
            "grid_gap": null,
            "grid_row": null,
            "grid_template_areas": null,
            "grid_template_columns": null,
            "grid_template_rows": null,
            "height": null,
            "justify_content": null,
            "justify_items": null,
            "left": null,
            "margin": null,
            "max_height": null,
            "max_width": null,
            "min_height": null,
            "min_width": null,
            "object_fit": null,
            "object_position": null,
            "order": null,
            "overflow": null,
            "overflow_x": null,
            "overflow_y": null,
            "padding": null,
            "right": null,
            "top": null,
            "visibility": null,
            "width": null
          }
        },
        "c59453c6a479460ab89e11e349976744": {
          "model_module": "@jupyter-widgets/base",
          "model_name": "LayoutModel",
          "model_module_version": "1.2.0",
          "state": {
            "_model_module": "@jupyter-widgets/base",
            "_model_module_version": "1.2.0",
            "_model_name": "LayoutModel",
            "_view_count": null,
            "_view_module": "@jupyter-widgets/base",
            "_view_module_version": "1.2.0",
            "_view_name": "LayoutView",
            "align_content": null,
            "align_items": null,
            "align_self": null,
            "border": null,
            "bottom": null,
            "display": null,
            "flex": null,
            "flex_flow": null,
            "grid_area": null,
            "grid_auto_columns": null,
            "grid_auto_flow": null,
            "grid_auto_rows": null,
            "grid_column": null,
            "grid_gap": null,
            "grid_row": null,
            "grid_template_areas": null,
            "grid_template_columns": null,
            "grid_template_rows": null,
            "height": null,
            "justify_content": null,
            "justify_items": null,
            "left": null,
            "margin": null,
            "max_height": null,
            "max_width": null,
            "min_height": null,
            "min_width": null,
            "object_fit": null,
            "object_position": null,
            "order": null,
            "overflow": null,
            "overflow_x": null,
            "overflow_y": null,
            "padding": null,
            "right": null,
            "top": null,
            "visibility": null,
            "width": null
          }
        },
        "3bdefba94a074f9f8ba7bf0b60784b6f": {
          "model_module": "@jupyter-widgets/controls",
          "model_name": "DescriptionStyleModel",
          "model_module_version": "1.5.0",
          "state": {
            "_model_module": "@jupyter-widgets/controls",
            "_model_module_version": "1.5.0",
            "_model_name": "DescriptionStyleModel",
            "_view_count": null,
            "_view_module": "@jupyter-widgets/base",
            "_view_module_version": "1.2.0",
            "_view_name": "StyleView",
            "description_width": ""
          }
        },
        "5eb550745d3943158b5ed9daaa2073f0": {
          "model_module": "@jupyter-widgets/base",
          "model_name": "LayoutModel",
          "model_module_version": "1.2.0",
          "state": {
            "_model_module": "@jupyter-widgets/base",
            "_model_module_version": "1.2.0",
            "_model_name": "LayoutModel",
            "_view_count": null,
            "_view_module": "@jupyter-widgets/base",
            "_view_module_version": "1.2.0",
            "_view_name": "LayoutView",
            "align_content": null,
            "align_items": null,
            "align_self": null,
            "border": null,
            "bottom": null,
            "display": null,
            "flex": null,
            "flex_flow": null,
            "grid_area": null,
            "grid_auto_columns": null,
            "grid_auto_flow": null,
            "grid_auto_rows": null,
            "grid_column": null,
            "grid_gap": null,
            "grid_row": null,
            "grid_template_areas": null,
            "grid_template_columns": null,
            "grid_template_rows": null,
            "height": null,
            "justify_content": null,
            "justify_items": null,
            "left": null,
            "margin": null,
            "max_height": null,
            "max_width": null,
            "min_height": null,
            "min_width": null,
            "object_fit": null,
            "object_position": null,
            "order": null,
            "overflow": null,
            "overflow_x": null,
            "overflow_y": null,
            "padding": null,
            "right": null,
            "top": null,
            "visibility": null,
            "width": null
          }
        },
        "12c9af9bca08455e832dd91d66528a6c": {
          "model_module": "@jupyter-widgets/controls",
          "model_name": "ProgressStyleModel",
          "model_module_version": "1.5.0",
          "state": {
            "_model_module": "@jupyter-widgets/controls",
            "_model_module_version": "1.5.0",
            "_model_name": "ProgressStyleModel",
            "_view_count": null,
            "_view_module": "@jupyter-widgets/base",
            "_view_module_version": "1.2.0",
            "_view_name": "StyleView",
            "bar_color": null,
            "description_width": ""
          }
        },
        "84500256335c44f180e7b515dc83d0df": {
          "model_module": "@jupyter-widgets/base",
          "model_name": "LayoutModel",
          "model_module_version": "1.2.0",
          "state": {
            "_model_module": "@jupyter-widgets/base",
            "_model_module_version": "1.2.0",
            "_model_name": "LayoutModel",
            "_view_count": null,
            "_view_module": "@jupyter-widgets/base",
            "_view_module_version": "1.2.0",
            "_view_name": "LayoutView",
            "align_content": null,
            "align_items": null,
            "align_self": null,
            "border": null,
            "bottom": null,
            "display": null,
            "flex": null,
            "flex_flow": null,
            "grid_area": null,
            "grid_auto_columns": null,
            "grid_auto_flow": null,
            "grid_auto_rows": null,
            "grid_column": null,
            "grid_gap": null,
            "grid_row": null,
            "grid_template_areas": null,
            "grid_template_columns": null,
            "grid_template_rows": null,
            "height": null,
            "justify_content": null,
            "justify_items": null,
            "left": null,
            "margin": null,
            "max_height": null,
            "max_width": null,
            "min_height": null,
            "min_width": null,
            "object_fit": null,
            "object_position": null,
            "order": null,
            "overflow": null,
            "overflow_x": null,
            "overflow_y": null,
            "padding": null,
            "right": null,
            "top": null,
            "visibility": null,
            "width": null
          }
        },
        "72146b347cd94760998557f984d58ee5": {
          "model_module": "@jupyter-widgets/controls",
          "model_name": "DescriptionStyleModel",
          "model_module_version": "1.5.0",
          "state": {
            "_model_module": "@jupyter-widgets/controls",
            "_model_module_version": "1.5.0",
            "_model_name": "DescriptionStyleModel",
            "_view_count": null,
            "_view_module": "@jupyter-widgets/base",
            "_view_module_version": "1.2.0",
            "_view_name": "StyleView",
            "description_width": ""
          }
        }
      }
    }
  },
  "nbformat": 4,
  "nbformat_minor": 0
}